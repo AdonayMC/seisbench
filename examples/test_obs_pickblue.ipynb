{
 "cells": [
  {
   "cell_type": "code",
   "execution_count": 1,
   "outputs": [],
   "source": [
    "import seisbench.data as sbd"
   ],
   "metadata": {
    "collapsed": false,
    "pycharm": {
     "name": "#%%\n"
    }
   }
  },
  {
   "cell_type": "code",
   "execution_count": 2,
   "outputs": [
    {
     "name": "stderr",
     "output_type": "stream",
     "text": [
      "2022-09-30 11:49:47,240 | seisbench | WARNING | Dataset OBS not in cache.\n",
      "2022-09-30 11:49:47,241 | seisbench | WARNING | Dataset OBS not in SeisBench repository. Starting download and conversion from source.\n",
      "2022-09-30 11:49:47,243 | seisbench | WARNING | Downloading files to SeisBench cache /home/thomas/.seisbench/datasets/obs. This might take a while.\n",
      "Downloading chunks: 100%|██████████| 119/119 [00:00<00:00, 34.3kB/s]\n",
      "Downloading chunks: 100%|██████████| 37.6M/37.6M [00:00<00:00, 113MB/s]\n",
      "Downloading chunks: 100%|██████████| 276k/276k [00:00<00:00, 41.7MB/s]\n",
      "Downloading chunks: 100%|██████████| 692k/692k [00:00<00:00, 20.2MB/s]\n",
      "Downloading chunks: 100%|██████████| 1.15M/1.15M [00:00<00:00, 20.4MB/s]\n",
      "Downloading chunks: 100%|██████████| 1.61M/1.61M [00:00<00:00, 19.3MB/s]\n",
      "Downloading chunks: 100%|██████████| 693k/693k [00:00<00:00, 59.0MB/s]\n",
      "Downloading chunks: 100%|██████████| 1.22M/1.22M [00:00<00:00, 11.0MB/s]\n",
      "Downloading chunks: 100%|██████████| 842k/842k [00:00<00:00, 23.0MB/s]\n",
      "Downloading chunks: 100%|██████████| 936k/936k [00:00<00:00, 11.2MB/s]\n",
      "Downloading chunks: 100%|██████████| 1.20M/1.20M [00:00<00:00, 11.2MB/s]\n",
      "Downloading chunks: 100%|██████████| 1.17M/1.17M [00:00<00:00, 18.9MB/s]\n",
      "Downloading chunks: 100%|██████████| 1.49M/1.49M [00:00<00:00, 28.8MB/s]\n",
      "Downloading chunks: 100%|██████████| 1.85M/1.85M [00:00<00:00, 18.0MB/s]\n",
      "Downloading chunks: 100%|██████████| 1.57M/1.57M [00:00<00:00, 30.0MB/s]\n",
      "Downloading chunks: 100%|██████████| 1.41M/1.41M [00:00<00:00, 14.4MB/s]\n",
      "Downloading chunks: 100%|██████████| 1.70M/1.70M [00:00<00:00, 18.5MB/s]\n",
      "Downloading chunks: 100%|██████████| 869k/869k [00:00<00:00, 60.8MB/s]\n",
      "Downloading chunks:  12%|█▏        | 1.00G/8.66G [00:17<01:22, 100MB/s] 2022-09-30 11:50:16,197 | seisbench | ERROR | Error in downloading dataset. Saved current progress to /home/thomas/.seisbench/datasets/obs/metadata.csv.partial and /home/thomas/.seisbench/datasets/obs/waveforms.hdf5.partial. Error message:\n",
      "\n"
     ]
    },
    {
     "ename": "KeyboardInterrupt",
     "evalue": "",
     "output_type": "error",
     "traceback": [
      "\u001B[0;31m---------------------------------------------------------------------------\u001B[0m",
      "\u001B[0;31mKeyboardInterrupt\u001B[0m                         Traceback (most recent call last)",
      "Input \u001B[0;32mIn [2]\u001B[0m, in \u001B[0;36m<cell line: 1>\u001B[0;34m()\u001B[0m\n\u001B[0;32m----> 1\u001B[0m obs \u001B[38;5;241m=\u001B[39m \u001B[43msbd\u001B[49m\u001B[38;5;241;43m.\u001B[39;49m\u001B[43mOBS\u001B[49m\u001B[43m(\u001B[49m\u001B[43m)\u001B[49m\n",
      "File \u001B[0;32m~/Repositories/seisbench/seisbench/data/obs.py:15\u001B[0m, in \u001B[0;36mOBS.__init__\u001B[0;34m(self, **kwargs)\u001B[0m\n\u001B[1;32m      9\u001B[0m \u001B[38;5;28;01mdef\u001B[39;00m \u001B[38;5;21m__init__\u001B[39m(\u001B[38;5;28mself\u001B[39m, \u001B[38;5;241m*\u001B[39m\u001B[38;5;241m*\u001B[39mkwargs):\n\u001B[1;32m     11\u001B[0m     citation \u001B[38;5;241m=\u001B[39m (\n\u001B[1;32m     12\u001B[0m         \u001B[38;5;124m\"\u001B[39m\u001B[38;5;124mOBS dataset by Bornstein et al.\u001B[39m\u001B[38;5;124m\"\u001B[39m\n\u001B[1;32m     13\u001B[0m     )\n\u001B[0;32m---> 15\u001B[0m     \u001B[38;5;28;43msuper\u001B[39;49m\u001B[43m(\u001B[49m\u001B[43m)\u001B[49m\u001B[38;5;241;43m.\u001B[39;49m\u001B[38;5;21;43m__init__\u001B[39;49m\u001B[43m(\u001B[49m\u001B[43mcitation\u001B[49m\u001B[38;5;241;43m=\u001B[39;49m\u001B[43mcitation\u001B[49m\u001B[43m,\u001B[49m\u001B[43m \u001B[49m\u001B[38;5;241;43m*\u001B[39;49m\u001B[38;5;241;43m*\u001B[39;49m\u001B[43mkwargs\u001B[49m\u001B[43m)\u001B[49m\n",
      "File \u001B[0;32m~/Repositories/seisbench/seisbench/data/base.py:1794\u001B[0m, in \u001B[0;36mBenchmarkDataset.__init__\u001B[0;34m(self, chunks, citation, license, force, wait_for_file, repository_lookup, download_kwargs, **kwargs)\u001B[0m\n\u001B[1;32m   1788\u001B[0m                 \u001B[38;5;28mself\u001B[39m\u001B[38;5;241m.\u001B[39m_download_dataset(writer, \u001B[38;5;241m*\u001B[39m\u001B[38;5;241m*\u001B[39mtmp_download_args)\n\u001B[1;32m   1790\u001B[0m     files \u001B[38;5;241m=\u001B[39m [\n\u001B[1;32m   1791\u001B[0m         \u001B[38;5;28mself\u001B[39m\u001B[38;5;241m.\u001B[39mpath \u001B[38;5;241m/\u001B[39m \u001B[38;5;124mf\u001B[39m\u001B[38;5;124m\"\u001B[39m\u001B[38;5;124mmetadata\u001B[39m\u001B[38;5;132;01m{\u001B[39;00mchunk\u001B[38;5;132;01m}\u001B[39;00m\u001B[38;5;124m.csv\u001B[39m\u001B[38;5;124m\"\u001B[39m,\n\u001B[1;32m   1792\u001B[0m         \u001B[38;5;28mself\u001B[39m\u001B[38;5;241m.\u001B[39mpath \u001B[38;5;241m/\u001B[39m \u001B[38;5;124mf\u001B[39m\u001B[38;5;124m\"\u001B[39m\u001B[38;5;124mwaveforms\u001B[39m\u001B[38;5;132;01m{\u001B[39;00mchunk\u001B[38;5;132;01m}\u001B[39;00m\u001B[38;5;124m.hdf5\u001B[39m\u001B[38;5;124m\"\u001B[39m,\n\u001B[1;32m   1793\u001B[0m     ]\n\u001B[0;32m-> 1794\u001B[0m     \u001B[43mseisbench\u001B[49m\u001B[38;5;241;43m.\u001B[39;49m\u001B[43mutil\u001B[49m\u001B[38;5;241;43m.\u001B[39;49m\u001B[43mcallback_if_uncached\u001B[49m\u001B[43m(\u001B[49m\n\u001B[1;32m   1795\u001B[0m \u001B[43m        \u001B[49m\u001B[43mfiles\u001B[49m\u001B[43m,\u001B[49m\u001B[43m \u001B[49m\u001B[43mdownload_callback\u001B[49m\u001B[43m,\u001B[49m\u001B[43m \u001B[49m\u001B[43mforce\u001B[49m\u001B[38;5;241;43m=\u001B[39;49m\u001B[43mforce\u001B[49m\u001B[43m,\u001B[49m\u001B[43m \u001B[49m\u001B[43mwait_for_file\u001B[49m\u001B[38;5;241;43m=\u001B[39;49m\u001B[43mwait_for_file\u001B[49m\n\u001B[1;32m   1796\u001B[0m \u001B[43m    \u001B[49m\u001B[43m)\u001B[49m\n\u001B[1;32m   1798\u001B[0m \u001B[38;5;28msuper\u001B[39m()\u001B[38;5;241m.\u001B[39m\u001B[38;5;21m__init__\u001B[39m(path\u001B[38;5;241m=\u001B[39m\u001B[38;5;28;01mNone\u001B[39;00m, name\u001B[38;5;241m=\u001B[39m\u001B[38;5;28mself\u001B[39m\u001B[38;5;241m.\u001B[39m_name_internal(), chunks\u001B[38;5;241m=\u001B[39mchunks, \u001B[38;5;241m*\u001B[39m\u001B[38;5;241m*\u001B[39mkwargs)\n",
      "File \u001B[0;32m~/Repositories/seisbench/seisbench/util/file.py:258\u001B[0m, in \u001B[0;36mcallback_if_uncached\u001B[0;34m(files, callback, force, wait_for_file, test_interval)\u001B[0m\n\u001B[1;32m    256\u001B[0m         callback(partial_files[\u001B[38;5;241m0\u001B[39m])\n\u001B[1;32m    257\u001B[0m     \u001B[38;5;28;01melse\u001B[39;00m:\n\u001B[0;32m--> 258\u001B[0m         \u001B[43mcallback\u001B[49m\u001B[43m(\u001B[49m\u001B[43mpartial_files\u001B[49m\u001B[43m)\u001B[49m\n\u001B[1;32m    259\u001B[0m \u001B[38;5;28;01mfinally\u001B[39;00m:\n\u001B[1;32m    260\u001B[0m     \u001B[38;5;28;01mfor\u001B[39;00m partial_file \u001B[38;5;129;01min\u001B[39;00m partial_files:\n",
      "File \u001B[0;32m~/Repositories/seisbench/seisbench/data/base.py:1788\u001B[0m, in \u001B[0;36mBenchmarkDataset.__init__.<locals>.download_callback\u001B[0;34m(files)\u001B[0m\n\u001B[1;32m   1785\u001B[0m     tmp_download_args[\u001B[38;5;124m\"\u001B[39m\u001B[38;5;124mchunk\u001B[39m\u001B[38;5;124m\"\u001B[39m] \u001B[38;5;241m=\u001B[39m chunk\n\u001B[1;32m   1787\u001B[0m \u001B[38;5;28;01mwith\u001B[39;00m WaveformDataWriter(\u001B[38;5;241m*\u001B[39mfiles) \u001B[38;5;28;01mas\u001B[39;00m writer:\n\u001B[0;32m-> 1788\u001B[0m     \u001B[38;5;28;43mself\u001B[39;49m\u001B[38;5;241;43m.\u001B[39;49m\u001B[43m_download_dataset\u001B[49m\u001B[43m(\u001B[49m\u001B[43mwriter\u001B[49m\u001B[43m,\u001B[49m\u001B[43m \u001B[49m\u001B[38;5;241;43m*\u001B[39;49m\u001B[38;5;241;43m*\u001B[39;49m\u001B[43mtmp_download_args\u001B[49m\u001B[43m)\u001B[49m\n",
      "File \u001B[0;32m~/Repositories/seisbench/seisbench/data/obs.py:62\u001B[0m, in \u001B[0;36mOBS._download_dataset\u001B[0;34m(self, writer, **kwargs)\u001B[0m\n\u001B[1;32m     24\u001B[0m files \u001B[38;5;241m=\u001B[39m {\n\u001B[1;32m     25\u001B[0m     \u001B[38;5;124m'\u001B[39m\u001B[38;5;124mchunks\u001B[39m\u001B[38;5;124m'\u001B[39m: \u001B[38;5;124m\"\u001B[39m\u001B[38;5;124mhttps://nextcloud.gfz-potsdam.de/s/m2HxZc73eY6B7q9\u001B[39m\u001B[38;5;124m\"\u001B[39m,\n\u001B[1;32m     26\u001B[0m     \u001B[38;5;124m'\u001B[39m\u001B[38;5;124mmetadata000000.csv\u001B[39m\u001B[38;5;124m'\u001B[39m: \u001B[38;5;124m\"\u001B[39m\u001B[38;5;124mhttps://nextcloud.gfz-potsdam.de/s/KbqFs6wEyggRKcj\u001B[39m\u001B[38;5;124m\"\u001B[39m,\n\u001B[0;32m   (...)\u001B[0m\n\u001B[1;32m     59\u001B[0m     \u001B[38;5;124m'\u001B[39m\u001B[38;5;124mwaveforms201908.csv\u001B[39m\u001B[38;5;124m'\u001B[39m: \u001B[38;5;124m\"\u001B[39m\u001B[38;5;124mhttps://nextcloud.gfz-potsdam.de/s/MYkPRQCkgWM2Y5S\u001B[39m\u001B[38;5;124m\"\u001B[39m,\n\u001B[1;32m     60\u001B[0m }\n\u001B[1;32m     61\u001B[0m \u001B[38;5;28;01mfor\u001B[39;00m filename, link \u001B[38;5;129;01min\u001B[39;00m files\u001B[38;5;241m.\u001B[39mitems():\n\u001B[0;32m---> 62\u001B[0m     \u001B[43mseisbench\u001B[49m\u001B[38;5;241;43m.\u001B[39;49m\u001B[43mutil\u001B[49m\u001B[38;5;241;43m.\u001B[39;49m\u001B[43mdownload_http\u001B[49m\u001B[43m(\u001B[49m\n\u001B[1;32m     63\u001B[0m \u001B[43m        \u001B[49m\u001B[43mlink\u001B[49m\u001B[38;5;241;43m+\u001B[39;49m\u001B[38;5;124;43m\"\u001B[39;49m\u001B[38;5;124;43m/download\u001B[39;49m\u001B[38;5;124;43m\"\u001B[39;49m\u001B[43m,\u001B[49m\u001B[43m \u001B[49m\u001B[43mpath\u001B[49m\u001B[43m \u001B[49m\u001B[38;5;241;43m/\u001B[39;49m\u001B[43m \u001B[49m\u001B[43mfilename\u001B[49m\u001B[43m \u001B[49m\u001B[43m,\u001B[49m\u001B[43m \u001B[49m\u001B[43mdesc\u001B[49m\u001B[38;5;241;43m=\u001B[39;49m\u001B[38;5;124;43mf\u001B[39;49m\u001B[38;5;124;43m\"\u001B[39;49m\u001B[38;5;124;43mDownloading chunks\u001B[39;49m\u001B[38;5;124;43m\"\u001B[39;49m\n\u001B[1;32m     64\u001B[0m \u001B[43m    \u001B[49m\u001B[43m)\u001B[49m\n",
      "File \u001B[0;32m~/Repositories/seisbench/seisbench/util/file.py:52\u001B[0m, in \u001B[0;36mdownload_http\u001B[0;34m(url, target, progress_bar, desc, precheck_timeout)\u001B[0m\n\u001B[1;32m     49\u001B[0m target \u001B[38;5;241m=\u001B[39m Path(target)\n\u001B[1;32m     51\u001B[0m \u001B[38;5;28;01mwith\u001B[39;00m \u001B[38;5;28mopen\u001B[39m(target, \u001B[38;5;124m\"\u001B[39m\u001B[38;5;124mwb\u001B[39m\u001B[38;5;124m\"\u001B[39m) \u001B[38;5;28;01mas\u001B[39;00m f_target:\n\u001B[0;32m---> 52\u001B[0m     \u001B[38;5;28;01mfor\u001B[39;00m chunk \u001B[38;5;129;01min\u001B[39;00m req\u001B[38;5;241m.\u001B[39miter_content(chunk_size\u001B[38;5;241m=\u001B[39m\u001B[38;5;241m1024\u001B[39m):\n\u001B[1;32m     53\u001B[0m         \u001B[38;5;28;01mif\u001B[39;00m chunk:  \u001B[38;5;66;03m# filter out keep-alive new chunks\u001B[39;00m\n\u001B[1;32m     54\u001B[0m             \u001B[38;5;28;01mif\u001B[39;00m pbar \u001B[38;5;129;01mis\u001B[39;00m \u001B[38;5;129;01mnot\u001B[39;00m \u001B[38;5;28;01mNone\u001B[39;00m:\n",
      "File \u001B[0;32m~/miniconda3/envs/seisbench/lib/python3.9/site-packages/requests/models.py:816\u001B[0m, in \u001B[0;36mResponse.iter_content.<locals>.generate\u001B[0;34m()\u001B[0m\n\u001B[1;32m    814\u001B[0m \u001B[38;5;28;01mif\u001B[39;00m \u001B[38;5;28mhasattr\u001B[39m(\u001B[38;5;28mself\u001B[39m\u001B[38;5;241m.\u001B[39mraw, \u001B[38;5;124m\"\u001B[39m\u001B[38;5;124mstream\u001B[39m\u001B[38;5;124m\"\u001B[39m):\n\u001B[1;32m    815\u001B[0m     \u001B[38;5;28;01mtry\u001B[39;00m:\n\u001B[0;32m--> 816\u001B[0m         \u001B[38;5;28;01myield from\u001B[39;00m \u001B[38;5;28mself\u001B[39m\u001B[38;5;241m.\u001B[39mraw\u001B[38;5;241m.\u001B[39mstream(chunk_size, decode_content\u001B[38;5;241m=\u001B[39m\u001B[38;5;28;01mTrue\u001B[39;00m)\n\u001B[1;32m    817\u001B[0m     \u001B[38;5;28;01mexcept\u001B[39;00m ProtocolError \u001B[38;5;28;01mas\u001B[39;00m e:\n\u001B[1;32m    818\u001B[0m         \u001B[38;5;28;01mraise\u001B[39;00m ChunkedEncodingError(e)\n",
      "File \u001B[0;32m~/miniconda3/envs/seisbench/lib/python3.9/site-packages/urllib3/response.py:627\u001B[0m, in \u001B[0;36mHTTPResponse.stream\u001B[0;34m(self, amt, decode_content)\u001B[0m\n\u001B[1;32m    625\u001B[0m \u001B[38;5;28;01melse\u001B[39;00m:\n\u001B[1;32m    626\u001B[0m     \u001B[38;5;28;01mwhile\u001B[39;00m \u001B[38;5;129;01mnot\u001B[39;00m is_fp_closed(\u001B[38;5;28mself\u001B[39m\u001B[38;5;241m.\u001B[39m_fp):\n\u001B[0;32m--> 627\u001B[0m         data \u001B[38;5;241m=\u001B[39m \u001B[38;5;28;43mself\u001B[39;49m\u001B[38;5;241;43m.\u001B[39;49m\u001B[43mread\u001B[49m\u001B[43m(\u001B[49m\u001B[43mamt\u001B[49m\u001B[38;5;241;43m=\u001B[39;49m\u001B[43mamt\u001B[49m\u001B[43m,\u001B[49m\u001B[43m \u001B[49m\u001B[43mdecode_content\u001B[49m\u001B[38;5;241;43m=\u001B[39;49m\u001B[43mdecode_content\u001B[49m\u001B[43m)\u001B[49m\n\u001B[1;32m    629\u001B[0m         \u001B[38;5;28;01mif\u001B[39;00m data:\n\u001B[1;32m    630\u001B[0m             \u001B[38;5;28;01myield\u001B[39;00m data\n",
      "File \u001B[0;32m~/miniconda3/envs/seisbench/lib/python3.9/site-packages/urllib3/response.py:566\u001B[0m, in \u001B[0;36mHTTPResponse.read\u001B[0;34m(self, amt, decode_content, cache_content)\u001B[0m\n\u001B[1;32m    563\u001B[0m fp_closed \u001B[38;5;241m=\u001B[39m \u001B[38;5;28mgetattr\u001B[39m(\u001B[38;5;28mself\u001B[39m\u001B[38;5;241m.\u001B[39m_fp, \u001B[38;5;124m\"\u001B[39m\u001B[38;5;124mclosed\u001B[39m\u001B[38;5;124m\"\u001B[39m, \u001B[38;5;28;01mFalse\u001B[39;00m)\n\u001B[1;32m    565\u001B[0m \u001B[38;5;28;01mwith\u001B[39;00m \u001B[38;5;28mself\u001B[39m\u001B[38;5;241m.\u001B[39m_error_catcher():\n\u001B[0;32m--> 566\u001B[0m     data \u001B[38;5;241m=\u001B[39m \u001B[38;5;28;43mself\u001B[39;49m\u001B[38;5;241;43m.\u001B[39;49m\u001B[43m_fp_read\u001B[49m\u001B[43m(\u001B[49m\u001B[43mamt\u001B[49m\u001B[43m)\u001B[49m \u001B[38;5;28;01mif\u001B[39;00m \u001B[38;5;129;01mnot\u001B[39;00m fp_closed \u001B[38;5;28;01melse\u001B[39;00m \u001B[38;5;124mb\u001B[39m\u001B[38;5;124m\"\u001B[39m\u001B[38;5;124m\"\u001B[39m\n\u001B[1;32m    567\u001B[0m     \u001B[38;5;28;01mif\u001B[39;00m amt \u001B[38;5;129;01mis\u001B[39;00m \u001B[38;5;28;01mNone\u001B[39;00m:\n\u001B[1;32m    568\u001B[0m         flush_decoder \u001B[38;5;241m=\u001B[39m \u001B[38;5;28;01mTrue\u001B[39;00m\n",
      "File \u001B[0;32m~/miniconda3/envs/seisbench/lib/python3.9/site-packages/urllib3/response.py:528\u001B[0m, in \u001B[0;36mHTTPResponse._fp_read\u001B[0;34m(self, amt)\u001B[0m\n\u001B[1;32m    526\u001B[0m             \u001B[38;5;28;01mbreak\u001B[39;00m\n\u001B[1;32m    527\u001B[0m         buffer\u001B[38;5;241m.\u001B[39mwrite(data)\n\u001B[0;32m--> 528\u001B[0m         \u001B[38;5;28;01mdel\u001B[39;00m data  \u001B[38;5;66;03m# to reduce peak memory usage by `max_chunk_amt`.\u001B[39;00m\n\u001B[1;32m    529\u001B[0m     \u001B[38;5;28;01mreturn\u001B[39;00m buffer\u001B[38;5;241m.\u001B[39mgetvalue()\n\u001B[1;32m    530\u001B[0m \u001B[38;5;28;01melse\u001B[39;00m:\n\u001B[1;32m    531\u001B[0m     \u001B[38;5;66;03m# StringIO doesn't like amt=None\u001B[39;00m\n",
      "\u001B[0;31mKeyboardInterrupt\u001B[0m: "
     ]
    }
   ],
   "source": [
    "obs = sbd.OBS()"
   ],
   "metadata": {
    "collapsed": false,
    "pycharm": {
     "name": "#%%\n"
    }
   }
  },
  {
   "cell_type": "code",
   "execution_count": 5,
   "outputs": [
    {
     "data": {
      "text/plain": "  source_id     source_origin_time  source_latitude_deg  source_longitude_deg  \\\n0      2099  2016-11-19T23:11:51.0               37.008                -3.773   \n1      4410  2016-09-15T13:54:17.3               35.231                -3.898   \n2      4410  2016-09-15T13:54:17.3               35.231                -3.898   \n3      4410  2016-09-15T13:54:17.3               35.231                -3.898   \n4      4410  2016-09-15T13:54:17.3               35.231                -3.898   \n\n   source_depth_km  source_gap_deg  source_magnitude source_magnitude_type  \\\n0              0.0           151.0               2.3                     L   \n1             23.1           324.0               2.0                     W   \n2             23.1           324.0               2.0                     W   \n3             23.1           324.0               2.0                     W   \n4             23.1           324.0               2.0                     W   \n\n   source_rms_s  source_number_stations  ...             trace_name_original  \\\n0           0.5                     5.0  ...  OBA4.OB.HHZ..D.2016.324.231144   \n1           0.1                     4.0  ...  OB11.OB.HHZ..D.2016.259.135413   \n2           0.1                     4.0  ...  OBA5.OB.HHZ..D.2016.259.135414   \n3           0.1                     4.0  ...  OBA2.OB.HHZ..D.2016.259.135413   \n4           0.1                     4.0  ...  OB12.OB.HHZ..D.2016.259.135413   \n\n   split source_depth_uncertainty_km source_magnitude_author  \\\n0   test                         NaN                     NaN   \n1  train                         NaN                     NaN   \n2  train                         NaN                     NaN   \n3  train                         NaN                     NaN   \n4  train                         NaN                     NaN   \n\n  station_location_code  trace_channel  trace_instrument_type trace_region  \\\n0                   NaN            NaN                    NaN          NaN   \n1                   NaN            NaN                    NaN          NaN   \n2                   NaN            NaN                    NaN          NaN   \n3                   NaN            NaN                    NaN          NaN   \n4                   NaN            NaN                    NaN          NaN   \n\n  trace_chunk Unnamed: 0  \n0      000000        NaN  \n1      000000        NaN  \n2      000000        NaN  \n3      000000        NaN  \n4      000000        NaN  \n\n[5 rows x 53 columns]",
      "text/html": "<div>\n<style scoped>\n    .dataframe tbody tr th:only-of-type {\n        vertical-align: middle;\n    }\n\n    .dataframe tbody tr th {\n        vertical-align: top;\n    }\n\n    .dataframe thead th {\n        text-align: right;\n    }\n</style>\n<table border=\"1\" class=\"dataframe\">\n  <thead>\n    <tr style=\"text-align: right;\">\n      <th></th>\n      <th>source_id</th>\n      <th>source_origin_time</th>\n      <th>source_latitude_deg</th>\n      <th>source_longitude_deg</th>\n      <th>source_depth_km</th>\n      <th>source_gap_deg</th>\n      <th>source_magnitude</th>\n      <th>source_magnitude_type</th>\n      <th>source_rms_s</th>\n      <th>source_number_stations</th>\n      <th>...</th>\n      <th>trace_name_original</th>\n      <th>split</th>\n      <th>source_depth_uncertainty_km</th>\n      <th>source_magnitude_author</th>\n      <th>station_location_code</th>\n      <th>trace_channel</th>\n      <th>trace_instrument_type</th>\n      <th>trace_region</th>\n      <th>trace_chunk</th>\n      <th>Unnamed: 0</th>\n    </tr>\n  </thead>\n  <tbody>\n    <tr>\n      <th>0</th>\n      <td>2099</td>\n      <td>2016-11-19T23:11:51.0</td>\n      <td>37.008</td>\n      <td>-3.773</td>\n      <td>0.0</td>\n      <td>151.0</td>\n      <td>2.3</td>\n      <td>L</td>\n      <td>0.5</td>\n      <td>5.0</td>\n      <td>...</td>\n      <td>OBA4.OB.HHZ..D.2016.324.231144</td>\n      <td>test</td>\n      <td>NaN</td>\n      <td>NaN</td>\n      <td>NaN</td>\n      <td>NaN</td>\n      <td>NaN</td>\n      <td>NaN</td>\n      <td>000000</td>\n      <td>NaN</td>\n    </tr>\n    <tr>\n      <th>1</th>\n      <td>4410</td>\n      <td>2016-09-15T13:54:17.3</td>\n      <td>35.231</td>\n      <td>-3.898</td>\n      <td>23.1</td>\n      <td>324.0</td>\n      <td>2.0</td>\n      <td>W</td>\n      <td>0.1</td>\n      <td>4.0</td>\n      <td>...</td>\n      <td>OB11.OB.HHZ..D.2016.259.135413</td>\n      <td>train</td>\n      <td>NaN</td>\n      <td>NaN</td>\n      <td>NaN</td>\n      <td>NaN</td>\n      <td>NaN</td>\n      <td>NaN</td>\n      <td>000000</td>\n      <td>NaN</td>\n    </tr>\n    <tr>\n      <th>2</th>\n      <td>4410</td>\n      <td>2016-09-15T13:54:17.3</td>\n      <td>35.231</td>\n      <td>-3.898</td>\n      <td>23.1</td>\n      <td>324.0</td>\n      <td>2.0</td>\n      <td>W</td>\n      <td>0.1</td>\n      <td>4.0</td>\n      <td>...</td>\n      <td>OBA5.OB.HHZ..D.2016.259.135414</td>\n      <td>train</td>\n      <td>NaN</td>\n      <td>NaN</td>\n      <td>NaN</td>\n      <td>NaN</td>\n      <td>NaN</td>\n      <td>NaN</td>\n      <td>000000</td>\n      <td>NaN</td>\n    </tr>\n    <tr>\n      <th>3</th>\n      <td>4410</td>\n      <td>2016-09-15T13:54:17.3</td>\n      <td>35.231</td>\n      <td>-3.898</td>\n      <td>23.1</td>\n      <td>324.0</td>\n      <td>2.0</td>\n      <td>W</td>\n      <td>0.1</td>\n      <td>4.0</td>\n      <td>...</td>\n      <td>OBA2.OB.HHZ..D.2016.259.135413</td>\n      <td>train</td>\n      <td>NaN</td>\n      <td>NaN</td>\n      <td>NaN</td>\n      <td>NaN</td>\n      <td>NaN</td>\n      <td>NaN</td>\n      <td>000000</td>\n      <td>NaN</td>\n    </tr>\n    <tr>\n      <th>4</th>\n      <td>4410</td>\n      <td>2016-09-15T13:54:17.3</td>\n      <td>35.231</td>\n      <td>-3.898</td>\n      <td>23.1</td>\n      <td>324.0</td>\n      <td>2.0</td>\n      <td>W</td>\n      <td>0.1</td>\n      <td>4.0</td>\n      <td>...</td>\n      <td>OB12.OB.HHZ..D.2016.259.135413</td>\n      <td>train</td>\n      <td>NaN</td>\n      <td>NaN</td>\n      <td>NaN</td>\n      <td>NaN</td>\n      <td>NaN</td>\n      <td>NaN</td>\n      <td>000000</td>\n      <td>NaN</td>\n    </tr>\n  </tbody>\n</table>\n<p>5 rows × 53 columns</p>\n</div>"
     },
     "execution_count": 5,
     "metadata": {},
     "output_type": "execute_result"
    }
   ],
   "source": [
    "obs.metadata.head()"
   ],
   "metadata": {
    "collapsed": false,
    "pycharm": {
     "name": "#%%\n"
    }
   }
  },
  {
   "cell_type": "code",
   "execution_count": 5,
   "outputs": [],
   "source": [
    "from seisbench.models import PickBlue"
   ],
   "metadata": {
    "collapsed": false,
    "pycharm": {
     "name": "#%%\n"
    }
   }
  },
  {
   "cell_type": "code",
   "execution_count": 6,
   "outputs": [
    {
     "name": "stdout",
     "output_type": "stream",
     "text": [
      "Component order:\tZ12H\n",
      "SeisBench model\t\tEQTransformer\n",
      "\n",
      "EQTransformer(\n",
      "  (encoder): Encoder(\n",
      "    (convs): ModuleList(\n",
      "      (0): Conv1d(4, 8, kernel_size=(11,), stride=(1,), padding=(5,))\n",
      "      (1): Conv1d(8, 16, kernel_size=(9,), stride=(1,), padding=(4,))\n",
      "      (2): Conv1d(16, 16, kernel_size=(7,), stride=(1,), padding=(3,))\n",
      "      (3): Conv1d(16, 32, kernel_size=(7,), stride=(1,), padding=(3,))\n",
      "      (4): Conv1d(32, 32, kernel_size=(5,), stride=(1,), padding=(2,))\n",
      "      (5): Conv1d(32, 64, kernel_size=(5,), stride=(1,), padding=(2,))\n",
      "      (6): Conv1d(64, 64, kernel_size=(3,), stride=(1,), padding=(1,))\n",
      "    )\n",
      "    (pools): ModuleList(\n",
      "      (0): MaxPool1d(kernel_size=2, stride=2, padding=0, dilation=1, ceil_mode=False)\n",
      "      (1): MaxPool1d(kernel_size=2, stride=2, padding=0, dilation=1, ceil_mode=False)\n",
      "      (2): MaxPool1d(kernel_size=2, stride=2, padding=0, dilation=1, ceil_mode=False)\n",
      "      (3): MaxPool1d(kernel_size=2, stride=2, padding=0, dilation=1, ceil_mode=False)\n",
      "      (4): MaxPool1d(kernel_size=2, stride=2, padding=0, dilation=1, ceil_mode=False)\n",
      "      (5): MaxPool1d(kernel_size=2, stride=2, padding=0, dilation=1, ceil_mode=False)\n",
      "      (6): MaxPool1d(kernel_size=2, stride=2, padding=0, dilation=1, ceil_mode=False)\n",
      "    )\n",
      "  )\n",
      "  (res_cnn_stack): ResCNNStack(\n",
      "    (members): ModuleList(\n",
      "      (0): ResCNNBlock(\n",
      "        (dropout): SpatialDropout1d(\n",
      "          (dropout): Dropout2d(p=0.1, inplace=False)\n",
      "        )\n",
      "        (norm1): BatchNorm1d(64, eps=0.001, momentum=0.1, affine=True, track_running_stats=True)\n",
      "        (conv1): Conv1d(64, 64, kernel_size=(3,), stride=(1,), padding=(1,))\n",
      "        (norm2): BatchNorm1d(64, eps=0.001, momentum=0.1, affine=True, track_running_stats=True)\n",
      "        (conv2): Conv1d(64, 64, kernel_size=(3,), stride=(1,), padding=(1,))\n",
      "      )\n",
      "      (1): ResCNNBlock(\n",
      "        (dropout): SpatialDropout1d(\n",
      "          (dropout): Dropout2d(p=0.1, inplace=False)\n",
      "        )\n",
      "        (norm1): BatchNorm1d(64, eps=0.001, momentum=0.1, affine=True, track_running_stats=True)\n",
      "        (conv1): Conv1d(64, 64, kernel_size=(3,), stride=(1,), padding=(1,))\n",
      "        (norm2): BatchNorm1d(64, eps=0.001, momentum=0.1, affine=True, track_running_stats=True)\n",
      "        (conv2): Conv1d(64, 64, kernel_size=(3,), stride=(1,), padding=(1,))\n",
      "      )\n",
      "      (2): ResCNNBlock(\n",
      "        (dropout): SpatialDropout1d(\n",
      "          (dropout): Dropout2d(p=0.1, inplace=False)\n",
      "        )\n",
      "        (norm1): BatchNorm1d(64, eps=0.001, momentum=0.1, affine=True, track_running_stats=True)\n",
      "        (conv1): Conv1d(64, 64, kernel_size=(3,), stride=(1,), padding=(1,))\n",
      "        (norm2): BatchNorm1d(64, eps=0.001, momentum=0.1, affine=True, track_running_stats=True)\n",
      "        (conv2): Conv1d(64, 64, kernel_size=(3,), stride=(1,), padding=(1,))\n",
      "      )\n",
      "      (3): ResCNNBlock(\n",
      "        (dropout): SpatialDropout1d(\n",
      "          (dropout): Dropout2d(p=0.1, inplace=False)\n",
      "        )\n",
      "        (norm1): BatchNorm1d(64, eps=0.001, momentum=0.1, affine=True, track_running_stats=True)\n",
      "        (conv1): Conv1d(64, 64, kernel_size=(3,), stride=(1,), padding=(1,))\n",
      "        (norm2): BatchNorm1d(64, eps=0.001, momentum=0.1, affine=True, track_running_stats=True)\n",
      "        (conv2): Conv1d(64, 64, kernel_size=(3,), stride=(1,), padding=(1,))\n",
      "      )\n",
      "      (4): ResCNNBlock(\n",
      "        (dropout): SpatialDropout1d(\n",
      "          (dropout): Dropout2d(p=0.1, inplace=False)\n",
      "        )\n",
      "        (norm1): BatchNorm1d(64, eps=0.001, momentum=0.1, affine=True, track_running_stats=True)\n",
      "        (conv1): Conv1d(64, 64, kernel_size=(2,), stride=(1,))\n",
      "        (norm2): BatchNorm1d(64, eps=0.001, momentum=0.1, affine=True, track_running_stats=True)\n",
      "        (conv2): Conv1d(64, 64, kernel_size=(2,), stride=(1,))\n",
      "      )\n",
      "      (5): ResCNNBlock(\n",
      "        (dropout): SpatialDropout1d(\n",
      "          (dropout): Dropout2d(p=0.1, inplace=False)\n",
      "        )\n",
      "        (norm1): BatchNorm1d(64, eps=0.001, momentum=0.1, affine=True, track_running_stats=True)\n",
      "        (conv1): Conv1d(64, 64, kernel_size=(3,), stride=(1,), padding=(1,))\n",
      "        (norm2): BatchNorm1d(64, eps=0.001, momentum=0.1, affine=True, track_running_stats=True)\n",
      "        (conv2): Conv1d(64, 64, kernel_size=(3,), stride=(1,), padding=(1,))\n",
      "      )\n",
      "      (6): ResCNNBlock(\n",
      "        (dropout): SpatialDropout1d(\n",
      "          (dropout): Dropout2d(p=0.1, inplace=False)\n",
      "        )\n",
      "        (norm1): BatchNorm1d(64, eps=0.001, momentum=0.1, affine=True, track_running_stats=True)\n",
      "        (conv1): Conv1d(64, 64, kernel_size=(2,), stride=(1,))\n",
      "        (norm2): BatchNorm1d(64, eps=0.001, momentum=0.1, affine=True, track_running_stats=True)\n",
      "        (conv2): Conv1d(64, 64, kernel_size=(2,), stride=(1,))\n",
      "      )\n",
      "    )\n",
      "  )\n",
      "  (bi_lstm_stack): BiLSTMStack(\n",
      "    (members): ModuleList(\n",
      "      (0): BiLSTMBlock(\n",
      "        (lstm): LSTM(64, 16, bidirectional=True)\n",
      "        (dropout): Dropout(p=0.1, inplace=False)\n",
      "        (conv): Conv1d(32, 16, kernel_size=(1,), stride=(1,))\n",
      "        (norm): BatchNorm1d(16, eps=0.001, momentum=0.1, affine=True, track_running_stats=True)\n",
      "      )\n",
      "      (1): BiLSTMBlock(\n",
      "        (lstm): LSTM(16, 16, bidirectional=True)\n",
      "        (dropout): Dropout(p=0.1, inplace=False)\n",
      "        (conv): Conv1d(32, 16, kernel_size=(1,), stride=(1,))\n",
      "        (norm): BatchNorm1d(16, eps=0.001, momentum=0.1, affine=True, track_running_stats=True)\n",
      "      )\n",
      "      (2): BiLSTMBlock(\n",
      "        (lstm): LSTM(16, 16, bidirectional=True)\n",
      "        (dropout): Dropout(p=0.1, inplace=False)\n",
      "        (conv): Conv1d(32, 16, kernel_size=(1,), stride=(1,))\n",
      "        (norm): BatchNorm1d(16, eps=0.001, momentum=0.1, affine=True, track_running_stats=True)\n",
      "      )\n",
      "    )\n",
      "  )\n",
      "  (transformer_d0): Transformer(\n",
      "    (attention): SeqSelfAttention()\n",
      "    (norm1): LayerNormalization()\n",
      "    (ff): FeedForward(\n",
      "      (lin1): Linear(in_features=16, out_features=128, bias=True)\n",
      "      (lin2): Linear(in_features=128, out_features=16, bias=True)\n",
      "      (dropout): Dropout(p=0.1, inplace=False)\n",
      "    )\n",
      "    (norm2): LayerNormalization()\n",
      "  )\n",
      "  (transformer_d): Transformer(\n",
      "    (attention): SeqSelfAttention()\n",
      "    (norm1): LayerNormalization()\n",
      "    (ff): FeedForward(\n",
      "      (lin1): Linear(in_features=16, out_features=128, bias=True)\n",
      "      (lin2): Linear(in_features=128, out_features=16, bias=True)\n",
      "      (dropout): Dropout(p=0.1, inplace=False)\n",
      "    )\n",
      "    (norm2): LayerNormalization()\n",
      "  )\n",
      "  (decoder_d): Decoder(\n",
      "    (upsample): Upsample(scale_factor=2.0, mode=nearest)\n",
      "    (convs): ModuleList(\n",
      "      (0): Conv1d(16, 64, kernel_size=(3,), stride=(1,), padding=(1,))\n",
      "      (1): Conv1d(64, 64, kernel_size=(5,), stride=(1,), padding=(2,))\n",
      "      (2): Conv1d(64, 32, kernel_size=(5,), stride=(1,), padding=(2,))\n",
      "      (3): Conv1d(32, 32, kernel_size=(7,), stride=(1,), padding=(3,))\n",
      "      (4): Conv1d(32, 16, kernel_size=(7,), stride=(1,), padding=(3,))\n",
      "      (5): Conv1d(16, 16, kernel_size=(9,), stride=(1,), padding=(4,))\n",
      "      (6): Conv1d(16, 8, kernel_size=(11,), stride=(1,), padding=(5,))\n",
      "    )\n",
      "  )\n",
      "  (conv_d): Conv1d(8, 1, kernel_size=(11,), stride=(1,), padding=(5,))\n",
      "  (dropout): Dropout(p=0.1, inplace=False)\n",
      "  (pick_lstms): ModuleList(\n",
      "    (0): LSTM(16, 16)\n",
      "    (1): LSTM(16, 16)\n",
      "  )\n",
      "  (pick_attentions): ModuleList(\n",
      "    (0): SeqSelfAttention()\n",
      "    (1): SeqSelfAttention()\n",
      "  )\n",
      "  (pick_decoders): ModuleList(\n",
      "    (0): Decoder(\n",
      "      (upsample): Upsample(scale_factor=2.0, mode=nearest)\n",
      "      (convs): ModuleList(\n",
      "        (0): Conv1d(16, 64, kernel_size=(3,), stride=(1,), padding=(1,))\n",
      "        (1): Conv1d(64, 64, kernel_size=(5,), stride=(1,), padding=(2,))\n",
      "        (2): Conv1d(64, 32, kernel_size=(5,), stride=(1,), padding=(2,))\n",
      "        (3): Conv1d(32, 32, kernel_size=(7,), stride=(1,), padding=(3,))\n",
      "        (4): Conv1d(32, 16, kernel_size=(7,), stride=(1,), padding=(3,))\n",
      "        (5): Conv1d(16, 16, kernel_size=(9,), stride=(1,), padding=(4,))\n",
      "        (6): Conv1d(16, 8, kernel_size=(11,), stride=(1,), padding=(5,))\n",
      "      )\n",
      "    )\n",
      "    (1): Decoder(\n",
      "      (upsample): Upsample(scale_factor=2.0, mode=nearest)\n",
      "      (convs): ModuleList(\n",
      "        (0): Conv1d(16, 64, kernel_size=(3,), stride=(1,), padding=(1,))\n",
      "        (1): Conv1d(64, 64, kernel_size=(5,), stride=(1,), padding=(2,))\n",
      "        (2): Conv1d(64, 32, kernel_size=(5,), stride=(1,), padding=(2,))\n",
      "        (3): Conv1d(32, 32, kernel_size=(7,), stride=(1,), padding=(3,))\n",
      "        (4): Conv1d(32, 16, kernel_size=(7,), stride=(1,), padding=(3,))\n",
      "        (5): Conv1d(16, 16, kernel_size=(9,), stride=(1,), padding=(4,))\n",
      "        (6): Conv1d(16, 8, kernel_size=(11,), stride=(1,), padding=(5,))\n",
      "      )\n",
      "    )\n",
      "  )\n",
      "  (pick_convs): ModuleList(\n",
      "    (0): Conv1d(8, 1, kernel_size=(11,), stride=(1,), padding=(5,))\n",
      "    (1): Conv1d(8, 1, kernel_size=(11,), stride=(1,), padding=(5,))\n",
      "  )\n",
      ")\n"
     ]
    }
   ],
   "source": [
    "pb = PickBlue()\n",
    "print(pb)"
   ],
   "metadata": {
    "collapsed": false,
    "pycharm": {
     "name": "#%%\n"
    }
   }
  }
 ],
 "metadata": {
  "kernelspec": {
   "display_name": "Python 3",
   "language": "python",
   "name": "python3"
  },
  "language_info": {
   "codemirror_mode": {
    "name": "ipython",
    "version": 2
   },
   "file_extension": ".py",
   "mimetype": "text/x-python",
   "name": "python",
   "nbconvert_exporter": "python",
   "pygments_lexer": "ipython2",
   "version": "2.7.6"
  }
 },
 "nbformat": 4,
 "nbformat_minor": 0
}