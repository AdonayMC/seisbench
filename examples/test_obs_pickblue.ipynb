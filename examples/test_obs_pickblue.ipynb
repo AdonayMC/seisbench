{
 "cells": [
  {
   "cell_type": "code",
   "execution_count": 7,
   "outputs": [],
   "source": [
    "import seisbench.data as sbd"
   ],
   "metadata": {
    "collapsed": false,
    "pycharm": {
     "name": "#%%\n"
    }
   }
  },
  {
   "cell_type": "code",
   "execution_count": 8,
   "outputs": [
    {
     "name": "stderr",
     "output_type": "stream",
     "text": [
      "2022-09-30 12:01:09,257 | seisbench | WARNING | Data set contains mixed sampling rate, but no sampling rate was specified for the dataset.get_waveforms will return mixed sampling rate waveforms.\n",
      "2022-09-30 12:01:09,264 | seisbench | WARNING | Found inconsistent component orders between data format and metadata. Using values from metadata.\n"
     ]
    }
   ],
   "source": [
    "obs = sbd.OBS()"
   ],
   "metadata": {
    "collapsed": false,
    "pycharm": {
     "name": "#%%\n"
    }
   }
  },
  {
   "cell_type": "code",
   "execution_count": 9,
   "outputs": [
    {
     "data": {
      "text/plain": "  source_id     source_origin_time  source_latitude_deg  source_longitude_deg  \\\n0      2099  2016-11-19T23:11:51.0               37.008                -3.773   \n1      4410  2016-09-15T13:54:17.3               35.231                -3.898   \n2      4410  2016-09-15T13:54:17.3               35.231                -3.898   \n3      4410  2016-09-15T13:54:17.3               35.231                -3.898   \n4      4410  2016-09-15T13:54:17.3               35.231                -3.898   \n\n   source_depth_km  source_gap_deg  source_magnitude source_magnitude_type  \\\n0              0.0           151.0               2.3                     L   \n1             23.1           324.0               2.0                     W   \n2             23.1           324.0               2.0                     W   \n3             23.1           324.0               2.0                     W   \n4             23.1           324.0               2.0                     W   \n\n   source_rms_s  source_number_stations  ...             trace_name_original  \\\n0           0.5                     5.0  ...  OBA4.OB.HHZ..D.2016.324.231144   \n1           0.1                     4.0  ...  OB11.OB.HHZ..D.2016.259.135413   \n2           0.1                     4.0  ...  OBA5.OB.HHZ..D.2016.259.135414   \n3           0.1                     4.0  ...  OBA2.OB.HHZ..D.2016.259.135413   \n4           0.1                     4.0  ...  OB12.OB.HHZ..D.2016.259.135413   \n\n   split source_depth_uncertainty_km source_magnitude_author  \\\n0   test                         NaN                     NaN   \n1  train                         NaN                     NaN   \n2  train                         NaN                     NaN   \n3  train                         NaN                     NaN   \n4  train                         NaN                     NaN   \n\n  station_location_code  trace_channel  trace_instrument_type trace_region  \\\n0                   NaN            NaN                    NaN          NaN   \n1                   NaN            NaN                    NaN          NaN   \n2                   NaN            NaN                    NaN          NaN   \n3                   NaN            NaN                    NaN          NaN   \n4                   NaN            NaN                    NaN          NaN   \n\n  trace_chunk Unnamed: 0  \n0      000000        NaN  \n1      000000        NaN  \n2      000000        NaN  \n3      000000        NaN  \n4      000000        NaN  \n\n[5 rows x 53 columns]",
      "text/html": "<div>\n<style scoped>\n    .dataframe tbody tr th:only-of-type {\n        vertical-align: middle;\n    }\n\n    .dataframe tbody tr th {\n        vertical-align: top;\n    }\n\n    .dataframe thead th {\n        text-align: right;\n    }\n</style>\n<table border=\"1\" class=\"dataframe\">\n  <thead>\n    <tr style=\"text-align: right;\">\n      <th></th>\n      <th>source_id</th>\n      <th>source_origin_time</th>\n      <th>source_latitude_deg</th>\n      <th>source_longitude_deg</th>\n      <th>source_depth_km</th>\n      <th>source_gap_deg</th>\n      <th>source_magnitude</th>\n      <th>source_magnitude_type</th>\n      <th>source_rms_s</th>\n      <th>source_number_stations</th>\n      <th>...</th>\n      <th>trace_name_original</th>\n      <th>split</th>\n      <th>source_depth_uncertainty_km</th>\n      <th>source_magnitude_author</th>\n      <th>station_location_code</th>\n      <th>trace_channel</th>\n      <th>trace_instrument_type</th>\n      <th>trace_region</th>\n      <th>trace_chunk</th>\n      <th>Unnamed: 0</th>\n    </tr>\n  </thead>\n  <tbody>\n    <tr>\n      <th>0</th>\n      <td>2099</td>\n      <td>2016-11-19T23:11:51.0</td>\n      <td>37.008</td>\n      <td>-3.773</td>\n      <td>0.0</td>\n      <td>151.0</td>\n      <td>2.3</td>\n      <td>L</td>\n      <td>0.5</td>\n      <td>5.0</td>\n      <td>...</td>\n      <td>OBA4.OB.HHZ..D.2016.324.231144</td>\n      <td>test</td>\n      <td>NaN</td>\n      <td>NaN</td>\n      <td>NaN</td>\n      <td>NaN</td>\n      <td>NaN</td>\n      <td>NaN</td>\n      <td>000000</td>\n      <td>NaN</td>\n    </tr>\n    <tr>\n      <th>1</th>\n      <td>4410</td>\n      <td>2016-09-15T13:54:17.3</td>\n      <td>35.231</td>\n      <td>-3.898</td>\n      <td>23.1</td>\n      <td>324.0</td>\n      <td>2.0</td>\n      <td>W</td>\n      <td>0.1</td>\n      <td>4.0</td>\n      <td>...</td>\n      <td>OB11.OB.HHZ..D.2016.259.135413</td>\n      <td>train</td>\n      <td>NaN</td>\n      <td>NaN</td>\n      <td>NaN</td>\n      <td>NaN</td>\n      <td>NaN</td>\n      <td>NaN</td>\n      <td>000000</td>\n      <td>NaN</td>\n    </tr>\n    <tr>\n      <th>2</th>\n      <td>4410</td>\n      <td>2016-09-15T13:54:17.3</td>\n      <td>35.231</td>\n      <td>-3.898</td>\n      <td>23.1</td>\n      <td>324.0</td>\n      <td>2.0</td>\n      <td>W</td>\n      <td>0.1</td>\n      <td>4.0</td>\n      <td>...</td>\n      <td>OBA5.OB.HHZ..D.2016.259.135414</td>\n      <td>train</td>\n      <td>NaN</td>\n      <td>NaN</td>\n      <td>NaN</td>\n      <td>NaN</td>\n      <td>NaN</td>\n      <td>NaN</td>\n      <td>000000</td>\n      <td>NaN</td>\n    </tr>\n    <tr>\n      <th>3</th>\n      <td>4410</td>\n      <td>2016-09-15T13:54:17.3</td>\n      <td>35.231</td>\n      <td>-3.898</td>\n      <td>23.1</td>\n      <td>324.0</td>\n      <td>2.0</td>\n      <td>W</td>\n      <td>0.1</td>\n      <td>4.0</td>\n      <td>...</td>\n      <td>OBA2.OB.HHZ..D.2016.259.135413</td>\n      <td>train</td>\n      <td>NaN</td>\n      <td>NaN</td>\n      <td>NaN</td>\n      <td>NaN</td>\n      <td>NaN</td>\n      <td>NaN</td>\n      <td>000000</td>\n      <td>NaN</td>\n    </tr>\n    <tr>\n      <th>4</th>\n      <td>4410</td>\n      <td>2016-09-15T13:54:17.3</td>\n      <td>35.231</td>\n      <td>-3.898</td>\n      <td>23.1</td>\n      <td>324.0</td>\n      <td>2.0</td>\n      <td>W</td>\n      <td>0.1</td>\n      <td>4.0</td>\n      <td>...</td>\n      <td>OB12.OB.HHZ..D.2016.259.135413</td>\n      <td>train</td>\n      <td>NaN</td>\n      <td>NaN</td>\n      <td>NaN</td>\n      <td>NaN</td>\n      <td>NaN</td>\n      <td>NaN</td>\n      <td>000000</td>\n      <td>NaN</td>\n    </tr>\n  </tbody>\n</table>\n<p>5 rows × 53 columns</p>\n</div>"
     },
     "execution_count": 9,
     "metadata": {},
     "output_type": "execute_result"
    }
   ],
   "source": [
    "obs.metadata.head()"
   ],
   "metadata": {
    "collapsed": false,
    "pycharm": {
     "name": "#%%\n"
    }
   }
  },
  {
   "cell_type": "code",
   "execution_count": 10,
   "outputs": [],
   "source": [
    "from seisbench.models import PickBlue"
   ],
   "metadata": {
    "collapsed": false,
    "pycharm": {
     "name": "#%%\n"
    }
   }
  },
  {
   "cell_type": "code",
   "execution_count": 11,
   "outputs": [
    {
     "name": "stdout",
     "output_type": "stream",
     "text": [
      "Component order:\tZ12H\n",
      "SeisBench model\t\tEQTransformer\n",
      "\n",
      "EQTransformer(\n",
      "  (encoder): Encoder(\n",
      "    (convs): ModuleList(\n",
      "      (0): Conv1d(4, 8, kernel_size=(11,), stride=(1,), padding=(5,))\n",
      "      (1): Conv1d(8, 16, kernel_size=(9,), stride=(1,), padding=(4,))\n",
      "      (2): Conv1d(16, 16, kernel_size=(7,), stride=(1,), padding=(3,))\n",
      "      (3): Conv1d(16, 32, kernel_size=(7,), stride=(1,), padding=(3,))\n",
      "      (4): Conv1d(32, 32, kernel_size=(5,), stride=(1,), padding=(2,))\n",
      "      (5): Conv1d(32, 64, kernel_size=(5,), stride=(1,), padding=(2,))\n",
      "      (6): Conv1d(64, 64, kernel_size=(3,), stride=(1,), padding=(1,))\n",
      "    )\n",
      "    (pools): ModuleList(\n",
      "      (0): MaxPool1d(kernel_size=2, stride=2, padding=0, dilation=1, ceil_mode=False)\n",
      "      (1): MaxPool1d(kernel_size=2, stride=2, padding=0, dilation=1, ceil_mode=False)\n",
      "      (2): MaxPool1d(kernel_size=2, stride=2, padding=0, dilation=1, ceil_mode=False)\n",
      "      (3): MaxPool1d(kernel_size=2, stride=2, padding=0, dilation=1, ceil_mode=False)\n",
      "      (4): MaxPool1d(kernel_size=2, stride=2, padding=0, dilation=1, ceil_mode=False)\n",
      "      (5): MaxPool1d(kernel_size=2, stride=2, padding=0, dilation=1, ceil_mode=False)\n",
      "      (6): MaxPool1d(kernel_size=2, stride=2, padding=0, dilation=1, ceil_mode=False)\n",
      "    )\n",
      "  )\n",
      "  (res_cnn_stack): ResCNNStack(\n",
      "    (members): ModuleList(\n",
      "      (0): ResCNNBlock(\n",
      "        (dropout): SpatialDropout1d(\n",
      "          (dropout): Dropout2d(p=0.1, inplace=False)\n",
      "        )\n",
      "        (norm1): BatchNorm1d(64, eps=0.001, momentum=0.1, affine=True, track_running_stats=True)\n",
      "        (conv1): Conv1d(64, 64, kernel_size=(3,), stride=(1,), padding=(1,))\n",
      "        (norm2): BatchNorm1d(64, eps=0.001, momentum=0.1, affine=True, track_running_stats=True)\n",
      "        (conv2): Conv1d(64, 64, kernel_size=(3,), stride=(1,), padding=(1,))\n",
      "      )\n",
      "      (1): ResCNNBlock(\n",
      "        (dropout): SpatialDropout1d(\n",
      "          (dropout): Dropout2d(p=0.1, inplace=False)\n",
      "        )\n",
      "        (norm1): BatchNorm1d(64, eps=0.001, momentum=0.1, affine=True, track_running_stats=True)\n",
      "        (conv1): Conv1d(64, 64, kernel_size=(3,), stride=(1,), padding=(1,))\n",
      "        (norm2): BatchNorm1d(64, eps=0.001, momentum=0.1, affine=True, track_running_stats=True)\n",
      "        (conv2): Conv1d(64, 64, kernel_size=(3,), stride=(1,), padding=(1,))\n",
      "      )\n",
      "      (2): ResCNNBlock(\n",
      "        (dropout): SpatialDropout1d(\n",
      "          (dropout): Dropout2d(p=0.1, inplace=False)\n",
      "        )\n",
      "        (norm1): BatchNorm1d(64, eps=0.001, momentum=0.1, affine=True, track_running_stats=True)\n",
      "        (conv1): Conv1d(64, 64, kernel_size=(3,), stride=(1,), padding=(1,))\n",
      "        (norm2): BatchNorm1d(64, eps=0.001, momentum=0.1, affine=True, track_running_stats=True)\n",
      "        (conv2): Conv1d(64, 64, kernel_size=(3,), stride=(1,), padding=(1,))\n",
      "      )\n",
      "      (3): ResCNNBlock(\n",
      "        (dropout): SpatialDropout1d(\n",
      "          (dropout): Dropout2d(p=0.1, inplace=False)\n",
      "        )\n",
      "        (norm1): BatchNorm1d(64, eps=0.001, momentum=0.1, affine=True, track_running_stats=True)\n",
      "        (conv1): Conv1d(64, 64, kernel_size=(3,), stride=(1,), padding=(1,))\n",
      "        (norm2): BatchNorm1d(64, eps=0.001, momentum=0.1, affine=True, track_running_stats=True)\n",
      "        (conv2): Conv1d(64, 64, kernel_size=(3,), stride=(1,), padding=(1,))\n",
      "      )\n",
      "      (4): ResCNNBlock(\n",
      "        (dropout): SpatialDropout1d(\n",
      "          (dropout): Dropout2d(p=0.1, inplace=False)\n",
      "        )\n",
      "        (norm1): BatchNorm1d(64, eps=0.001, momentum=0.1, affine=True, track_running_stats=True)\n",
      "        (conv1): Conv1d(64, 64, kernel_size=(2,), stride=(1,))\n",
      "        (norm2): BatchNorm1d(64, eps=0.001, momentum=0.1, affine=True, track_running_stats=True)\n",
      "        (conv2): Conv1d(64, 64, kernel_size=(2,), stride=(1,))\n",
      "      )\n",
      "      (5): ResCNNBlock(\n",
      "        (dropout): SpatialDropout1d(\n",
      "          (dropout): Dropout2d(p=0.1, inplace=False)\n",
      "        )\n",
      "        (norm1): BatchNorm1d(64, eps=0.001, momentum=0.1, affine=True, track_running_stats=True)\n",
      "        (conv1): Conv1d(64, 64, kernel_size=(3,), stride=(1,), padding=(1,))\n",
      "        (norm2): BatchNorm1d(64, eps=0.001, momentum=0.1, affine=True, track_running_stats=True)\n",
      "        (conv2): Conv1d(64, 64, kernel_size=(3,), stride=(1,), padding=(1,))\n",
      "      )\n",
      "      (6): ResCNNBlock(\n",
      "        (dropout): SpatialDropout1d(\n",
      "          (dropout): Dropout2d(p=0.1, inplace=False)\n",
      "        )\n",
      "        (norm1): BatchNorm1d(64, eps=0.001, momentum=0.1, affine=True, track_running_stats=True)\n",
      "        (conv1): Conv1d(64, 64, kernel_size=(2,), stride=(1,))\n",
      "        (norm2): BatchNorm1d(64, eps=0.001, momentum=0.1, affine=True, track_running_stats=True)\n",
      "        (conv2): Conv1d(64, 64, kernel_size=(2,), stride=(1,))\n",
      "      )\n",
      "    )\n",
      "  )\n",
      "  (bi_lstm_stack): BiLSTMStack(\n",
      "    (members): ModuleList(\n",
      "      (0): BiLSTMBlock(\n",
      "        (lstm): LSTM(64, 16, bidirectional=True)\n",
      "        (dropout): Dropout(p=0.1, inplace=False)\n",
      "        (conv): Conv1d(32, 16, kernel_size=(1,), stride=(1,))\n",
      "        (norm): BatchNorm1d(16, eps=0.001, momentum=0.1, affine=True, track_running_stats=True)\n",
      "      )\n",
      "      (1): BiLSTMBlock(\n",
      "        (lstm): LSTM(16, 16, bidirectional=True)\n",
      "        (dropout): Dropout(p=0.1, inplace=False)\n",
      "        (conv): Conv1d(32, 16, kernel_size=(1,), stride=(1,))\n",
      "        (norm): BatchNorm1d(16, eps=0.001, momentum=0.1, affine=True, track_running_stats=True)\n",
      "      )\n",
      "      (2): BiLSTMBlock(\n",
      "        (lstm): LSTM(16, 16, bidirectional=True)\n",
      "        (dropout): Dropout(p=0.1, inplace=False)\n",
      "        (conv): Conv1d(32, 16, kernel_size=(1,), stride=(1,))\n",
      "        (norm): BatchNorm1d(16, eps=0.001, momentum=0.1, affine=True, track_running_stats=True)\n",
      "      )\n",
      "    )\n",
      "  )\n",
      "  (transformer_d0): Transformer(\n",
      "    (attention): SeqSelfAttention()\n",
      "    (norm1): LayerNormalization()\n",
      "    (ff): FeedForward(\n",
      "      (lin1): Linear(in_features=16, out_features=128, bias=True)\n",
      "      (lin2): Linear(in_features=128, out_features=16, bias=True)\n",
      "      (dropout): Dropout(p=0.1, inplace=False)\n",
      "    )\n",
      "    (norm2): LayerNormalization()\n",
      "  )\n",
      "  (transformer_d): Transformer(\n",
      "    (attention): SeqSelfAttention()\n",
      "    (norm1): LayerNormalization()\n",
      "    (ff): FeedForward(\n",
      "      (lin1): Linear(in_features=16, out_features=128, bias=True)\n",
      "      (lin2): Linear(in_features=128, out_features=16, bias=True)\n",
      "      (dropout): Dropout(p=0.1, inplace=False)\n",
      "    )\n",
      "    (norm2): LayerNormalization()\n",
      "  )\n",
      "  (decoder_d): Decoder(\n",
      "    (upsample): Upsample(scale_factor=2.0, mode=nearest)\n",
      "    (convs): ModuleList(\n",
      "      (0): Conv1d(16, 64, kernel_size=(3,), stride=(1,), padding=(1,))\n",
      "      (1): Conv1d(64, 64, kernel_size=(5,), stride=(1,), padding=(2,))\n",
      "      (2): Conv1d(64, 32, kernel_size=(5,), stride=(1,), padding=(2,))\n",
      "      (3): Conv1d(32, 32, kernel_size=(7,), stride=(1,), padding=(3,))\n",
      "      (4): Conv1d(32, 16, kernel_size=(7,), stride=(1,), padding=(3,))\n",
      "      (5): Conv1d(16, 16, kernel_size=(9,), stride=(1,), padding=(4,))\n",
      "      (6): Conv1d(16, 8, kernel_size=(11,), stride=(1,), padding=(5,))\n",
      "    )\n",
      "  )\n",
      "  (conv_d): Conv1d(8, 1, kernel_size=(11,), stride=(1,), padding=(5,))\n",
      "  (dropout): Dropout(p=0.1, inplace=False)\n",
      "  (pick_lstms): ModuleList(\n",
      "    (0): LSTM(16, 16)\n",
      "    (1): LSTM(16, 16)\n",
      "  )\n",
      "  (pick_attentions): ModuleList(\n",
      "    (0): SeqSelfAttention()\n",
      "    (1): SeqSelfAttention()\n",
      "  )\n",
      "  (pick_decoders): ModuleList(\n",
      "    (0): Decoder(\n",
      "      (upsample): Upsample(scale_factor=2.0, mode=nearest)\n",
      "      (convs): ModuleList(\n",
      "        (0): Conv1d(16, 64, kernel_size=(3,), stride=(1,), padding=(1,))\n",
      "        (1): Conv1d(64, 64, kernel_size=(5,), stride=(1,), padding=(2,))\n",
      "        (2): Conv1d(64, 32, kernel_size=(5,), stride=(1,), padding=(2,))\n",
      "        (3): Conv1d(32, 32, kernel_size=(7,), stride=(1,), padding=(3,))\n",
      "        (4): Conv1d(32, 16, kernel_size=(7,), stride=(1,), padding=(3,))\n",
      "        (5): Conv1d(16, 16, kernel_size=(9,), stride=(1,), padding=(4,))\n",
      "        (6): Conv1d(16, 8, kernel_size=(11,), stride=(1,), padding=(5,))\n",
      "      )\n",
      "    )\n",
      "    (1): Decoder(\n",
      "      (upsample): Upsample(scale_factor=2.0, mode=nearest)\n",
      "      (convs): ModuleList(\n",
      "        (0): Conv1d(16, 64, kernel_size=(3,), stride=(1,), padding=(1,))\n",
      "        (1): Conv1d(64, 64, kernel_size=(5,), stride=(1,), padding=(2,))\n",
      "        (2): Conv1d(64, 32, kernel_size=(5,), stride=(1,), padding=(2,))\n",
      "        (3): Conv1d(32, 32, kernel_size=(7,), stride=(1,), padding=(3,))\n",
      "        (4): Conv1d(32, 16, kernel_size=(7,), stride=(1,), padding=(3,))\n",
      "        (5): Conv1d(16, 16, kernel_size=(9,), stride=(1,), padding=(4,))\n",
      "        (6): Conv1d(16, 8, kernel_size=(11,), stride=(1,), padding=(5,))\n",
      "      )\n",
      "    )\n",
      "  )\n",
      "  (pick_convs): ModuleList(\n",
      "    (0): Conv1d(8, 1, kernel_size=(11,), stride=(1,), padding=(5,))\n",
      "    (1): Conv1d(8, 1, kernel_size=(11,), stride=(1,), padding=(5,))\n",
      "  )\n",
      ")\n"
     ]
    }
   ],
   "source": [
    "pb = PickBlue()\n",
    "print(pb)"
   ],
   "metadata": {
    "collapsed": false,
    "pycharm": {
     "name": "#%%\n"
    }
   }
  },
  {
   "cell_type": "code",
   "execution_count": null,
   "outputs": [],
   "source": [],
   "metadata": {
    "collapsed": false,
    "pycharm": {
     "name": "#%%\n"
    }
   }
  }
 ],
 "metadata": {
  "kernelspec": {
   "display_name": "Python 3",
   "language": "python",
   "name": "python3"
  },
  "language_info": {
   "codemirror_mode": {
    "name": "ipython",
    "version": 2
   },
   "file_extension": ".py",
   "mimetype": "text/x-python",
   "name": "python",
   "nbconvert_exporter": "python",
   "pygments_lexer": "ipython2",
   "version": "2.7.6"
  }
 },
 "nbformat": 4,
 "nbformat_minor": 0
}