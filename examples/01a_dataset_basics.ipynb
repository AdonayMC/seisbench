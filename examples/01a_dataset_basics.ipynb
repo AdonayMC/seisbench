{
 "cells": [
  {
   "cell_type": "markdown",
   "id": "beca1ce1",
   "metadata": {},
   "source": [
    "<a href=\"https://colab.research.google.com/github/seisbench/seisbench/blob/additional_example_workflows/examples/01a_dataset_basics.ipynb\" target=\"_parent\"><img src=\"https://colab.research.google.com/assets/colab-badge.svg\" alt=\"Open In Colab\"/></a>"
   ]
  },
  {
   "cell_type": "markdown",
   "id": "e5663238",
   "metadata": {},
   "source": [
    "![image](https://raw.githubusercontent.com/seisbench/seisbench/main/docs/_static/seisbench_logo_subtitle_outlined.svg)"
   ]
  },
  {
   "cell_type": "markdown",
   "id": "2231cf03",
   "metadata": {},
   "source": [
    "*This code is necessary on colab to install SeisBench. If SeisBench is already installed on your machine, you can skip this.*"
   ]
  },
  {
   "cell_type": "code",
   "execution_count": 3,
   "id": "ca74b89d",
   "metadata": {},
   "outputs": [
    {
     "name": "stdout",
     "output_type": "stream",
     "text": [
      "Collecting seisbench\n",
      "  Using cached seisbench-0.6.1-py3-none-any.whl.metadata (9.9 kB)\n",
      "Requirement already satisfied: numpy>=1.21.6 in /home/nthapa/anaconda3/envs/mainpy/lib/python3.11/site-packages (from seisbench) (1.26.0)\n",
      "Requirement already satisfied: pandas>=1.1 in /home/nthapa/anaconda3/envs/mainpy/lib/python3.11/site-packages (from seisbench) (2.1.1)\n",
      "Requirement already satisfied: h5py>=3.1 in /home/nthapa/anaconda3/envs/mainpy/lib/python3.11/site-packages (from seisbench) (3.8.0)\n",
      "Requirement already satisfied: obspy>=1.3.1 in /home/nthapa/anaconda3/envs/mainpy/lib/python3.11/site-packages (from seisbench) (1.4.0)\n",
      "Requirement already satisfied: tqdm>=4.52 in /home/nthapa/anaconda3/envs/mainpy/lib/python3.11/site-packages (from seisbench) (4.66.1)\n",
      "Requirement already satisfied: torch>=1.10.0 in /home/nthapa/anaconda3/envs/mainpy/lib/python3.11/site-packages (from seisbench) (2.1.2)\n",
      "Requirement already satisfied: scipy>=1.9 in /home/nthapa/anaconda3/envs/mainpy/lib/python3.11/site-packages (from seisbench) (1.11.3)\n",
      "Requirement already satisfied: nest-asyncio>=1.5.3 in /home/nthapa/anaconda3/envs/mainpy/lib/python3.11/site-packages (from seisbench) (1.5.6)\n",
      "Requirement already satisfied: bottleneck>=1.3 in /home/nthapa/anaconda3/envs/mainpy/lib/python3.11/site-packages (from seisbench) (1.3.5)\n",
      "Requirement already satisfied: matplotlib>=3.3 in /home/nthapa/anaconda3/envs/mainpy/lib/python3.11/site-packages (from obspy>=1.3.1->seisbench) (3.6.3)\n",
      "Requirement already satisfied: lxml in /home/nthapa/anaconda3/envs/mainpy/lib/python3.11/site-packages (from obspy>=1.3.1->seisbench) (4.9.2)\n",
      "Requirement already satisfied: setuptools in /home/nthapa/anaconda3/envs/mainpy/lib/python3.11/site-packages (from obspy>=1.3.1->seisbench) (68.0.0)\n",
      "Requirement already satisfied: sqlalchemy in /home/nthapa/anaconda3/envs/mainpy/lib/python3.11/site-packages (from obspy>=1.3.1->seisbench) (1.4.49)\n",
      "Requirement already satisfied: decorator in /home/nthapa/anaconda3/envs/mainpy/lib/python3.11/site-packages (from obspy>=1.3.1->seisbench) (5.1.1)\n",
      "Requirement already satisfied: requests in /home/nthapa/anaconda3/envs/mainpy/lib/python3.11/site-packages (from obspy>=1.3.1->seisbench) (2.31.0)\n",
      "Requirement already satisfied: python-dateutil>=2.8.2 in /home/nthapa/anaconda3/envs/mainpy/lib/python3.11/site-packages (from pandas>=1.1->seisbench) (2.8.2)\n",
      "Requirement already satisfied: pytz>=2020.1 in /home/nthapa/anaconda3/envs/mainpy/lib/python3.11/site-packages (from pandas>=1.1->seisbench) (2023.3.post1)\n",
      "Requirement already satisfied: tzdata>=2022.1 in /home/nthapa/anaconda3/envs/mainpy/lib/python3.11/site-packages (from pandas>=1.1->seisbench) (2023.3)\n",
      "Requirement already satisfied: filelock in /home/nthapa/anaconda3/envs/mainpy/lib/python3.11/site-packages (from torch>=1.10.0->seisbench) (3.13.1)\n",
      "Requirement already satisfied: typing-extensions in /home/nthapa/anaconda3/envs/mainpy/lib/python3.11/site-packages (from torch>=1.10.0->seisbench) (4.7.1)\n",
      "Requirement already satisfied: sympy in /home/nthapa/anaconda3/envs/mainpy/lib/python3.11/site-packages (from torch>=1.10.0->seisbench) (1.12)\n",
      "Requirement already satisfied: networkx in /home/nthapa/anaconda3/envs/mainpy/lib/python3.11/site-packages (from torch>=1.10.0->seisbench) (3.2.1)\n",
      "Requirement already satisfied: jinja2 in /home/nthapa/anaconda3/envs/mainpy/lib/python3.11/site-packages (from torch>=1.10.0->seisbench) (3.1.2)\n",
      "Requirement already satisfied: fsspec in /home/nthapa/anaconda3/envs/mainpy/lib/python3.11/site-packages (from torch>=1.10.0->seisbench) (2023.12.2)\n",
      "Requirement already satisfied: nvidia-cuda-nvrtc-cu12==12.1.105 in /home/nthapa/anaconda3/envs/mainpy/lib/python3.11/site-packages (from torch>=1.10.0->seisbench) (12.1.105)\n",
      "Requirement already satisfied: nvidia-cuda-runtime-cu12==12.1.105 in /home/nthapa/anaconda3/envs/mainpy/lib/python3.11/site-packages (from torch>=1.10.0->seisbench) (12.1.105)\n",
      "Requirement already satisfied: nvidia-cuda-cupti-cu12==12.1.105 in /home/nthapa/anaconda3/envs/mainpy/lib/python3.11/site-packages (from torch>=1.10.0->seisbench) (12.1.105)\n",
      "Requirement already satisfied: nvidia-cudnn-cu12==8.9.2.26 in /home/nthapa/anaconda3/envs/mainpy/lib/python3.11/site-packages (from torch>=1.10.0->seisbench) (8.9.2.26)\n",
      "Requirement already satisfied: nvidia-cublas-cu12==12.1.3.1 in /home/nthapa/anaconda3/envs/mainpy/lib/python3.11/site-packages (from torch>=1.10.0->seisbench) (12.1.3.1)\n",
      "Requirement already satisfied: nvidia-cufft-cu12==11.0.2.54 in /home/nthapa/anaconda3/envs/mainpy/lib/python3.11/site-packages (from torch>=1.10.0->seisbench) (11.0.2.54)\n",
      "Requirement already satisfied: nvidia-curand-cu12==10.3.2.106 in /home/nthapa/anaconda3/envs/mainpy/lib/python3.11/site-packages (from torch>=1.10.0->seisbench) (10.3.2.106)\n",
      "Requirement already satisfied: nvidia-cusolver-cu12==11.4.5.107 in /home/nthapa/anaconda3/envs/mainpy/lib/python3.11/site-packages (from torch>=1.10.0->seisbench) (11.4.5.107)\n",
      "Requirement already satisfied: nvidia-cusparse-cu12==12.1.0.106 in /home/nthapa/anaconda3/envs/mainpy/lib/python3.11/site-packages (from torch>=1.10.0->seisbench) (12.1.0.106)\n",
      "Requirement already satisfied: nvidia-nccl-cu12==2.18.1 in /home/nthapa/anaconda3/envs/mainpy/lib/python3.11/site-packages (from torch>=1.10.0->seisbench) (2.18.1)\n",
      "Requirement already satisfied: nvidia-nvtx-cu12==12.1.105 in /home/nthapa/anaconda3/envs/mainpy/lib/python3.11/site-packages (from torch>=1.10.0->seisbench) (12.1.105)\n",
      "Requirement already satisfied: triton==2.1.0 in /home/nthapa/anaconda3/envs/mainpy/lib/python3.11/site-packages (from torch>=1.10.0->seisbench) (2.1.0)\n",
      "Requirement already satisfied: nvidia-nvjitlink-cu12 in /home/nthapa/anaconda3/envs/mainpy/lib/python3.11/site-packages (from nvidia-cusolver-cu12==11.4.5.107->torch>=1.10.0->seisbench) (12.3.101)\n",
      "Requirement already satisfied: contourpy>=1.0.1 in /home/nthapa/anaconda3/envs/mainpy/lib/python3.11/site-packages (from matplotlib>=3.3->obspy>=1.3.1->seisbench) (1.0.5)\n",
      "Requirement already satisfied: cycler>=0.10 in /home/nthapa/anaconda3/envs/mainpy/lib/python3.11/site-packages (from matplotlib>=3.3->obspy>=1.3.1->seisbench) (0.12.1)\n",
      "Requirement already satisfied: fonttools>=4.22.0 in /home/nthapa/anaconda3/envs/mainpy/lib/python3.11/site-packages (from matplotlib>=3.3->obspy>=1.3.1->seisbench) (4.43.1)\n",
      "Requirement already satisfied: kiwisolver>=1.0.1 in /home/nthapa/anaconda3/envs/mainpy/lib/python3.11/site-packages (from matplotlib>=3.3->obspy>=1.3.1->seisbench) (1.4.4)\n",
      "Requirement already satisfied: packaging>=20.0 in /home/nthapa/anaconda3/envs/mainpy/lib/python3.11/site-packages (from matplotlib>=3.3->obspy>=1.3.1->seisbench) (23.1)\n",
      "Requirement already satisfied: pillow>=6.2.0 in /home/nthapa/anaconda3/envs/mainpy/lib/python3.11/site-packages (from matplotlib>=3.3->obspy>=1.3.1->seisbench) (9.4.0)\n",
      "Requirement already satisfied: pyparsing>=2.2.1 in /home/nthapa/anaconda3/envs/mainpy/lib/python3.11/site-packages (from matplotlib>=3.3->obspy>=1.3.1->seisbench) (3.0.9)\n",
      "Requirement already satisfied: six>=1.5 in /home/nthapa/anaconda3/envs/mainpy/lib/python3.11/site-packages (from python-dateutil>=2.8.2->pandas>=1.1->seisbench) (1.16.0)\n",
      "Requirement already satisfied: MarkupSafe>=2.0 in /home/nthapa/anaconda3/envs/mainpy/lib/python3.11/site-packages (from jinja2->torch>=1.10.0->seisbench) (2.1.1)\n",
      "Requirement already satisfied: charset-normalizer<4,>=2 in /home/nthapa/anaconda3/envs/mainpy/lib/python3.11/site-packages (from requests->obspy>=1.3.1->seisbench) (2.0.4)\n",
      "Requirement already satisfied: idna<4,>=2.5 in /home/nthapa/anaconda3/envs/mainpy/lib/python3.11/site-packages (from requests->obspy>=1.3.1->seisbench) (3.4)\n",
      "Requirement already satisfied: urllib3<3,>=1.21.1 in /home/nthapa/anaconda3/envs/mainpy/lib/python3.11/site-packages (from requests->obspy>=1.3.1->seisbench) (1.26.16)\n",
      "Requirement already satisfied: certifi>=2017.4.17 in /home/nthapa/anaconda3/envs/mainpy/lib/python3.11/site-packages (from requests->obspy>=1.3.1->seisbench) (2023.11.17)\n",
      "Requirement already satisfied: greenlet!=0.4.17 in /home/nthapa/anaconda3/envs/mainpy/lib/python3.11/site-packages (from sqlalchemy->obspy>=1.3.1->seisbench) (2.0.1)\n",
      "Requirement already satisfied: mpmath>=0.19 in /home/nthapa/anaconda3/envs/mainpy/lib/python3.11/site-packages (from sympy->torch>=1.10.0->seisbench) (1.3.0)\n"
     ]
    },
    {
     "name": "stdout",
     "output_type": "stream",
     "text": [
      "Using cached seisbench-0.6.1-py3-none-any.whl (163 kB)\n",
      "Installing collected packages: seisbench\n",
      "Successfully installed seisbench-0.6.1\n"
     ]
    }
   ],
   "source": [
    "!pip install seisbench"
   ]
  },
  {
   "cell_type": "markdown",
   "id": "67ccfc84",
   "metadata": {},
   "source": [
    "# Dataset basics\n",
    "\n",
    "This tutorial introduces the basics of datasets and benchmark datasets in SeisBench. It explains how load a dataset, how to filter it and how to access the data."
   ]
  },
  {
   "cell_type": "code",
   "execution_count": 1,
   "id": "5ec6d791",
   "metadata": {},
   "outputs": [],
   "source": [
    "import seisbench\n",
    "import seisbench.data as sbd"
   ]
  },
  {
   "cell_type": "markdown",
   "id": "d9d4208c",
   "metadata": {},
   "source": [
    "### Loading a dataset"
   ]
  },
  {
   "cell_type": "markdown",
   "id": "63978957",
   "metadata": {},
   "source": [
    "There are two ways of loading a dataset:\n",
    "1. loading a benchmark dataset\n",
    "2. loading a dataset from disk\n",
    "\n",
    "We will first explore benchmark datasets. Benchmark datasets are represented by classes in SeisBench. When instantiating the class, SeisBench will check if the data is available and otherwise download it. Our example dataset is the DummyDataset, that we load below."
   ]
  },
  {
   "cell_type": "code",
   "execution_count": 2,
   "id": "b0513e81",
   "metadata": {},
   "outputs": [
    {
     "name": "stdout",
     "output_type": "stream",
     "text": [
      "DummyDataset - 100 traces\n"
     ]
    }
   ],
   "source": [
    "data = sbd.DummyDataset()\n",
    "print(data)"
   ]
  },
  {
   "cell_type": "markdown",
   "id": "e78d66e5",
   "metadata": {},
   "source": [
    "When running this command for the first time, the dataset is downloaded. All downloaded data is stored in the SeisBench cache. The location of the cache defaults to `~/.seisbench`, but can be set using the environment variable `SEISBENCH_CACHE_ROOT`. Let's inspect the cache. Depending which commands where used before, it contains at least the directory `datasets`. Inside this directory, each locally available dataset has its own folder. If we look into the folder `dummydataset`, we find two relevant files `metadata.csv` and `waveforms.hdf5`, containing the metadata and the waveforms."
   ]
  },
  {
   "cell_type": "code",
   "execution_count": 3,
   "id": "101aa0d7",
   "metadata": {},
   "outputs": [
    {
     "name": "stdout",
     "output_type": "stream",
     "text": [
      "Cache root: /home/nthapa/.seisbench\n",
      "Contents: ['config.json', 'datasets']\n",
      "datasets: ['dummydataset']\n",
      "dummydataset: ['waveforms.hdf5', 'metadata.csv']\n"
     ]
    }
   ],
   "source": [
    "import os\n",
    "print(\"Cache root:\", seisbench.cache_root)\n",
    "print(\"Contents:\", os.listdir(seisbench.cache_root))\n",
    "print(\"datasets:\", os.listdir(seisbench.cache_root / \"datasets\"))\n",
    "print(\"dummydataset:\", os.listdir(seisbench.cache_root / \"datasets\" / \"dummydataset\"))"
   ]
  },
  {
   "cell_type": "markdown",
   "id": "6013854f",
   "metadata": {},
   "source": [
    "The second way of loading a dataset is loading it from disk by simply providing the path to the directory containing the `metadata.csv` and `waveforms.hdf5` files. We'll demonstrate this using the DummyDataset, even though we'd always recommend loading benchmark dataset through their classes."
   ]
  },
  {
   "cell_type": "code",
   "execution_count": 4,
   "id": "bbd8359e",
   "metadata": {},
   "outputs": [
    {
     "name": "stdout",
     "output_type": "stream",
     "text": [
      "Unnamed dataset - 100 traces\n"
     ]
    }
   ],
   "source": [
    "dummy_from_disk = sbd.WaveformDataset(seisbench.cache_root / \"datasets\" / \"dummydataset\")\n",
    "print(dummy_from_disk)"
   ]
  },
  {
   "cell_type": "markdown",
   "id": "51590924",
   "metadata": {},
   "source": [
    "### What does a dataset contain?"
   ]
  },
  {
   "cell_type": "markdown",
   "id": "84f58f77",
   "metadata": {},
   "source": [
    "Each dataset consists of waveforms and the associated metadata. Let's first inspect the metadata. It is represented by a pandas DataFrame and lists for each trace different attributes, describing properties of the source, the trace, the station and possibly the path. When loading a dataset, only the metadata is loaded into memory. The waveforms are loaded on demand. For details, see the section on \"Configuring a dataset\"."
   ]
  },
  {
   "cell_type": "code",
   "execution_count": 5,
   "id": "9601d50a",
   "metadata": {},
   "outputs": [
    {
     "data": {
      "text/html": [
       "<div>\n",
       "<style scoped>\n",
       "    .dataframe tbody tr th:only-of-type {\n",
       "        vertical-align: middle;\n",
       "    }\n",
       "\n",
       "    .dataframe tbody tr th {\n",
       "        vertical-align: top;\n",
       "    }\n",
       "\n",
       "    .dataframe thead th {\n",
       "        text-align: right;\n",
       "    }\n",
       "</style>\n",
       "<table border=\"1\" class=\"dataframe\">\n",
       "  <thead>\n",
       "    <tr style=\"text-align: right;\">\n",
       "      <th></th>\n",
       "      <th>index</th>\n",
       "      <th>trace_start_time</th>\n",
       "      <th>source_latitude_deg</th>\n",
       "      <th>source_longitude_deg</th>\n",
       "      <th>source_depth_km</th>\n",
       "      <th>source_event_category</th>\n",
       "      <th>source_magnitude</th>\n",
       "      <th>source_magnitude_uncertainty</th>\n",
       "      <th>source_magnitude2</th>\n",
       "      <th>source_magnitude_uncertainty2</th>\n",
       "      <th>...</th>\n",
       "      <th>station_latitude_deg</th>\n",
       "      <th>station_longitude_deg</th>\n",
       "      <th>station_elevation_m</th>\n",
       "      <th>source_magnitude_type</th>\n",
       "      <th>source_magnitude_type2</th>\n",
       "      <th>split</th>\n",
       "      <th>trace_name_original</th>\n",
       "      <th>trace_chunk</th>\n",
       "      <th>trace_sampling_rate_hz</th>\n",
       "      <th>trace_component_order</th>\n",
       "    </tr>\n",
       "  </thead>\n",
       "  <tbody>\n",
       "    <tr>\n",
       "      <th>0</th>\n",
       "      <td>0</td>\n",
       "      <td>2007/01/01 01:42:45.08</td>\n",
       "      <td>-20.43802</td>\n",
       "      <td>-69.27681</td>\n",
       "      <td>83.18</td>\n",
       "      <td>ID</td>\n",
       "      <td>1.353</td>\n",
       "      <td>0.014</td>\n",
       "      <td>1.426</td>\n",
       "      <td>0.011</td>\n",
       "      <td>...</td>\n",
       "      <td>-21.04323</td>\n",
       "      <td>-69.4874</td>\n",
       "      <td>900.0</td>\n",
       "      <td>MA</td>\n",
       "      <td>ML</td>\n",
       "      <td>train</td>\n",
       "      <td>2007_01_01 01_42_45_08</td>\n",
       "      <td></td>\n",
       "      <td>20</td>\n",
       "      <td>ZNE</td>\n",
       "    </tr>\n",
       "    <tr>\n",
       "      <th>1</th>\n",
       "      <td>1</td>\n",
       "      <td>2007/01/01 02:41:13.75</td>\n",
       "      <td>-21.64059</td>\n",
       "      <td>-68.41443</td>\n",
       "      <td>118.38</td>\n",
       "      <td>ID</td>\n",
       "      <td>1.981</td>\n",
       "      <td>0.020</td>\n",
       "      <td>2.027</td>\n",
       "      <td>0.023</td>\n",
       "      <td>...</td>\n",
       "      <td>-21.04323</td>\n",
       "      <td>-69.4874</td>\n",
       "      <td>900.0</td>\n",
       "      <td>MA</td>\n",
       "      <td>ML</td>\n",
       "      <td>train</td>\n",
       "      <td>2007_01_01 02_41_13_75</td>\n",
       "      <td></td>\n",
       "      <td>20</td>\n",
       "      <td>ZNE</td>\n",
       "    </tr>\n",
       "    <tr>\n",
       "      <th>2</th>\n",
       "      <td>2</td>\n",
       "      <td>2007/01/01 03:50:29.27</td>\n",
       "      <td>-21.84637</td>\n",
       "      <td>-68.53904</td>\n",
       "      <td>111.82</td>\n",
       "      <td>ID</td>\n",
       "      <td>2.719</td>\n",
       "      <td>0.024</td>\n",
       "      <td>2.811</td>\n",
       "      <td>0.026</td>\n",
       "      <td>...</td>\n",
       "      <td>-21.04323</td>\n",
       "      <td>-69.4874</td>\n",
       "      <td>900.0</td>\n",
       "      <td>MA</td>\n",
       "      <td>ML</td>\n",
       "      <td>train</td>\n",
       "      <td>2007_01_01 03_50_29_27</td>\n",
       "      <td></td>\n",
       "      <td>20</td>\n",
       "      <td>ZNE</td>\n",
       "    </tr>\n",
       "    <tr>\n",
       "      <th>3</th>\n",
       "      <td>3</td>\n",
       "      <td>2007/01/01 05:40:02.55</td>\n",
       "      <td>-21.23950</td>\n",
       "      <td>-70.05063</td>\n",
       "      <td>34.95</td>\n",
       "      <td>UP</td>\n",
       "      <td>2.169</td>\n",
       "      <td>0.020</td>\n",
       "      <td>2.269</td>\n",
       "      <td>0.020</td>\n",
       "      <td>...</td>\n",
       "      <td>-21.04323</td>\n",
       "      <td>-69.4874</td>\n",
       "      <td>900.0</td>\n",
       "      <td>MA</td>\n",
       "      <td>ML</td>\n",
       "      <td>train</td>\n",
       "      <td>2007_01_01 05_40_02_55</td>\n",
       "      <td></td>\n",
       "      <td>20</td>\n",
       "      <td>ZNE</td>\n",
       "    </tr>\n",
       "    <tr>\n",
       "      <th>4</th>\n",
       "      <td>4</td>\n",
       "      <td>2007/01/01 05:52:18.43</td>\n",
       "      <td>-21.81511</td>\n",
       "      <td>-68.65773</td>\n",
       "      <td>106.69</td>\n",
       "      <td>ID</td>\n",
       "      <td>2.028</td>\n",
       "      <td>0.021</td>\n",
       "      <td>2.080</td>\n",
       "      <td>0.024</td>\n",
       "      <td>...</td>\n",
       "      <td>-21.04323</td>\n",
       "      <td>-69.4874</td>\n",
       "      <td>900.0</td>\n",
       "      <td>MA</td>\n",
       "      <td>ML</td>\n",
       "      <td>train</td>\n",
       "      <td>2007_01_01 05_52_18_43</td>\n",
       "      <td></td>\n",
       "      <td>20</td>\n",
       "      <td>ZNE</td>\n",
       "    </tr>\n",
       "    <tr>\n",
       "      <th>...</th>\n",
       "      <td>...</td>\n",
       "      <td>...</td>\n",
       "      <td>...</td>\n",
       "      <td>...</td>\n",
       "      <td>...</td>\n",
       "      <td>...</td>\n",
       "      <td>...</td>\n",
       "      <td>...</td>\n",
       "      <td>...</td>\n",
       "      <td>...</td>\n",
       "      <td>...</td>\n",
       "      <td>...</td>\n",
       "      <td>...</td>\n",
       "      <td>...</td>\n",
       "      <td>...</td>\n",
       "      <td>...</td>\n",
       "      <td>...</td>\n",
       "      <td>...</td>\n",
       "      <td>...</td>\n",
       "      <td>...</td>\n",
       "      <td>...</td>\n",
       "    </tr>\n",
       "    <tr>\n",
       "      <th>95</th>\n",
       "      <td>95</td>\n",
       "      <td>2007/01/07 05:19:53.63</td>\n",
       "      <td>-21.02248</td>\n",
       "      <td>-68.96970</td>\n",
       "      <td>109.05</td>\n",
       "      <td>ID</td>\n",
       "      <td>1.464</td>\n",
       "      <td>0.016</td>\n",
       "      <td>1.513</td>\n",
       "      <td>0.021</td>\n",
       "      <td>...</td>\n",
       "      <td>-21.04323</td>\n",
       "      <td>-69.4874</td>\n",
       "      <td>900.0</td>\n",
       "      <td>MA</td>\n",
       "      <td>ML</td>\n",
       "      <td>test</td>\n",
       "      <td>2007_01_07 05_19_53_63</td>\n",
       "      <td></td>\n",
       "      <td>20</td>\n",
       "      <td>ZNE</td>\n",
       "    </tr>\n",
       "    <tr>\n",
       "      <th>96</th>\n",
       "      <td>96</td>\n",
       "      <td>2007/01/07 05:25:44.43</td>\n",
       "      <td>-20.06507</td>\n",
       "      <td>-69.15500</td>\n",
       "      <td>93.64</td>\n",
       "      <td>ID</td>\n",
       "      <td>1.606</td>\n",
       "      <td>0.024</td>\n",
       "      <td>1.660</td>\n",
       "      <td>0.026</td>\n",
       "      <td>...</td>\n",
       "      <td>-21.04323</td>\n",
       "      <td>-69.4874</td>\n",
       "      <td>900.0</td>\n",
       "      <td>MA</td>\n",
       "      <td>ML</td>\n",
       "      <td>test</td>\n",
       "      <td>2007_01_07 05_25_44_43</td>\n",
       "      <td></td>\n",
       "      <td>20</td>\n",
       "      <td>ZNE</td>\n",
       "    </tr>\n",
       "    <tr>\n",
       "      <th>97</th>\n",
       "      <td>97</td>\n",
       "      <td>2007/01/07 06:37:03.33</td>\n",
       "      <td>-21.13000</td>\n",
       "      <td>-68.90223</td>\n",
       "      <td>110.59</td>\n",
       "      <td>ID</td>\n",
       "      <td>1.530</td>\n",
       "      <td>0.012</td>\n",
       "      <td>1.574</td>\n",
       "      <td>0.013</td>\n",
       "      <td>...</td>\n",
       "      <td>-21.04323</td>\n",
       "      <td>-69.4874</td>\n",
       "      <td>900.0</td>\n",
       "      <td>MA</td>\n",
       "      <td>ML</td>\n",
       "      <td>test</td>\n",
       "      <td>2007_01_07 06_37_03_33</td>\n",
       "      <td></td>\n",
       "      <td>20</td>\n",
       "      <td>ZNE</td>\n",
       "    </tr>\n",
       "    <tr>\n",
       "      <th>98</th>\n",
       "      <td>98</td>\n",
       "      <td>2007/01/07 06:39:20.08</td>\n",
       "      <td>-21.26966</td>\n",
       "      <td>-68.73751</td>\n",
       "      <td>120.06</td>\n",
       "      <td>ID</td>\n",
       "      <td>3.514</td>\n",
       "      <td>0.035</td>\n",
       "      <td>3.584</td>\n",
       "      <td>0.032</td>\n",
       "      <td>...</td>\n",
       "      <td>-21.04323</td>\n",
       "      <td>-69.4874</td>\n",
       "      <td>900.0</td>\n",
       "      <td>MA</td>\n",
       "      <td>ML</td>\n",
       "      <td>test</td>\n",
       "      <td>2007_01_07 06_39_20_08</td>\n",
       "      <td></td>\n",
       "      <td>20</td>\n",
       "      <td>ZNE</td>\n",
       "    </tr>\n",
       "    <tr>\n",
       "      <th>99</th>\n",
       "      <td>99</td>\n",
       "      <td>2007/01/07 08:11:16.15</td>\n",
       "      <td>-21.98446</td>\n",
       "      <td>-68.50909</td>\n",
       "      <td>126.73</td>\n",
       "      <td>ID</td>\n",
       "      <td>2.559</td>\n",
       "      <td>0.023</td>\n",
       "      <td>2.606</td>\n",
       "      <td>0.024</td>\n",
       "      <td>...</td>\n",
       "      <td>-21.04323</td>\n",
       "      <td>-69.4874</td>\n",
       "      <td>900.0</td>\n",
       "      <td>MA</td>\n",
       "      <td>ML</td>\n",
       "      <td>test</td>\n",
       "      <td>2007_01_07 08_11_16_15</td>\n",
       "      <td></td>\n",
       "      <td>20</td>\n",
       "      <td>ZNE</td>\n",
       "    </tr>\n",
       "  </tbody>\n",
       "</table>\n",
       "<p>100 rows × 24 columns</p>\n",
       "</div>"
      ],
      "text/plain": [
       "    index        trace_start_time  source_latitude_deg  source_longitude_deg  \\\n",
       "0       0  2007/01/01 01:42:45.08            -20.43802             -69.27681   \n",
       "1       1  2007/01/01 02:41:13.75            -21.64059             -68.41443   \n",
       "2       2  2007/01/01 03:50:29.27            -21.84637             -68.53904   \n",
       "3       3  2007/01/01 05:40:02.55            -21.23950             -70.05063   \n",
       "4       4  2007/01/01 05:52:18.43            -21.81511             -68.65773   \n",
       "..    ...                     ...                  ...                   ...   \n",
       "95     95  2007/01/07 05:19:53.63            -21.02248             -68.96970   \n",
       "96     96  2007/01/07 05:25:44.43            -20.06507             -69.15500   \n",
       "97     97  2007/01/07 06:37:03.33            -21.13000             -68.90223   \n",
       "98     98  2007/01/07 06:39:20.08            -21.26966             -68.73751   \n",
       "99     99  2007/01/07 08:11:16.15            -21.98446             -68.50909   \n",
       "\n",
       "    source_depth_km source_event_category  source_magnitude  \\\n",
       "0             83.18                    ID             1.353   \n",
       "1            118.38                    ID             1.981   \n",
       "2            111.82                    ID             2.719   \n",
       "3             34.95                    UP             2.169   \n",
       "4            106.69                    ID             2.028   \n",
       "..              ...                   ...               ...   \n",
       "95           109.05                    ID             1.464   \n",
       "96            93.64                    ID             1.606   \n",
       "97           110.59                    ID             1.530   \n",
       "98           120.06                    ID             3.514   \n",
       "99           126.73                    ID             2.559   \n",
       "\n",
       "    source_magnitude_uncertainty  source_magnitude2  \\\n",
       "0                          0.014              1.426   \n",
       "1                          0.020              2.027   \n",
       "2                          0.024              2.811   \n",
       "3                          0.020              2.269   \n",
       "4                          0.021              2.080   \n",
       "..                           ...                ...   \n",
       "95                         0.016              1.513   \n",
       "96                         0.024              1.660   \n",
       "97                         0.012              1.574   \n",
       "98                         0.035              3.584   \n",
       "99                         0.023              2.606   \n",
       "\n",
       "    source_magnitude_uncertainty2  ... station_latitude_deg  \\\n",
       "0                           0.011  ...            -21.04323   \n",
       "1                           0.023  ...            -21.04323   \n",
       "2                           0.026  ...            -21.04323   \n",
       "3                           0.020  ...            -21.04323   \n",
       "4                           0.024  ...            -21.04323   \n",
       "..                            ...  ...                  ...   \n",
       "95                          0.021  ...            -21.04323   \n",
       "96                          0.026  ...            -21.04323   \n",
       "97                          0.013  ...            -21.04323   \n",
       "98                          0.032  ...            -21.04323   \n",
       "99                          0.024  ...            -21.04323   \n",
       "\n",
       "   station_longitude_deg station_elevation_m source_magnitude_type  \\\n",
       "0               -69.4874               900.0                    MA   \n",
       "1               -69.4874               900.0                    MA   \n",
       "2               -69.4874               900.0                    MA   \n",
       "3               -69.4874               900.0                    MA   \n",
       "4               -69.4874               900.0                    MA   \n",
       "..                   ...                 ...                   ...   \n",
       "95              -69.4874               900.0                    MA   \n",
       "96              -69.4874               900.0                    MA   \n",
       "97              -69.4874               900.0                    MA   \n",
       "98              -69.4874               900.0                    MA   \n",
       "99              -69.4874               900.0                    MA   \n",
       "\n",
       "    source_magnitude_type2  split     trace_name_original trace_chunk  \\\n",
       "0                       ML  train  2007_01_01 01_42_45_08               \n",
       "1                       ML  train  2007_01_01 02_41_13_75               \n",
       "2                       ML  train  2007_01_01 03_50_29_27               \n",
       "3                       ML  train  2007_01_01 05_40_02_55               \n",
       "4                       ML  train  2007_01_01 05_52_18_43               \n",
       "..                     ...    ...                     ...         ...   \n",
       "95                      ML   test  2007_01_07 05_19_53_63               \n",
       "96                      ML   test  2007_01_07 05_25_44_43               \n",
       "97                      ML   test  2007_01_07 06_37_03_33               \n",
       "98                      ML   test  2007_01_07 06_39_20_08               \n",
       "99                      ML   test  2007_01_07 08_11_16_15               \n",
       "\n",
       "   trace_sampling_rate_hz trace_component_order  \n",
       "0                      20                   ZNE  \n",
       "1                      20                   ZNE  \n",
       "2                      20                   ZNE  \n",
       "3                      20                   ZNE  \n",
       "4                      20                   ZNE  \n",
       "..                    ...                   ...  \n",
       "95                     20                   ZNE  \n",
       "96                     20                   ZNE  \n",
       "97                     20                   ZNE  \n",
       "98                     20                   ZNE  \n",
       "99                     20                   ZNE  \n",
       "\n",
       "[100 rows x 24 columns]"
      ]
     },
     "execution_count": 5,
     "metadata": {},
     "output_type": "execute_result"
    }
   ],
   "source": [
    "data.metadata"
   ]
  },
  {
   "cell_type": "markdown",
   "id": "6fb6a082",
   "metadata": {},
   "source": [
    "Now let's say, we want to obtain the waveforms associated with trace 3. This can be done using the `get_waveforms` method."
   ]
  },
  {
   "cell_type": "code",
   "execution_count": 6,
   "id": "8729601f",
   "metadata": {},
   "outputs": [
    {
     "name": "stdout",
     "output_type": "stream",
     "text": [
      "waveforms.shape: (3, 1200)\n"
     ]
    },
    {
     "data": {
      "image/png": "[encoded data removed]",
      "text/plain": [
       "<Figure size 640x480 with 1 Axes>"
      ]
     },
     "metadata": {},
     "output_type": "display_data"
    }
   ],
   "source": [
    "waveforms = data.get_waveforms(1)\n",
    "print(\"waveforms.shape:\", waveforms.shape)\n",
    "\n",
    "import matplotlib.pyplot as plt\n",
    "plt.plot(waveforms.T);"
   ]
  },
  {
   "cell_type": "markdown",
   "id": "be341236",
   "metadata": {},
   "source": [
    "You can also request waveforms for multiple traces at once."
   ]
  },
  {
   "cell_type": "code",
   "execution_count": 7,
   "id": "001ed495",
   "metadata": {},
   "outputs": [
    {
     "name": "stdout",
     "output_type": "stream",
     "text": [
      "waveforms.shape: (4, 3, 1200)\n"
     ]
    },
    {
     "data": {
      "image/png": "[encoded data removed]",
      "text/plain": [
       "<Figure size 640x480 with 1 Axes>"
      ]
     },
     "metadata": {},
     "output_type": "display_data"
    }
   ],
   "source": [
    "waveforms = data.get_waveforms([3, 20, 45, 70])\n",
    "print(\"waveforms.shape:\", waveforms.shape)\n",
    "for waveform in waveforms: \n",
    "    plt.plot(waveform.T)"
   ]
  },
  {
   "cell_type": "markdown",
   "id": "41c43871",
   "metadata": {},
   "source": [
    "Benchmark dataset contain several special attributes, which simple waveform dataset do not posses. Here are two examples:"
   ]
  },
  {
   "cell_type": "code",
   "execution_count": 8,
   "id": "d1e68fd3",
   "metadata": {},
   "outputs": [
    {
     "name": "stdout",
     "output_type": "stream",
     "text": [
      "Citation: Münchmeyer, Jannes; Bindi, Dino; Sippl, Christian; Leser, Ulf; Tilmann, Frederik (2019): Magnitude scales, attenuation models and feature matrices for the IPOC catalog. V. 1.0. GFZ Data Services. https://doi.org/10.5880/GFZ.2.4.2019.004\n",
      "License: None\n"
     ]
    }
   ],
   "source": [
    "print('Citation:', data.citation)\n",
    "print('License:', data.license)"
   ]
  },
  {
   "cell_type": "markdown",
   "id": "c06b7931",
   "metadata": {},
   "source": [
    "### Filtering a dataset"
   ]
  },
  {
   "cell_type": "markdown",
   "id": "ca131d4a",
   "metadata": {},
   "source": [
    "Often, you don't want to use a full dataset, but only parts of it. For this, datasets offer the `filter` method. By default `filter` is applied inplace, but it can also be used to return the desired subset."
   ]
  },
  {
   "cell_type": "code",
   "execution_count": 9,
   "id": "3938635b",
   "metadata": {},
   "outputs": [
    {
     "name": "stdout",
     "output_type": "stream",
     "text": [
      "DummyDataset - 7 traces\n"
     ]
    },
    {
     "data": {
      "text/html": [
       "<div>\n",
       "<style scoped>\n",
       "    .dataframe tbody tr th:only-of-type {\n",
       "        vertical-align: middle;\n",
       "    }\n",
       "\n",
       "    .dataframe tbody tr th {\n",
       "        vertical-align: top;\n",
       "    }\n",
       "\n",
       "    .dataframe thead th {\n",
       "        text-align: right;\n",
       "    }\n",
       "</style>\n",
       "<table border=\"1\" class=\"dataframe\">\n",
       "  <thead>\n",
       "    <tr style=\"text-align: right;\">\n",
       "      <th></th>\n",
       "      <th>index</th>\n",
       "      <th>trace_start_time</th>\n",
       "      <th>source_latitude_deg</th>\n",
       "      <th>source_longitude_deg</th>\n",
       "      <th>source_depth_km</th>\n",
       "      <th>source_event_category</th>\n",
       "      <th>source_magnitude</th>\n",
       "      <th>source_magnitude_uncertainty</th>\n",
       "      <th>source_magnitude2</th>\n",
       "      <th>source_magnitude_uncertainty2</th>\n",
       "      <th>...</th>\n",
       "      <th>station_latitude_deg</th>\n",
       "      <th>station_longitude_deg</th>\n",
       "      <th>station_elevation_m</th>\n",
       "      <th>source_magnitude_type</th>\n",
       "      <th>source_magnitude_type2</th>\n",
       "      <th>split</th>\n",
       "      <th>trace_name_original</th>\n",
       "      <th>trace_chunk</th>\n",
       "      <th>trace_sampling_rate_hz</th>\n",
       "      <th>trace_component_order</th>\n",
       "    </tr>\n",
       "  </thead>\n",
       "  <tbody>\n",
       "    <tr>\n",
       "      <th>35</th>\n",
       "      <td>35</td>\n",
       "      <td>2007/01/03 06:20:44.24</td>\n",
       "      <td>-19.83229</td>\n",
       "      <td>-69.00765</td>\n",
       "      <td>107.70</td>\n",
       "      <td>ID</td>\n",
       "      <td>3.088</td>\n",
       "      <td>0.040</td>\n",
       "      <td>3.193</td>\n",
       "      <td>0.039</td>\n",
       "      <td>...</td>\n",
       "      <td>-21.04323</td>\n",
       "      <td>-69.4874</td>\n",
       "      <td>900.0</td>\n",
       "      <td>MA</td>\n",
       "      <td>ML</td>\n",
       "      <td>train</td>\n",
       "      <td>2007_01_03 06_20_44_24</td>\n",
       "      <td></td>\n",
       "      <td>20</td>\n",
       "      <td>ZNE</td>\n",
       "    </tr>\n",
       "    <tr>\n",
       "      <th>49</th>\n",
       "      <td>49</td>\n",
       "      <td>2007/01/04 00:34:38.83</td>\n",
       "      <td>-22.36096</td>\n",
       "      <td>-70.38094</td>\n",
       "      <td>63.18</td>\n",
       "      <td>P3</td>\n",
       "      <td>3.629</td>\n",
       "      <td>0.013</td>\n",
       "      <td>3.765</td>\n",
       "      <td>0.017</td>\n",
       "      <td>...</td>\n",
       "      <td>-21.04323</td>\n",
       "      <td>-69.4874</td>\n",
       "      <td>900.0</td>\n",
       "      <td>MA</td>\n",
       "      <td>ML</td>\n",
       "      <td>train</td>\n",
       "      <td>2007_01_04 00_34_38_83</td>\n",
       "      <td></td>\n",
       "      <td>20</td>\n",
       "      <td>ZNE</td>\n",
       "    </tr>\n",
       "    <tr>\n",
       "      <th>54</th>\n",
       "      <td>54</td>\n",
       "      <td>2007/01/04 02:54:38.63</td>\n",
       "      <td>-19.48479</td>\n",
       "      <td>-69.42889</td>\n",
       "      <td>103.58</td>\n",
       "      <td>ID</td>\n",
       "      <td>4.069</td>\n",
       "      <td>0.035</td>\n",
       "      <td>4.232</td>\n",
       "      <td>0.038</td>\n",
       "      <td>...</td>\n",
       "      <td>-21.04323</td>\n",
       "      <td>-69.4874</td>\n",
       "      <td>900.0</td>\n",
       "      <td>MA</td>\n",
       "      <td>ML</td>\n",
       "      <td>train</td>\n",
       "      <td>2007_01_04 02_54_38_63</td>\n",
       "      <td></td>\n",
       "      <td>20</td>\n",
       "      <td>ZNE</td>\n",
       "    </tr>\n",
       "    <tr>\n",
       "      <th>80</th>\n",
       "      <td>80</td>\n",
       "      <td>2007/01/06 02:12:53.13</td>\n",
       "      <td>-20.14756</td>\n",
       "      <td>-69.14842</td>\n",
       "      <td>96.69</td>\n",
       "      <td>ID</td>\n",
       "      <td>3.188</td>\n",
       "      <td>0.021</td>\n",
       "      <td>3.308</td>\n",
       "      <td>0.017</td>\n",
       "      <td>...</td>\n",
       "      <td>-21.04323</td>\n",
       "      <td>-69.4874</td>\n",
       "      <td>900.0</td>\n",
       "      <td>MA</td>\n",
       "      <td>ML</td>\n",
       "      <td>test</td>\n",
       "      <td>2007_01_06 02_12_53_13</td>\n",
       "      <td></td>\n",
       "      <td>20</td>\n",
       "      <td>ZNE</td>\n",
       "    </tr>\n",
       "    <tr>\n",
       "      <th>86</th>\n",
       "      <td>86</td>\n",
       "      <td>2007/01/06 14:02:09.66</td>\n",
       "      <td>-20.17133</td>\n",
       "      <td>-69.13318</td>\n",
       "      <td>97.44</td>\n",
       "      <td>ID</td>\n",
       "      <td>4.070</td>\n",
       "      <td>0.026</td>\n",
       "      <td>4.205</td>\n",
       "      <td>0.027</td>\n",
       "      <td>...</td>\n",
       "      <td>-21.04323</td>\n",
       "      <td>-69.4874</td>\n",
       "      <td>900.0</td>\n",
       "      <td>MA</td>\n",
       "      <td>ML</td>\n",
       "      <td>test</td>\n",
       "      <td>2007_01_06 14_02_09_66</td>\n",
       "      <td></td>\n",
       "      <td>20</td>\n",
       "      <td>ZNE</td>\n",
       "    </tr>\n",
       "    <tr>\n",
       "      <th>92</th>\n",
       "      <td>92</td>\n",
       "      <td>2007/01/07 01:19:38.56</td>\n",
       "      <td>-21.98466</td>\n",
       "      <td>-68.62362</td>\n",
       "      <td>125.11</td>\n",
       "      <td>ID</td>\n",
       "      <td>3.603</td>\n",
       "      <td>0.029</td>\n",
       "      <td>3.682</td>\n",
       "      <td>0.032</td>\n",
       "      <td>...</td>\n",
       "      <td>-21.04323</td>\n",
       "      <td>-69.4874</td>\n",
       "      <td>900.0</td>\n",
       "      <td>MA</td>\n",
       "      <td>ML</td>\n",
       "      <td>test</td>\n",
       "      <td>2007_01_07 01_19_38_56</td>\n",
       "      <td></td>\n",
       "      <td>20</td>\n",
       "      <td>ZNE</td>\n",
       "    </tr>\n",
       "    <tr>\n",
       "      <th>98</th>\n",
       "      <td>98</td>\n",
       "      <td>2007/01/07 06:39:20.08</td>\n",
       "      <td>-21.26966</td>\n",
       "      <td>-68.73751</td>\n",
       "      <td>120.06</td>\n",
       "      <td>ID</td>\n",
       "      <td>3.514</td>\n",
       "      <td>0.035</td>\n",
       "      <td>3.584</td>\n",
       "      <td>0.032</td>\n",
       "      <td>...</td>\n",
       "      <td>-21.04323</td>\n",
       "      <td>-69.4874</td>\n",
       "      <td>900.0</td>\n",
       "      <td>MA</td>\n",
       "      <td>ML</td>\n",
       "      <td>test</td>\n",
       "      <td>2007_01_07 06_39_20_08</td>\n",
       "      <td></td>\n",
       "      <td>20</td>\n",
       "      <td>ZNE</td>\n",
       "    </tr>\n",
       "  </tbody>\n",
       "</table>\n",
       "<p>7 rows × 24 columns</p>\n",
       "</div>"
      ],
      "text/plain": [
       "    index        trace_start_time  source_latitude_deg  source_longitude_deg  \\\n",
       "35     35  2007/01/03 06:20:44.24            -19.83229             -69.00765   \n",
       "49     49  2007/01/04 00:34:38.83            -22.36096             -70.38094   \n",
       "54     54  2007/01/04 02:54:38.63            -19.48479             -69.42889   \n",
       "80     80  2007/01/06 02:12:53.13            -20.14756             -69.14842   \n",
       "86     86  2007/01/06 14:02:09.66            -20.17133             -69.13318   \n",
       "92     92  2007/01/07 01:19:38.56            -21.98466             -68.62362   \n",
       "98     98  2007/01/07 06:39:20.08            -21.26966             -68.73751   \n",
       "\n",
       "    source_depth_km source_event_category  source_magnitude  \\\n",
       "35           107.70                    ID             3.088   \n",
       "49            63.18                    P3             3.629   \n",
       "54           103.58                    ID             4.069   \n",
       "80            96.69                    ID             3.188   \n",
       "86            97.44                    ID             4.070   \n",
       "92           125.11                    ID             3.603   \n",
       "98           120.06                    ID             3.514   \n",
       "\n",
       "    source_magnitude_uncertainty  source_magnitude2  \\\n",
       "35                         0.040              3.193   \n",
       "49                         0.013              3.765   \n",
       "54                         0.035              4.232   \n",
       "80                         0.021              3.308   \n",
       "86                         0.026              4.205   \n",
       "92                         0.029              3.682   \n",
       "98                         0.035              3.584   \n",
       "\n",
       "    source_magnitude_uncertainty2  ... station_latitude_deg  \\\n",
       "35                          0.039  ...            -21.04323   \n",
       "49                          0.017  ...            -21.04323   \n",
       "54                          0.038  ...            -21.04323   \n",
       "80                          0.017  ...            -21.04323   \n",
       "86                          0.027  ...            -21.04323   \n",
       "92                          0.032  ...            -21.04323   \n",
       "98                          0.032  ...            -21.04323   \n",
       "\n",
       "   station_longitude_deg station_elevation_m source_magnitude_type  \\\n",
       "35              -69.4874               900.0                    MA   \n",
       "49              -69.4874               900.0                    MA   \n",
       "54              -69.4874               900.0                    MA   \n",
       "80              -69.4874               900.0                    MA   \n",
       "86              -69.4874               900.0                    MA   \n",
       "92              -69.4874               900.0                    MA   \n",
       "98              -69.4874               900.0                    MA   \n",
       "\n",
       "    source_magnitude_type2  split     trace_name_original trace_chunk  \\\n",
       "35                      ML  train  2007_01_03 06_20_44_24               \n",
       "49                      ML  train  2007_01_04 00_34_38_83               \n",
       "54                      ML  train  2007_01_04 02_54_38_63               \n",
       "80                      ML   test  2007_01_06 02_12_53_13               \n",
       "86                      ML   test  2007_01_06 14_02_09_66               \n",
       "92                      ML   test  2007_01_07 01_19_38_56               \n",
       "98                      ML   test  2007_01_07 06_39_20_08               \n",
       "\n",
       "   trace_sampling_rate_hz trace_component_order  \n",
       "35                     20                   ZNE  \n",
       "49                     20                   ZNE  \n",
       "54                     20                   ZNE  \n",
       "80                     20                   ZNE  \n",
       "86                     20                   ZNE  \n",
       "92                     20                   ZNE  \n",
       "98                     20                   ZNE  \n",
       "\n",
       "[7 rows x 24 columns]"
      ]
     },
     "execution_count": 9,
     "metadata": {},
     "output_type": "execute_result"
    }
   ],
   "source": [
    "mask = data.metadata[\"source_magnitude\"] > 3  # Only select events with magnitude above 2.5\n",
    "data.filter(mask)\n",
    "\n",
    "print(data)\n",
    "data.metadata"
   ]
  },
  {
   "cell_type": "markdown",
   "id": "617cd977",
   "metadata": {},
   "source": [
    "A special case of filtering is to access the training, development and test splits of a dataset. Most datasets in SeisBench define those splits."
   ]
  },
  {
   "cell_type": "code",
   "execution_count": 10,
   "id": "20fdb25c",
   "metadata": {},
   "outputs": [
    {
     "name": "stdout",
     "output_type": "stream",
     "text": [
      "Train: DummyDataset - 60 traces\n",
      "Dev: DummyDataset - 10 traces\n",
      "Test: DummyDataset - 30 traces\n"
     ]
    }
   ],
   "source": [
    "data = sbd.DummyDataset() # Reload to ensure we have the full dataset again\n",
    "\n",
    "train = data.train()\n",
    "dev = data.dev()\n",
    "test = data.test()\n",
    "\n",
    "print(\"Train:\", train)\n",
    "print(\"Dev:\", dev)\n",
    "print(\"Test:\", test)"
   ]
  },
  {
   "cell_type": "markdown",
   "id": "0f865e65",
   "metadata": {},
   "source": [
    "You can also use a shorthand notation to split the dataset into its parts:"
   ]
  },
  {
   "cell_type": "code",
   "execution_count": 11,
   "id": "1ff4b676",
   "metadata": {},
   "outputs": [
    {
     "name": "stdout",
     "output_type": "stream",
     "text": [
      "Train: DummyDataset - 60 traces\n",
      "Dev: DummyDataset - 10 traces\n",
      "Test: DummyDataset - 30 traces\n"
     ]
    }
   ],
   "source": [
    "train, dev, test = data.train_dev_test()\n",
    "\n",
    "print(\"Train:\", train)\n",
    "print(\"Dev:\", dev)\n",
    "print(\"Test:\", test)"
   ]
  },
  {
   "cell_type": "markdown",
   "id": "8333853a",
   "metadata": {},
   "source": [
    "### Configuring a dataset"
   ]
  },
  {
   "cell_type": "markdown",
   "id": "7d125cb7",
   "metadata": {},
   "source": [
    "Datasets offer a range of configuration options. Here, we are going to explore four of them:\n",
    "\n",
    "- component order\n",
    "- dimension order\n",
    "- sampling rate\n",
    "- waveform caching"
   ]
  },
  {
   "cell_type": "markdown",
   "id": "a1da6531",
   "metadata": {},
   "source": [
    "Standard seismometers will consist of three components, commonly vertical (Z), north-south (N) and east-west (E). Depending on your application, you'll need to arrange the components differently. SeisBench can do this automatically. Here is an example:"
   ]
  },
  {
   "cell_type": "code",
   "execution_count": 12,
   "id": "68b8dc26",
   "metadata": {},
   "outputs": [
    {
     "name": "stdout",
     "output_type": "stream",
     "text": [
      "ZNE:\n",
      " [[  34.   47.   51.   58.   72.]\n",
      " [-100.  -99.  -98.  -99.  -98.]\n",
      " [ 645.  636.  625.  619.  612.]]\n",
      "NEZ:\n",
      " [[-100.  -99.  -98.  -99.  -98.]\n",
      " [ 645.  636.  625.  619.  612.]\n",
      " [  34.   47.   51.   58.   72.]]\n"
     ]
    }
   ],
   "source": [
    "data = sbd.DummyDataset(component_order=\"ZNE\")\n",
    "zne_array = data.get_waveforms(0)\n",
    "\n",
    "data = sbd.DummyDataset(component_order=\"NEZ\")\n",
    "nez_array = data.get_waveforms(0)\n",
    "\n",
    "print('ZNE:\\n', zne_array[:, :5])\n",
    "print('NEZ:\\n', nez_array[:, :5])"
   ]
  },
  {
   "cell_type": "markdown",
   "id": "4be9770b",
   "metadata": {},
   "source": [
    "Sometimes, not all components are available. You can use the `missing_components` parameter to define how to handle this case. Check the documentation for details."
   ]
  },
  {
   "cell_type": "markdown",
   "id": "042c88ab",
   "metadata": {},
   "source": [
    "Similar to the component order, the dimension order specifies how to order the dimensions of your data, i.e., the traces (N), the channels (C) and the samples (W)."
   ]
  },
  {
   "cell_type": "code",
   "execution_count": 13,
   "id": "6c764200",
   "metadata": {},
   "outputs": [
    {
     "name": "stdout",
     "output_type": "stream",
     "text": [
      "NCW - waveforms.shape: (4, 3, 1200)\n",
      "NWC - waveforms.shape: (4, 1200, 3)\n"
     ]
    }
   ],
   "source": [
    "data = sbd.DummyDataset(dimension_order=\"NCW\")\n",
    "waveforms = data.get_waveforms([3, 20, 45, 70])\n",
    "print(\"NCW - waveforms.shape:\", waveforms.shape)\n",
    "\n",
    "data = sbd.DummyDataset(dimension_order=\"NWC\")\n",
    "waveforms = data.get_waveforms([3, 20, 45, 70])\n",
    "print(\"NWC - waveforms.shape:\", waveforms.shape)"
   ]
  },
  {
   "cell_type": "markdown",
   "id": "f3adaa2c",
   "metadata": {},
   "source": [
    "Often, applications will require waveforms of a specific sampling rate. By default, seisbench will return data at the sampling rate provided in the dataset. However, you can configure datasets to always return a specific sampling rate, simply by setting it in the constructor. SeisBench will then automatically resample the trace."
   ]
  },
  {
   "cell_type": "code",
   "execution_count": 14,
   "id": "25251b18",
   "metadata": {},
   "outputs": [
    {
     "name": "stdout",
     "output_type": "stream",
     "text": [
      "100 Hz - waveforms.shape: (3, 6000)\n",
      "200 Hz - waveforms.shape: (3, 12000)\n"
     ]
    }
   ],
   "source": [
    "data = sbd.DummyDataset(sampling_rate=100)\n",
    "waveforms = data.get_waveforms(3)\n",
    "print(\"100 Hz - waveforms.shape:\", waveforms.shape)\n",
    "\n",
    "data = sbd.DummyDataset(sampling_rate=200)\n",
    "waveforms = data.get_waveforms(3)\n",
    "print(\"200 Hz - waveforms.shape:\", waveforms.shape)"
   ]
  },
  {
   "cell_type": "markdown",
   "id": "c80234e4",
   "metadata": {},
   "source": [
    "Alternatively, you can specify the sampling rate in a call to `get_waveforms`."
   ]
  },
  {
   "cell_type": "code",
   "execution_count": 15,
   "id": "6ad08b50",
   "metadata": {},
   "outputs": [
    {
     "name": "stdout",
     "output_type": "stream",
     "text": [
      "100 Hz - waveforms.shape: (3, 6000)\n",
      "200 Hz - waveforms.shape: (3, 12000)\n"
     ]
    }
   ],
   "source": [
    "data = sbd.DummyDataset()\n",
    "\n",
    "waveforms = data.get_waveforms(3, sampling_rate=100)\n",
    "print(\"100 Hz - waveforms.shape:\", waveforms.shape)\n",
    "waveforms = data.get_waveforms(3, sampling_rate=200)\n",
    "print(\"200 Hz - waveforms.shape:\", waveforms.shape)"
   ]
  },
  {
   "cell_type": "markdown",
   "id": "91e5776c",
   "metadata": {},
   "source": [
    "The last configuration option discussed in this tutorial is waveform caching. As mentioned earlier, loading a dataset actually only loads the metadata into memory, and only reads the waveforms on demand. Depending on your use case, this might not be the optimal scenario. For example, when training a deep learning model, it's usually best to first load all the waveforms into memory, instead of reloading them from disk every epoch. Therefore, SeisBench allows to cache waveforms in memory and to preload them into memory. Here is an example:"
   ]
  },
  {
   "cell_type": "code",
   "execution_count": 16,
   "id": "6be3fb0e",
   "metadata": {},
   "outputs": [
    {
     "name": "stderr",
     "output_type": "stream",
     "text": [
      "Preloading waveforms: 100%|█████████████████| 100/100 [00:00<00:00, 4483.39it/s]\n"
     ]
    }
   ],
   "source": [
    "data = sbd.DummyDataset(cache='trace')\n",
    "data.preload_waveforms(pbar=True)"
   ]
  },
  {
   "cell_type": "markdown",
   "id": "1441a0a7",
   "metadata": {},
   "source": [
    "You can either use a `trace` cache or a `full` cache. Check the documentation for details on these strategies. As a rule of thumb, `trace` should be used if you only need a small fraction of the dataset, while `full` is better suited when using most of the dataset or a full train/dev/test split. Note that `full` might cache traces that you did not actually filter for. On the other side, `full` will have better read performance than `trace` when using many traces.\n",
    "\n",
    "In general, when preloading and filtering a dataset, you should always first filter it and then preload to avoid loading unnecessary traces."
   ]
  },
  {
   "cell_type": "markdown",
   "id": "e947436a",
   "metadata": {},
   "source": [
    "### Visualizing a dataset\n",
    "\n",
    "If you have the package `cartopy` installed, you can visualize your dataset using the method `plot_map`."
   ]
  },
  {
   "cell_type": "code",
   "execution_count": 17,
   "id": "e97f8e25",
   "metadata": {},
   "outputs": [
    {
     "name": "stderr",
     "output_type": "stream",
     "text": [
      "/home/nthapa/anaconda3/envs/mainpy/lib/python3.11/site-packages/cartopy/io/__init__.py:241: DownloadWarning: Downloading: https://naturalearth.s3.amazonaws.com/110m_physical/ne_110m_coastline.zip\n",
      "  warnings.warn(f'Downloading: {url}', DownloadWarning)\n",
      "/home/nthapa/anaconda3/envs/mainpy/lib/python3.11/site-packages/cartopy/io/__init__.py:241: DownloadWarning: Downloading: https://naturalearth.s3.amazonaws.com/110m_physical/ne_110m_land.zip\n",
      "  warnings.warn(f'Downloading: {url}', DownloadWarning)\n"
     ]
    },
    {
     "data": {
      "image/png": "[encoded data removed]",
      "text/plain": [
       "<Figure size 1500x1000 with 1 Axes>"
      ]
     },
     "metadata": {},
     "output_type": "display_data"
    }
   ],
   "source": [
    "data.plot_map();"
   ]
  },
  {
   "cell_type": "code",
   "execution_count": null,
   "id": "9f292963",
   "metadata": {},
   "outputs": [],
   "source": []
  }
 ],
 "metadata": {
  "kernelspec": {
   "display_name": "mainpy",
   "language": "python",
   "name": "mainpy"
  },
  "language_info": {
   "codemirror_mode": {
    "name": "ipython",
    "version": 3
   },
   "file_extension": ".py",
   "mimetype": "text/x-python",
   "name": "python",
   "nbconvert_exporter": "python",
   "pygments_lexer": "ipython3",
   "version": "3.11.5"
  }
 },
 "nbformat": 4,
 "nbformat_minor": 5
}
