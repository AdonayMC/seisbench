{
 "cells": [
  {
   "cell_type": "markdown",
   "metadata": {},
   "source": [
    "## Example of how to filter waveforms by region\n",
    "---"
   ]
  },
  {
   "cell_type": "code",
   "execution_count": 93,
   "metadata": {},
   "outputs": [
    {
     "ename": "ModuleNotFoundError",
     "evalue": "No module named 'fiona'",
     "output_type": "error",
     "traceback": [
      "\u001b[1;31m---------------------------------------------------------------------------\u001b[0m",
      "\u001b[1;31mModuleNotFoundError\u001b[0m                       Traceback (most recent call last)",
      "\u001b[1;32m<ipython-input-93-ff8317ba2b4e>\u001b[0m in \u001b[0;36m<module>\u001b[1;34m\u001b[0m\n\u001b[0;32m      4\u001b[0m \u001b[1;33m\u001b[0m\u001b[0m\n\u001b[0;32m      5\u001b[0m \u001b[1;32mimport\u001b[0m \u001b[0mseisbench\u001b[0m\u001b[1;33m.\u001b[0m\u001b[0mdata\u001b[0m\u001b[1;33m\u001b[0m\u001b[1;33m\u001b[0m\u001b[0m\n\u001b[1;32m----> 6\u001b[1;33m \u001b[1;32mfrom\u001b[0m \u001b[0mseisbench\u001b[0m\u001b[1;33m.\u001b[0m\u001b[0mutil\u001b[0m\u001b[1;33m.\u001b[0m\u001b[0mregion\u001b[0m \u001b[1;32mimport\u001b[0m \u001b[0mCircleDomain\u001b[0m\u001b[1;33m,\u001b[0m \u001b[0mRectangleDomain\u001b[0m\u001b[1;33m,\u001b[0m \u001b[0mGermany\u001b[0m\u001b[1;33m\u001b[0m\u001b[1;33m\u001b[0m\u001b[0m\n\u001b[0m\u001b[0;32m      7\u001b[0m \u001b[1;32mimport\u001b[0m \u001b[0mnumpy\u001b[0m \u001b[1;32mas\u001b[0m \u001b[0mnp\u001b[0m\u001b[1;33m\u001b[0m\u001b[1;33m\u001b[0m\u001b[0m\n\u001b[0;32m      8\u001b[0m \u001b[1;32mimport\u001b[0m \u001b[0mmatplotlib\u001b[0m\u001b[1;33m.\u001b[0m\u001b[0mpyplot\u001b[0m \u001b[1;32mas\u001b[0m \u001b[0mplt\u001b[0m\u001b[1;33m\u001b[0m\u001b[1;33m\u001b[0m\u001b[0m\n",
      "\u001b[1;32m~\\Documents\\Liverpool\\AutoPicking\\seisbench\\seisbench\\util\\region.py\u001b[0m in \u001b[0;36m<module>\u001b[1;34m\u001b[0m\n\u001b[0;32m      4\u001b[0m     \u001b[0mRectangularDomain\u001b[0m\u001b[1;33m,\u001b[0m\u001b[1;33m\u001b[0m\u001b[1;33m\u001b[0m\u001b[0m\n\u001b[0;32m      5\u001b[0m )\n\u001b[1;32m----> 6\u001b[1;33m \u001b[1;32mimport\u001b[0m \u001b[0mfiona\u001b[0m\u001b[1;33m\u001b[0m\u001b[1;33m\u001b[0m\u001b[0m\n\u001b[0m\u001b[0;32m      7\u001b[0m \u001b[1;32mimport\u001b[0m \u001b[0mshapely\u001b[0m\u001b[1;33m.\u001b[0m\u001b[0mgeometry\u001b[0m\u001b[1;33m\u001b[0m\u001b[1;33m\u001b[0m\u001b[0m\n\u001b[0;32m      8\u001b[0m \u001b[1;33m\u001b[0m\u001b[0m\n",
      "\u001b[1;31mModuleNotFoundError\u001b[0m: No module named 'fiona'"
     ]
    }
   ],
   "source": [
    "import sys\n",
    "import os\n",
    "sys.path.append(os.path.abspath(os.path.join('./', os.pardir)))\n",
    "\n",
    "import seisbench.data\n",
    "from seisbench.util.region import CircleDomain, RectangleDomain, Germany\n",
    "import numpy as np\n",
    "import matplotlib.pyplot as plt\n",
    "from matplotlib.patches import Ellipse"
   ]
  },
  {
   "cell_type": "code",
   "execution_count": 90,
   "metadata": {},
   "outputs": [],
   "source": [
    "dummy = seisbench.data.DummyDataset()\n",
    "\n",
    "dummy.metadata['receiver_latitude'] = [np.random.uniform(43, 58) for i in range(len(dummy))]\n",
    "dummy.metadata['receiver_longitude'] = [np.random.uniform(5, 18) for i in range(len(dummy))]"
   ]
  },
  {
   "cell_type": "markdown",
   "metadata": {},
   "source": [
    "To filter waveforms by region, class hierarchy simply mimics obspy API where users can define custom domains which inherit from ABC [Domain](https://docs.obspy.org/_modules/obspy/clients/fdsn/mass_downloader/domain.html#Domain). Any region class just needs to overwrite the **is_in_domain()** method This method should return a Boolean response for coordinates lieing inside/outside a given domain. Example below filters based on a simple Circular Region."
   ]
  },
  {
   "cell_type": "code",
   "execution_count": 91,
   "metadata": {},
   "outputs": [],
   "source": [
    "# Create domain sublass for filtering stations outside region\n",
    "class CircleDomain(CircularDomain):\n",
    "    def __init__(self, latitude, longitude, minradius, maxradius):\n",
    "        super().__init__(latitude, longitude, minradius, maxradius)\n",
    "\n",
    "    def is_in_domain(self, latitude, longitude):\n",
    "        d = ((self.latitude - latitude) ** 2 + (self.longitude - longitude) ** 2) ** 0.5\n",
    "        if d < self.maxradius and d > self.minradius:\n",
    "            return True\n",
    "        return False\n",
    "\n",
    "lat = 51\n",
    "lon = 11\n",
    "min_radius = 2\n",
    "max_radius = 5\n",
    "\n",
    "region = CircleDomain(\n",
    "    latitude=lat, \n",
    "    longitude=lon, \n",
    "    minradius=min_radius, \n",
    "    maxradius=max_radius\n",
    ")"
   ]
  },
  {
   "cell_type": "code",
   "execution_count": 92,
   "metadata": {},
   "outputs": [
    {
     "data": {
      "image/png": "[encoded data removed]",
      "text/plain": [
       "<Figure size 432x288 with 1 Axes>"
      ]
     },
     "metadata": {
      "needs_background": "light"
     },
     "output_type": "display_data"
    }
   ],
   "source": [
    "# Plot original unfiltered dataset\n",
    "plt.plot(dummy.metadata['receiver_longitude'], dummy.metadata['receiver_latitude'], 'rv')\n",
    "\n",
    "# Filter based on region\n",
    "waveforms = dummy.region_filter(\n",
    "    domain=region, \n",
    "    lat_col='receiver_latitude', \n",
    "    lon_col='receiver_longitude'\n",
    ")\n",
    "\n",
    "# PLot filtered dataset\n",
    "plt.plot(dummy.metadata['receiver_longitude'], dummy.metadata['receiver_latitude'], 'bv')\n",
    "\n",
    "\n",
    "# Add region to plot\n",
    "inner_circle = plt.Circle((lon, lat), min_radius, fill=False)\n",
    "outer_circle = plt.Circle((lon, lat), max_radius, fill=False)\n",
    "\n",
    "fig = plt.gcf()\n",
    "ax = fig.gca()\n",
    "ax.set_aspect(1)\n",
    "ax.add_artist(inner_circle)\n",
    "ax.add_artist(outer_circle)\n",
    "plt.xlim(lon-(max_radius*2), lon+(max_radius*2))\n",
    "plt.ylim(lat-(max_radius*2), lat+(max_radius*2))\n",
    "plt.xlabel('Longitude [deg]')\n",
    "plt.ylabel('Latitude [deg]')\n",
    "plt.title('Circular region filter')\n",
    "plt.show()"
   ]
  }
 ],
 "metadata": {
  "kernelspec": {
   "display_name": "Python 3",
   "language": "python",
   "name": "python3"
  },
  "language_info": {
   "codemirror_mode": {
    "name": "ipython",
    "version": 3
   },
   "file_extension": ".py",
   "mimetype": "text/x-python",
   "name": "python",
   "nbconvert_exporter": "python",
   "pygments_lexer": "ipython3",
   "version": "3.7.3"
  }
 },
 "nbformat": 4,
 "nbformat_minor": 2
}
