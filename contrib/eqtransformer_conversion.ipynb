{
 "cells": [
  {
   "cell_type": "markdown",
   "id": "c8bfa451",
   "metadata": {},
   "source": [
    "### This notebook was used to convert the original EQTransformer weights to SeisBench and ensure binary compatibility. It is not intended for further use, but only serves as a reference"
   ]
  },
  {
   "cell_type": "code",
   "execution_count": 1,
   "id": "f79d1c37",
   "metadata": {},
   "outputs": [],
   "source": [
    "%load_ext autoreload\n",
    "%autoreload 2"
   ]
  },
  {
   "cell_type": "code",
   "execution_count": 2,
   "id": "5116ee04",
   "metadata": {},
   "outputs": [
    {
     "name": "stderr",
     "output_type": "stream",
     "text": [
      "Using TensorFlow backend.\n"
     ]
    }
   ],
   "source": [
    "from seisbench.models import EQTransformer\n",
    "from seisbench.models.eqtransformer import CustomLSTM, ActivationLSTMCell\n",
    "import torch\n",
    "import torch.nn as nn\n",
    "import h5py\n",
    "import numpy as np\n",
    "import matplotlib.pyplot as plt\n",
    "import keras.backend as K\n",
    "import tensorflow as tf\n",
    "from keras.models import Sequential"
   ]
  },
  {
   "cell_type": "code",
   "execution_count": 106,
   "id": "7d5264b3",
   "metadata": {},
   "outputs": [],
   "source": [
    "model = EQTransformer(original_compatible=True)"
   ]
  },
  {
   "cell_type": "code",
   "execution_count": 107,
   "id": "b13fee9a",
   "metadata": {},
   "outputs": [],
   "source": [
    "# model.to('cuda:0')"
   ]
  },
  {
   "cell_type": "code",
   "execution_count": 108,
   "id": "ee59393f",
   "metadata": {},
   "outputs": [],
   "source": [
    "wv = torch.rand(20, 3, 6000, device=model.device)"
   ]
  },
  {
   "cell_type": "code",
   "execution_count": 109,
   "id": "005e8c2b",
   "metadata": {},
   "outputs": [],
   "source": [
    "det, p, s, _ = model(wv)"
   ]
  },
  {
   "cell_type": "code",
   "execution_count": 110,
   "id": "8596a8f7",
   "metadata": {
    "scrolled": true
   },
   "outputs": [
    {
     "data": {
      "text/plain": [
       "torch.Size([20, 6000])"
      ]
     },
     "execution_count": 110,
     "metadata": {},
     "output_type": "execute_result"
    }
   ],
   "source": [
    "s.shape"
   ]
  },
  {
   "cell_type": "code",
   "execution_count": 111,
   "id": "e839b970",
   "metadata": {},
   "outputs": [
    {
     "name": "stdout",
     "output_type": "stream",
     "text": [
      "Total number of param vectors: 198\n",
      "Total number of params: 376935\n"
     ]
    }
   ],
   "source": [
    "print(\"Total number of param vectors:\", len(list(model.parameters())))\n",
    "print(\"Total number of params:\", sum(p.numel() for p in model.parameters()))"
   ]
  },
  {
   "cell_type": "code",
   "execution_count": 112,
   "id": "e90c3363",
   "metadata": {},
   "outputs": [],
   "source": [
    "def list_weights(path):\n",
    "    \"\"\"\n",
    "    Lists the weights and their shapes in a hdf5 file\n",
    "    :return: dict[weight_path, shape]\n",
    "    \"\"\"\n",
    "\n",
    "    def traverse(root):\n",
    "        if isinstance(root, h5py.Dataset):\n",
    "            return {root.name: root[()]}\n",
    "        else:\n",
    "            out = {}\n",
    "            for key in root.keys():\n",
    "                out.update(traverse(root[key]))\n",
    "            return out\n",
    "\n",
    "    with h5py.File(path, \"r\") as f:\n",
    "        return traverse(f[\"model_weights\"])"
   ]
  },
  {
   "cell_type": "code",
   "execution_count": 113,
   "id": "53ff798c",
   "metadata": {},
   "outputs": [],
   "source": [
    "tf_state_dict = list_weights(\"/home/munchmej/code/EQTransformer/ModelsAndSampleData/EqT_model.h5\")"
   ]
  },
  {
   "cell_type": "code",
   "execution_count": 114,
   "id": "b1fa1737",
   "metadata": {},
   "outputs": [],
   "source": [
    "pt_state_dict = model.state_dict()"
   ]
  },
  {
   "cell_type": "code",
   "execution_count": 115,
   "id": "27c88a1a",
   "metadata": {},
   "outputs": [],
   "source": [
    "def compare_dicts_by_shape(a, b):\n",
    "    \"\"\"\n",
    "    Finds all entries of a that do not have a shape equivalent in b and vice versa\n",
    "    \"\"\"\n",
    "    \n",
    "    a_shapes = set(tuple(x.shape) for x in a.values())\n",
    "    b_shapes = set(tuple(x.shape) for x in b.values())\n",
    "    \n",
    "    print('A but not B')\n",
    "    for key, val in a.items():\n",
    "        if tuple(val.shape) not in b_shapes:\n",
    "            print(key, val.shape)\n",
    "            \n",
    "    print()\n",
    "    print('B but not A')\n",
    "    for key, val in b.items():\n",
    "        if tuple(val.shape) not in a_shapes:\n",
    "            print(key, val.shape)"
   ]
  },
  {
   "cell_type": "code",
   "execution_count": 116,
   "id": "783966b5",
   "metadata": {},
   "outputs": [
    {
     "name": "stdout",
     "output_type": "stream",
     "text": [
      "A but not B\n",
      "/model_weights/bidirectional_1/bidirectional_1/backward_lstm_1/recurrent_kernel:0 (16, 64)\n",
      "/model_weights/bidirectional_1/bidirectional_1/forward_lstm_1/recurrent_kernel:0 (16, 64)\n",
      "/model_weights/bidirectional_2/bidirectional_2/backward_lstm_2/kernel:0 (16, 64)\n",
      "/model_weights/bidirectional_2/bidirectional_2/backward_lstm_2/recurrent_kernel:0 (16, 64)\n",
      "/model_weights/bidirectional_2/bidirectional_2/forward_lstm_2/kernel:0 (16, 64)\n",
      "/model_weights/bidirectional_2/bidirectional_2/forward_lstm_2/recurrent_kernel:0 (16, 64)\n",
      "/model_weights/bidirectional_3/bidirectional_3/backward_lstm_3/kernel:0 (16, 64)\n",
      "/model_weights/bidirectional_3/bidirectional_3/backward_lstm_3/recurrent_kernel:0 (16, 64)\n",
      "/model_weights/bidirectional_3/bidirectional_3/forward_lstm_3/kernel:0 (16, 64)\n",
      "/model_weights/bidirectional_3/bidirectional_3/forward_lstm_3/recurrent_kernel:0 (16, 64)\n",
      "/model_weights/conv1d_1/conv1d_1/kernel:0 (11, 3, 8)\n",
      "/model_weights/conv1d_10/conv1d_10/kernel:0 (3, 64, 64)\n",
      "/model_weights/conv1d_11/conv1d_11/kernel:0 (3, 64, 64)\n",
      "/model_weights/conv1d_12/conv1d_12/kernel:0 (3, 64, 64)\n",
      "/model_weights/conv1d_13/conv1d_13/kernel:0 (3, 64, 64)\n",
      "/model_weights/conv1d_14/conv1d_14/kernel:0 (3, 64, 64)\n",
      "/model_weights/conv1d_15/conv1d_15/kernel:0 (3, 64, 64)\n",
      "/model_weights/conv1d_16/conv1d_16/kernel:0 (2, 64, 64)\n",
      "/model_weights/conv1d_17/conv1d_17/kernel:0 (2, 64, 64)\n",
      "/model_weights/conv1d_18/conv1d_18/kernel:0 (3, 64, 64)\n",
      "/model_weights/conv1d_19/conv1d_19/kernel:0 (3, 64, 64)\n",
      "/model_weights/conv1d_2/conv1d_2/kernel:0 (9, 8, 16)\n",
      "/model_weights/conv1d_20/conv1d_20/kernel:0 (2, 64, 64)\n",
      "/model_weights/conv1d_21/conv1d_21/kernel:0 (2, 64, 64)\n",
      "/model_weights/conv1d_22/conv1d_22/kernel:0 (1, 32, 16)\n",
      "/model_weights/conv1d_23/conv1d_23/kernel:0 (1, 32, 16)\n",
      "/model_weights/conv1d_24/conv1d_24/kernel:0 (1, 32, 16)\n",
      "/model_weights/conv1d_25/conv1d_25/kernel:0 (3, 16, 64)\n",
      "/model_weights/conv1d_26/conv1d_26/kernel:0 (5, 64, 64)\n",
      "/model_weights/conv1d_27/conv1d_27/kernel:0 (5, 64, 32)\n",
      "/model_weights/conv1d_28/conv1d_28/kernel:0 (7, 32, 32)\n",
      "/model_weights/conv1d_29/conv1d_29/kernel:0 (7, 32, 16)\n",
      "/model_weights/conv1d_3/conv1d_3/kernel:0 (7, 16, 16)\n",
      "/model_weights/conv1d_30/conv1d_30/kernel:0 (9, 16, 16)\n",
      "/model_weights/conv1d_31/conv1d_31/kernel:0 (11, 16, 8)\n",
      "/model_weights/conv1d_32/conv1d_32/kernel:0 (3, 16, 64)\n",
      "/model_weights/conv1d_33/conv1d_33/kernel:0 (5, 64, 64)\n",
      "/model_weights/conv1d_34/conv1d_34/kernel:0 (5, 64, 32)\n",
      "/model_weights/conv1d_35/conv1d_35/kernel:0 (7, 32, 32)\n",
      "/model_weights/conv1d_36/conv1d_36/kernel:0 (7, 32, 16)\n",
      "/model_weights/conv1d_37/conv1d_37/kernel:0 (9, 16, 16)\n",
      "/model_weights/conv1d_38/conv1d_38/kernel:0 (11, 16, 8)\n",
      "/model_weights/conv1d_39/conv1d_39/kernel:0 (3, 16, 64)\n",
      "/model_weights/conv1d_4/conv1d_4/kernel:0 (7, 16, 32)\n",
      "/model_weights/conv1d_40/conv1d_40/kernel:0 (5, 64, 64)\n",
      "/model_weights/conv1d_41/conv1d_41/kernel:0 (5, 64, 32)\n",
      "/model_weights/conv1d_42/conv1d_42/kernel:0 (7, 32, 32)\n",
      "/model_weights/conv1d_43/conv1d_43/kernel:0 (7, 32, 16)\n",
      "/model_weights/conv1d_44/conv1d_44/kernel:0 (9, 16, 16)\n",
      "/model_weights/conv1d_45/conv1d_45/kernel:0 (11, 16, 8)\n",
      "/model_weights/conv1d_5/conv1d_5/kernel:0 (5, 32, 32)\n",
      "/model_weights/conv1d_6/conv1d_6/kernel:0 (5, 32, 64)\n",
      "/model_weights/conv1d_7/conv1d_7/kernel:0 (3, 64, 64)\n",
      "/model_weights/conv1d_8/conv1d_8/kernel:0 (3, 64, 64)\n",
      "/model_weights/conv1d_9/conv1d_9/kernel:0 (3, 64, 64)\n",
      "/model_weights/detector/detector/kernel:0 (11, 8, 1)\n",
      "/model_weights/lstm_4/lstm_4/kernel:0 (16, 64)\n",
      "/model_weights/lstm_4/lstm_4/recurrent_kernel:0 (16, 64)\n",
      "/model_weights/lstm_5/lstm_5/kernel:0 (16, 64)\n",
      "/model_weights/lstm_5/lstm_5/recurrent_kernel:0 (16, 64)\n",
      "/model_weights/picker_P/picker_P/kernel:0 (11, 8, 1)\n",
      "/model_weights/picker_S/picker_S/kernel:0 (11, 8, 1)\n",
      "\n",
      "B but not A\n",
      "encoder.convs.0.weight torch.Size([8, 3, 11])\n",
      "encoder.convs.1.weight torch.Size([16, 8, 9])\n",
      "encoder.convs.2.weight torch.Size([16, 16, 7])\n",
      "encoder.convs.3.weight torch.Size([32, 16, 7])\n",
      "encoder.convs.4.weight torch.Size([32, 32, 5])\n",
      "encoder.convs.5.weight torch.Size([64, 32, 5])\n",
      "encoder.convs.6.weight torch.Size([64, 64, 3])\n",
      "res_cnn_stack.members.0.norm1.num_batches_tracked torch.Size([])\n",
      "res_cnn_stack.members.0.conv1.weight torch.Size([64, 64, 3])\n",
      "res_cnn_stack.members.0.norm2.num_batches_tracked torch.Size([])\n",
      "res_cnn_stack.members.0.conv2.weight torch.Size([64, 64, 3])\n",
      "res_cnn_stack.members.1.norm1.num_batches_tracked torch.Size([])\n",
      "res_cnn_stack.members.1.conv1.weight torch.Size([64, 64, 3])\n",
      "res_cnn_stack.members.1.norm2.num_batches_tracked torch.Size([])\n",
      "res_cnn_stack.members.1.conv2.weight torch.Size([64, 64, 3])\n",
      "res_cnn_stack.members.2.norm1.num_batches_tracked torch.Size([])\n",
      "res_cnn_stack.members.2.conv1.weight torch.Size([64, 64, 3])\n",
      "res_cnn_stack.members.2.norm2.num_batches_tracked torch.Size([])\n",
      "res_cnn_stack.members.2.conv2.weight torch.Size([64, 64, 3])\n",
      "res_cnn_stack.members.3.norm1.num_batches_tracked torch.Size([])\n",
      "res_cnn_stack.members.3.conv1.weight torch.Size([64, 64, 3])\n",
      "res_cnn_stack.members.3.norm2.num_batches_tracked torch.Size([])\n",
      "res_cnn_stack.members.3.conv2.weight torch.Size([64, 64, 3])\n",
      "res_cnn_stack.members.4.norm1.num_batches_tracked torch.Size([])\n",
      "res_cnn_stack.members.4.conv1.weight torch.Size([64, 64, 2])\n",
      "res_cnn_stack.members.4.norm2.num_batches_tracked torch.Size([])\n",
      "res_cnn_stack.members.4.conv2.weight torch.Size([64, 64, 2])\n",
      "res_cnn_stack.members.5.norm1.num_batches_tracked torch.Size([])\n",
      "res_cnn_stack.members.5.conv1.weight torch.Size([64, 64, 3])\n",
      "res_cnn_stack.members.5.norm2.num_batches_tracked torch.Size([])\n",
      "res_cnn_stack.members.5.conv2.weight torch.Size([64, 64, 3])\n",
      "res_cnn_stack.members.6.norm1.num_batches_tracked torch.Size([])\n",
      "res_cnn_stack.members.6.conv1.weight torch.Size([64, 64, 2])\n",
      "res_cnn_stack.members.6.norm2.num_batches_tracked torch.Size([])\n",
      "res_cnn_stack.members.6.conv2.weight torch.Size([64, 64, 2])\n",
      "bi_lstm_stack.members.0.lstm.cell_f.weight_hh torch.Size([64, 16])\n",
      "bi_lstm_stack.members.0.lstm.cell_b.weight_hh torch.Size([64, 16])\n",
      "bi_lstm_stack.members.0.conv.weight torch.Size([16, 32, 1])\n",
      "bi_lstm_stack.members.0.norm.num_batches_tracked torch.Size([])\n",
      "bi_lstm_stack.members.1.lstm.cell_f.weight_ih torch.Size([64, 16])\n",
      "bi_lstm_stack.members.1.lstm.cell_f.weight_hh torch.Size([64, 16])\n",
      "bi_lstm_stack.members.1.lstm.cell_b.weight_ih torch.Size([64, 16])\n",
      "bi_lstm_stack.members.1.lstm.cell_b.weight_hh torch.Size([64, 16])\n",
      "bi_lstm_stack.members.1.conv.weight torch.Size([16, 32, 1])\n",
      "bi_lstm_stack.members.1.norm.num_batches_tracked torch.Size([])\n",
      "bi_lstm_stack.members.2.lstm.cell_f.weight_ih torch.Size([64, 16])\n",
      "bi_lstm_stack.members.2.lstm.cell_f.weight_hh torch.Size([64, 16])\n",
      "bi_lstm_stack.members.2.lstm.cell_b.weight_ih torch.Size([64, 16])\n",
      "bi_lstm_stack.members.2.lstm.cell_b.weight_hh torch.Size([64, 16])\n",
      "bi_lstm_stack.members.2.conv.weight torch.Size([16, 32, 1])\n",
      "bi_lstm_stack.members.2.norm.num_batches_tracked torch.Size([])\n",
      "transformer_d0.norm1.gamma torch.Size([16, 1])\n",
      "transformer_d0.norm1.beta torch.Size([16, 1])\n",
      "transformer_d0.norm2.gamma torch.Size([16, 1])\n",
      "transformer_d0.norm2.beta torch.Size([16, 1])\n",
      "transformer_d.norm1.gamma torch.Size([16, 1])\n",
      "transformer_d.norm1.beta torch.Size([16, 1])\n",
      "transformer_d.norm2.gamma torch.Size([16, 1])\n",
      "transformer_d.norm2.beta torch.Size([16, 1])\n",
      "decoder_d.convs.0.weight torch.Size([64, 16, 3])\n",
      "decoder_d.convs.1.weight torch.Size([64, 64, 5])\n",
      "decoder_d.convs.2.weight torch.Size([32, 64, 5])\n",
      "decoder_d.convs.3.weight torch.Size([32, 32, 7])\n",
      "decoder_d.convs.4.weight torch.Size([16, 32, 7])\n",
      "decoder_d.convs.5.weight torch.Size([16, 16, 9])\n",
      "decoder_d.convs.6.weight torch.Size([8, 16, 11])\n",
      "conv_d.weight torch.Size([1, 8, 11])\n",
      "pick_lstms.0.cell_f.weight_ih torch.Size([64, 16])\n",
      "pick_lstms.0.cell_f.weight_hh torch.Size([64, 16])\n",
      "pick_lstms.1.cell_f.weight_ih torch.Size([64, 16])\n",
      "pick_lstms.1.cell_f.weight_hh torch.Size([64, 16])\n",
      "pick_decoders.0.convs.0.weight torch.Size([64, 16, 3])\n",
      "pick_decoders.0.convs.1.weight torch.Size([64, 64, 5])\n",
      "pick_decoders.0.convs.2.weight torch.Size([32, 64, 5])\n",
      "pick_decoders.0.convs.3.weight torch.Size([32, 32, 7])\n",
      "pick_decoders.0.convs.4.weight torch.Size([16, 32, 7])\n",
      "pick_decoders.0.convs.5.weight torch.Size([16, 16, 9])\n",
      "pick_decoders.0.convs.6.weight torch.Size([8, 16, 11])\n",
      "pick_decoders.1.convs.0.weight torch.Size([64, 16, 3])\n",
      "pick_decoders.1.convs.1.weight torch.Size([64, 64, 5])\n",
      "pick_decoders.1.convs.2.weight torch.Size([32, 64, 5])\n",
      "pick_decoders.1.convs.3.weight torch.Size([32, 32, 7])\n",
      "pick_decoders.1.convs.4.weight torch.Size([16, 32, 7])\n",
      "pick_decoders.1.convs.5.weight torch.Size([16, 16, 9])\n",
      "pick_decoders.1.convs.6.weight torch.Size([8, 16, 11])\n",
      "pick_convs.0.weight torch.Size([1, 8, 11])\n",
      "pick_convs.1.weight torch.Size([1, 8, 11])\n"
     ]
    }
   ],
   "source": [
    "compare_dicts_by_shape(tf_state_dict, pt_state_dict)"
   ]
  },
  {
   "cell_type": "code",
   "execution_count": 117,
   "id": "c24f7fac",
   "metadata": {},
   "outputs": [],
   "source": [
    "lstm = model.bi_lstm_stack.members[0].lstm"
   ]
  },
  {
   "cell_type": "code",
   "execution_count": 118,
   "id": "68cd4ebb",
   "metadata": {},
   "outputs": [
    {
     "name": "stdout",
     "output_type": "stream",
     "text": [
      "cell_f.weight_ih (64, 64)\n",
      "cell_f.weight_hh (64, 16)\n",
      "cell_f.bias_ih (64,)\n",
      "cell_f.bias_hh (64,)\n",
      "cell_b.weight_ih (64, 64)\n",
      "cell_b.weight_hh (64, 16)\n",
      "cell_b.bias_ih (64,)\n",
      "cell_b.bias_hh (64,)\n"
     ]
    }
   ],
   "source": [
    "lstm_dict = lstm.state_dict()\n",
    "for key, val in lstm_dict.items():\n",
    "    print(key, tuple(val.shape))"
   ]
  },
  {
   "cell_type": "code",
   "execution_count": 150,
   "id": "470633fa",
   "metadata": {},
   "outputs": [],
   "source": [
    "new_state_dict = {}"
   ]
  },
  {
   "cell_type": "code",
   "execution_count": 151,
   "id": "48ee9d32",
   "metadata": {},
   "outputs": [],
   "source": [
    "# Copy encoder\n",
    "\n",
    "for key in model.encoder.state_dict():\n",
    "    _, conv_id, t = key.split('.')\n",
    "    \n",
    "    conv_id = int(conv_id) + 1\n",
    "    \n",
    "    source = f\"/model_weights/conv1d_{conv_id}/conv1d_{conv_id}/\"\n",
    "    if t == \"weight\":\n",
    "        data = np.transpose(tf_state_dict[source + \"kernel:0\"], (2, 1, 0))\n",
    "        # For input layer, resort channels from ENZ to ZNE\n",
    "        if conv_id == 1:\n",
    "            data = data[:, [2, 1, 0], :]\n",
    "            \n",
    "    elif t == \"bias\":\n",
    "        data = tf_state_dict[source + \"bias:0\"]\n",
    "        \n",
    "    new_state_dict[\"encoder.\" + key] = torch.tensor(data)"
   ]
  },
  {
   "cell_type": "code",
   "execution_count": 152,
   "id": "131f65b4",
   "metadata": {},
   "outputs": [],
   "source": [
    "# Copy res CNN\n",
    "\n",
    "norm_dict = {'weight': 'gamma',\n",
    "             'bias': 'beta',\n",
    "             'running_mean': 'moving_mean',\n",
    "             'running_var': 'moving_variance'}\n",
    "\n",
    "for key in model.res_cnn_stack.state_dict():\n",
    "    _, member_id, layer, t = key.split('.')\n",
    "    \n",
    "    if layer[:4] == \"conv\":\n",
    "        conv_id = 7 + 2 * int(member_id) + int(layer[-1:])\n",
    "        source = f\"/model_weights/conv1d_{conv_id}/conv1d_{conv_id}/\"\n",
    "        if t == \"weight\":\n",
    "            data = np.transpose(tf_state_dict[source + \"kernel:0\"], (2, 1, 0))\n",
    "        elif t == \"bias\":\n",
    "            data = tf_state_dict[source + \"bias:0\"]\n",
    "        \n",
    "    elif layer[:4] == \"norm\":\n",
    "        norm_id = 2 * int(member_id) + int(layer[-1:])\n",
    "        if t == 'num_batches_tracked':\n",
    "            data = model.res_cnn_stack.state_dict()[key]\n",
    "        else:\n",
    "            source = f\"/model_weights/batch_normalization_{norm_id}/batch_normalization_{norm_id}/{norm_dict[t]}:0\"\n",
    "            data = tf_state_dict[source]\n",
    "        \n",
    "    out_key = \"res_cnn_stack.\" + key\n",
    "    new_state_dict[out_key] = torch.tensor(data)\n",
    "    # print(data.shape, model.res_cnn_stack.state_dict()[key].shape)"
   ]
  },
  {
   "cell_type": "code",
   "execution_count": 153,
   "id": "28619417",
   "metadata": {},
   "outputs": [],
   "source": [
    "# Copy BiLSTMStack\n",
    "\n",
    "for key in model.bi_lstm_stack.state_dict():\n",
    "    parts = key.split('.')\n",
    "    if len(parts) == 4:\n",
    "        _, member_id, layer, t = key.split('.')\n",
    "    else:\n",
    "        _, member_id, layer, cell, t = key.split('.')\n",
    "    \n",
    "    if layer == \"conv\":\n",
    "        conv_id = 22 + int(member_id)\n",
    "        source = f\"/model_weights/conv1d_{conv_id}/conv1d_{conv_id}/\"\n",
    "        if t == \"weight\":\n",
    "            data = np.transpose(tf_state_dict[source + \"kernel:0\"], (2, 1, 0))\n",
    "        elif t == \"bias\":\n",
    "            data = tf_state_dict[source + \"bias:0\"]\n",
    "            \n",
    "    elif layer == \"norm\":\n",
    "        norm_id = 15 + int(member_id)\n",
    "        if t == 'num_batches_tracked':\n",
    "            data = model.bi_lstm_stack.state_dict()[key]\n",
    "        else:\n",
    "            source = f\"/model_weights/batch_normalization_{norm_id}/batch_normalization_{norm_id}/{norm_dict[t]}:0\"\n",
    "            data = tf_state_dict[source]\n",
    "            \n",
    "    elif layer == \"lstm\":\n",
    "        if cell[-1] == \"f\":\n",
    "            direction = \"forward\"\n",
    "        else:\n",
    "            direction = \"backward\"\n",
    "        lstm_id = int(member_id) + 1\n",
    "        \n",
    "        source = f\"/model_weights/bidirectional_{lstm_id}/bidirectional_{lstm_id}/{direction}_lstm_{lstm_id}/\"\n",
    "        \n",
    "        # Split bias 0.5/0.5\n",
    "        # https://stackoverflow.com/questions/55229636/import-lstm-from-tensorflow-to-pytorch-by-hand\n",
    "        if t.startswith(\"weight_ih\"):\n",
    "            data = tf_state_dict[source + \"kernel:0\"].T\n",
    "        elif t.startswith(\"weight_hh\"):\n",
    "            data = tf_state_dict[source + \"recurrent_kernel:0\"].T\n",
    "        elif t.startswith(\"bias_hh\"):\n",
    "            data = 0.5 * tf_state_dict[source + \"bias:0\"]\n",
    "        else:\n",
    "            # bias_ih\n",
    "            data = 0.5 * tf_state_dict[source + \"bias:0\"]\n",
    "            \n",
    "    \n",
    "    out_key = \"bi_lstm_stack.\" + key\n",
    "    new_state_dict[out_key] = torch.tensor(data)"
   ]
  },
  {
   "cell_type": "code",
   "execution_count": 154,
   "id": "b18b0b12",
   "metadata": {},
   "outputs": [],
   "source": [
    "# Copy transformer_d0\n",
    "\n",
    "ff_dict = {\"weight\": \"W\", \"bias\": \"b\"}\n",
    "\n",
    "for key in model.transformer_d0.state_dict():\n",
    "    if key[:2] == \"ff\":\n",
    "        _, layer, t = key.split('.')\n",
    "        lin_id = int(layer[-1:])\n",
    "        source = f\"/model_weights/feed_forward_1/feed_forward_1/feed_forward_1_{ff_dict[t]}{lin_id}:0\"\n",
    "        data = tf_state_dict[source]\n",
    "        if t == \"weight\":\n",
    "            data = data.T\n",
    "        \n",
    "    else:\n",
    "        layer, t = key.split('.')\n",
    "        \n",
    "        if layer == \"attention\":\n",
    "            source = f\"/model_weights/attentionD0/attentionD0/attentionD0_Add_{t}:0\"\n",
    "            data = tf_state_dict[source]\n",
    "        elif layer.startswith(\"norm\"):\n",
    "            norm_id = int(layer[-1:])\n",
    "            source = f\"/model_weights/layer_normalization_{norm_id}/layer_normalization_{norm_id}/{t}:0\"\n",
    "            data = tf_state_dict[source]\n",
    "            data = np.expand_dims(data, axis=-1)\n",
    "        \n",
    "    new_state_dict[\"transformer_d0.\" + key] = torch.tensor(data)"
   ]
  },
  {
   "cell_type": "code",
   "execution_count": 155,
   "id": "3018297c",
   "metadata": {},
   "outputs": [],
   "source": [
    "# Copy transformer_d\n",
    "\n",
    "ff_dict = {\"weight\": \"W\", \"bias\": \"b\"}\n",
    "\n",
    "for key in model.transformer_d.state_dict():\n",
    "    if key[:2] == \"ff\":\n",
    "        _, layer, t = key.split('.')\n",
    "        lin_id = int(layer[-1:])\n",
    "        source = f\"/model_weights/feed_forward_2/feed_forward_2/feed_forward_2_{ff_dict[t]}{lin_id}:0\"\n",
    "        data = tf_state_dict[source]\n",
    "        if t == \"weight\":\n",
    "            data = data.T\n",
    "        \n",
    "    else:\n",
    "        layer, t = key.split('.')\n",
    "        \n",
    "        if layer == \"attention\":\n",
    "            source = f\"/model_weights/attentionD/attentionD/attentionD_Add_{t}:0\"\n",
    "            data = tf_state_dict[source]\n",
    "        elif layer.startswith(\"norm\"):\n",
    "            norm_id = int(layer[-1:]) + 2\n",
    "            source = f\"/model_weights/layer_normalization_{norm_id}/layer_normalization_{norm_id}/{t}:0\"\n",
    "            data = tf_state_dict[source]\n",
    "            data = np.expand_dims(data, axis=-1)\n",
    "        \n",
    "    new_state_dict[\"transformer_d.\" + key] = torch.tensor(data)"
   ]
  },
  {
   "cell_type": "code",
   "execution_count": 156,
   "id": "93516d57",
   "metadata": {},
   "outputs": [],
   "source": [
    "# Copy decoder_d\n",
    "\n",
    "for key in model.decoder_d.state_dict():\n",
    "    _, conv_id, t = key.split('.')\n",
    "    \n",
    "    conv_id = int(conv_id) + 25\n",
    "    \n",
    "    source = f\"/model_weights/conv1d_{conv_id}/conv1d_{conv_id}/\"\n",
    "    if t == \"weight\":\n",
    "        data = np.transpose(tf_state_dict[source + \"kernel:0\"], (2, 1, 0))\n",
    "    elif t == \"bias\":\n",
    "        data = tf_state_dict[source + \"bias:0\"]\n",
    "        \n",
    "    new_state_dict[\"decoder_d.\" + key] = torch.tensor(data)"
   ]
  },
  {
   "cell_type": "code",
   "execution_count": 157,
   "id": "a5c028ee",
   "metadata": {},
   "outputs": [],
   "source": [
    "# Copy pick lstm 0 (P)\n",
    "\n",
    "for key in model.pick_lstms[0].state_dict():\n",
    "    _, t = key.split(\".\")\n",
    "    \n",
    "    source = f\"/model_weights/lstm_4/lstm_4/\"\n",
    "\n",
    "    # Split bias 0.5/0.5\n",
    "    # https://stackoverflow.com/questions/55229636/import-lstm-from-tensorflow-to-pytorch-by-hand\n",
    "    if t.startswith(\"weight_ih\"):\n",
    "        data = tf_state_dict[source + \"kernel:0\"].T\n",
    "    elif t.startswith(\"weight_hh\"):\n",
    "        data = tf_state_dict[source + \"recurrent_kernel:0\"].T\n",
    "    else:\n",
    "        data = tf_state_dict[source + \"bias:0\"] * 0.5\n",
    "            \n",
    "    out_key = \"pick_lstms.0.\" + key\n",
    "    new_state_dict[out_key] = torch.tensor(data)"
   ]
  },
  {
   "cell_type": "code",
   "execution_count": 158,
   "id": "9016f07d",
   "metadata": {},
   "outputs": [],
   "source": [
    "# Copy pick lstm 1 (S)\n",
    "\n",
    "for key in model.pick_lstms[1].state_dict():\n",
    "    _, t = key.split(\".\")\n",
    "    \n",
    "    source = f\"/model_weights/lstm_5/lstm_5/\"\n",
    "\n",
    "    # Split bias 0.5/0.5\n",
    "    # https://stackoverflow.com/questions/55229636/import-lstm-from-tensorflow-to-pytorch-by-hand\n",
    "    if t.startswith(\"weight_ih\"):\n",
    "        data = tf_state_dict[source + \"kernel:0\"].T\n",
    "    elif t.startswith(\"weight_hh\"):\n",
    "        data = tf_state_dict[source + \"recurrent_kernel:0\"].T\n",
    "    else:\n",
    "        data = tf_state_dict[source + \"bias:0\"] * 0.5\n",
    "            \n",
    "    out_key = \"pick_lstms.1.\" + key\n",
    "    new_state_dict[out_key] = torch.tensor(data)"
   ]
  },
  {
   "cell_type": "code",
   "execution_count": 159,
   "id": "64c0bd78",
   "metadata": {},
   "outputs": [],
   "source": [
    "# Copy attention 0 (P)\n",
    "\n",
    "for key in model.pick_attentions[0].state_dict():\n",
    "    t = key\n",
    "        \n",
    "    source = f\"/model_weights/attentionP/attentionP/attentionP_Add_{t}:0\"\n",
    "    data = tf_state_dict[source]\n",
    "        \n",
    "    new_state_dict[\"pick_attentions.0.\" + key] = torch.tensor(data)"
   ]
  },
  {
   "cell_type": "code",
   "execution_count": 160,
   "id": "bc6bfe8e",
   "metadata": {},
   "outputs": [],
   "source": [
    "# Copy attention 1 (S)\n",
    "\n",
    "for key in model.pick_attentions[1].state_dict():\n",
    "    t = key\n",
    "        \n",
    "    source = f\"/model_weights/attentionS/attentionS/attentionS_Add_{t}:0\"\n",
    "    data = tf_state_dict[source]\n",
    "        \n",
    "    new_state_dict[\"pick_attentions.1.\" + key] = torch.tensor(data)"
   ]
  },
  {
   "cell_type": "code",
   "execution_count": 161,
   "id": "9f7e1809",
   "metadata": {},
   "outputs": [],
   "source": [
    "# Copy decoder 0 (P)\n",
    "\n",
    "for key in model.pick_decoders[0].state_dict():\n",
    "    _, conv_id, t = key.split('.')\n",
    "    \n",
    "    conv_id = int(conv_id) + 32\n",
    "    \n",
    "    source = f\"/model_weights/conv1d_{conv_id}/conv1d_{conv_id}/\"\n",
    "    if t == \"weight\":\n",
    "        data = np.transpose(tf_state_dict[source + \"kernel:0\"], (2, 1, 0))\n",
    "    elif t == \"bias\":\n",
    "        data = tf_state_dict[source + \"bias:0\"]\n",
    "        \n",
    "    new_state_dict[\"pick_decoders.0.\" + key] = torch.tensor(data)"
   ]
  },
  {
   "cell_type": "code",
   "execution_count": 162,
   "id": "f53eefa0",
   "metadata": {},
   "outputs": [],
   "source": [
    "# Copy decoder 1 (S)\n",
    "\n",
    "for key in model.pick_decoders[1].state_dict():\n",
    "    _, conv_id, t = key.split('.')\n",
    "    \n",
    "    conv_id = int(conv_id) + 39\n",
    "    \n",
    "    source = f\"/model_weights/conv1d_{conv_id}/conv1d_{conv_id}/\"\n",
    "    if t == \"weight\":\n",
    "        data = np.transpose(tf_state_dict[source + \"kernel:0\"], (2, 1, 0))\n",
    "    elif t == \"bias\":\n",
    "        data = tf_state_dict[source + \"bias:0\"]\n",
    "        \n",
    "    new_state_dict[\"pick_decoders.1.\" + key] = torch.tensor(data)"
   ]
  },
  {
   "cell_type": "code",
   "execution_count": 163,
   "id": "0ad94490",
   "metadata": {},
   "outputs": [],
   "source": [
    "# Copy final layers\n",
    "data = np.transpose(tf_state_dict[\"/model_weights/picker_P/picker_P/kernel:0\"], (2, 1, 0))\n",
    "new_state_dict[\"pick_convs.0.weight\"] = torch.tensor(data)\n",
    "\n",
    "data = tf_state_dict[\"/model_weights/picker_P/picker_P/bias:0\"]\n",
    "new_state_dict[\"pick_convs.0.bias\"] = torch.tensor(data)\n",
    "\n",
    "data = np.transpose(tf_state_dict[\"/model_weights/picker_S/picker_S/kernel:0\"], (2, 1, 0))\n",
    "new_state_dict[\"pick_convs.1.weight\"] = torch.tensor(data)\n",
    "\n",
    "data = tf_state_dict[\"/model_weights/picker_S/picker_S/bias:0\"]\n",
    "new_state_dict[\"pick_convs.1.bias\"] = torch.tensor(data)\n",
    "\n",
    "data = np.transpose(tf_state_dict[\"/model_weights/detector/detector/kernel:0\"], (2, 1, 0))\n",
    "new_state_dict[\"conv_d.weight\"] = torch.tensor(data)\n",
    "\n",
    "data = tf_state_dict[\"/model_weights/detector/detector/bias:0\"]\n",
    "new_state_dict[\"conv_d.bias\"] = torch.tensor(data)"
   ]
  },
  {
   "cell_type": "code",
   "execution_count": 164,
   "id": "3dd728fd",
   "metadata": {},
   "outputs": [
    {
     "data": {
      "text/plain": [
       "249"
      ]
     },
     "execution_count": 164,
     "metadata": {},
     "output_type": "execute_result"
    }
   ],
   "source": [
    "len(new_state_dict)"
   ]
  },
  {
   "cell_type": "code",
   "execution_count": 165,
   "id": "9305e858",
   "metadata": {},
   "outputs": [
    {
     "data": {
      "text/plain": [
       "249"
      ]
     },
     "execution_count": 165,
     "metadata": {},
     "output_type": "execute_result"
    }
   ],
   "source": [
    "len(pt_state_dict)"
   ]
  },
  {
   "cell_type": "code",
   "execution_count": 166,
   "id": "4bc2cd69",
   "metadata": {
    "scrolled": true
   },
   "outputs": [],
   "source": [
    "for key in new_state_dict.keys():\n",
    "    if pt_state_dict[key].shape != new_state_dict[key].shape:\n",
    "        print(key, pt_state_dict[key].shape, new_state_dict[key].shape)"
   ]
  },
  {
   "cell_type": "code",
   "execution_count": 167,
   "id": "ff872aa5",
   "metadata": {},
   "outputs": [
    {
     "data": {
      "text/plain": [
       "<All keys matched successfully>"
      ]
     },
     "execution_count": 167,
     "metadata": {},
     "output_type": "execute_result"
    }
   ],
   "source": [
    "model.load_state_dict(new_state_dict)"
   ]
  },
  {
   "cell_type": "code",
   "execution_count": 168,
   "id": "187893a7",
   "metadata": {},
   "outputs": [],
   "source": [
    "torch.save(model.state_dict(), \"/home/munchmej/.seisbench/models/eqtransformer/original.pt\")"
   ]
  },
  {
   "cell_type": "code",
   "execution_count": 137,
   "id": "6f11662a",
   "metadata": {},
   "outputs": [
    {
     "data": {
      "text/plain": [
       "EQTransformer(\n",
       "  (encoder): Encoder(\n",
       "    (convs): ModuleList(\n",
       "      (0): Conv1d(3, 8, kernel_size=(11,), stride=(1,), padding=(5,))\n",
       "      (1): Conv1d(8, 16, kernel_size=(9,), stride=(1,), padding=(4,))\n",
       "      (2): Conv1d(16, 16, kernel_size=(7,), stride=(1,), padding=(3,))\n",
       "      (3): Conv1d(16, 32, kernel_size=(7,), stride=(1,), padding=(3,))\n",
       "      (4): Conv1d(32, 32, kernel_size=(5,), stride=(1,), padding=(2,))\n",
       "      (5): Conv1d(32, 64, kernel_size=(5,), stride=(1,), padding=(2,))\n",
       "      (6): Conv1d(64, 64, kernel_size=(3,), stride=(1,), padding=(1,))\n",
       "    )\n",
       "    (pools): ModuleList(\n",
       "      (0): MaxPool1d(kernel_size=2, stride=2, padding=0, dilation=1, ceil_mode=False)\n",
       "      (1): MaxPool1d(kernel_size=2, stride=2, padding=0, dilation=1, ceil_mode=False)\n",
       "      (2): MaxPool1d(kernel_size=2, stride=2, padding=0, dilation=1, ceil_mode=False)\n",
       "      (3): MaxPool1d(kernel_size=2, stride=2, padding=0, dilation=1, ceil_mode=False)\n",
       "      (4): MaxPool1d(kernel_size=2, stride=2, padding=0, dilation=1, ceil_mode=False)\n",
       "      (5): MaxPool1d(kernel_size=2, stride=2, padding=0, dilation=1, ceil_mode=False)\n",
       "      (6): MaxPool1d(kernel_size=2, stride=2, padding=0, dilation=1, ceil_mode=False)\n",
       "    )\n",
       "  )\n",
       "  (res_cnn_stack): ResCNNStack(\n",
       "    (members): ModuleList(\n",
       "      (0): ResCNNBlock(\n",
       "        (dropout): SpatialDropout1d(\n",
       "          (dropout): Dropout2d(p=0.1, inplace=False)\n",
       "        )\n",
       "        (norm1): BatchNorm1d(64, eps=0.001, momentum=0.1, affine=True, track_running_stats=True)\n",
       "        (conv1): Conv1d(64, 64, kernel_size=(3,), stride=(1,), padding=(1,))\n",
       "        (norm2): BatchNorm1d(64, eps=0.001, momentum=0.1, affine=True, track_running_stats=True)\n",
       "        (conv2): Conv1d(64, 64, kernel_size=(3,), stride=(1,), padding=(1,))\n",
       "      )\n",
       "      (1): ResCNNBlock(\n",
       "        (dropout): SpatialDropout1d(\n",
       "          (dropout): Dropout2d(p=0.1, inplace=False)\n",
       "        )\n",
       "        (norm1): BatchNorm1d(64, eps=0.001, momentum=0.1, affine=True, track_running_stats=True)\n",
       "        (conv1): Conv1d(64, 64, kernel_size=(3,), stride=(1,), padding=(1,))\n",
       "        (norm2): BatchNorm1d(64, eps=0.001, momentum=0.1, affine=True, track_running_stats=True)\n",
       "        (conv2): Conv1d(64, 64, kernel_size=(3,), stride=(1,), padding=(1,))\n",
       "      )\n",
       "      (2): ResCNNBlock(\n",
       "        (dropout): SpatialDropout1d(\n",
       "          (dropout): Dropout2d(p=0.1, inplace=False)\n",
       "        )\n",
       "        (norm1): BatchNorm1d(64, eps=0.001, momentum=0.1, affine=True, track_running_stats=True)\n",
       "        (conv1): Conv1d(64, 64, kernel_size=(3,), stride=(1,), padding=(1,))\n",
       "        (norm2): BatchNorm1d(64, eps=0.001, momentum=0.1, affine=True, track_running_stats=True)\n",
       "        (conv2): Conv1d(64, 64, kernel_size=(3,), stride=(1,), padding=(1,))\n",
       "      )\n",
       "      (3): ResCNNBlock(\n",
       "        (dropout): SpatialDropout1d(\n",
       "          (dropout): Dropout2d(p=0.1, inplace=False)\n",
       "        )\n",
       "        (norm1): BatchNorm1d(64, eps=0.001, momentum=0.1, affine=True, track_running_stats=True)\n",
       "        (conv1): Conv1d(64, 64, kernel_size=(3,), stride=(1,), padding=(1,))\n",
       "        (norm2): BatchNorm1d(64, eps=0.001, momentum=0.1, affine=True, track_running_stats=True)\n",
       "        (conv2): Conv1d(64, 64, kernel_size=(3,), stride=(1,), padding=(1,))\n",
       "      )\n",
       "      (4): ResCNNBlock(\n",
       "        (dropout): SpatialDropout1d(\n",
       "          (dropout): Dropout2d(p=0.1, inplace=False)\n",
       "        )\n",
       "        (norm1): BatchNorm1d(64, eps=0.001, momentum=0.1, affine=True, track_running_stats=True)\n",
       "        (conv1): Conv1d(64, 64, kernel_size=(2,), stride=(1,))\n",
       "        (norm2): BatchNorm1d(64, eps=0.001, momentum=0.1, affine=True, track_running_stats=True)\n",
       "        (conv2): Conv1d(64, 64, kernel_size=(2,), stride=(1,))\n",
       "      )\n",
       "      (5): ResCNNBlock(\n",
       "        (dropout): SpatialDropout1d(\n",
       "          (dropout): Dropout2d(p=0.1, inplace=False)\n",
       "        )\n",
       "        (norm1): BatchNorm1d(64, eps=0.001, momentum=0.1, affine=True, track_running_stats=True)\n",
       "        (conv1): Conv1d(64, 64, kernel_size=(3,), stride=(1,), padding=(1,))\n",
       "        (norm2): BatchNorm1d(64, eps=0.001, momentum=0.1, affine=True, track_running_stats=True)\n",
       "        (conv2): Conv1d(64, 64, kernel_size=(3,), stride=(1,), padding=(1,))\n",
       "      )\n",
       "      (6): ResCNNBlock(\n",
       "        (dropout): SpatialDropout1d(\n",
       "          (dropout): Dropout2d(p=0.1, inplace=False)\n",
       "        )\n",
       "        (norm1): BatchNorm1d(64, eps=0.001, momentum=0.1, affine=True, track_running_stats=True)\n",
       "        (conv1): Conv1d(64, 64, kernel_size=(2,), stride=(1,))\n",
       "        (norm2): BatchNorm1d(64, eps=0.001, momentum=0.1, affine=True, track_running_stats=True)\n",
       "        (conv2): Conv1d(64, 64, kernel_size=(2,), stride=(1,))\n",
       "      )\n",
       "    )\n",
       "  )\n",
       "  (bi_lstm_stack): BiLSTMStack(\n",
       "    (members): ModuleList(\n",
       "      (0): BiLSTMBlock(\n",
       "        (lstm): CustomLSTM(\n",
       "          (cell_f): ActivationLSTMCell()\n",
       "          (cell_b): ActivationLSTMCell()\n",
       "        )\n",
       "        (dropout): Dropout(p=0.1, inplace=False)\n",
       "        (conv): Conv1d(32, 16, kernel_size=(1,), stride=(1,))\n",
       "        (norm): BatchNorm1d(16, eps=0.001, momentum=0.1, affine=True, track_running_stats=True)\n",
       "      )\n",
       "      (1): BiLSTMBlock(\n",
       "        (lstm): CustomLSTM(\n",
       "          (cell_f): ActivationLSTMCell()\n",
       "          (cell_b): ActivationLSTMCell()\n",
       "        )\n",
       "        (dropout): Dropout(p=0.1, inplace=False)\n",
       "        (conv): Conv1d(32, 16, kernel_size=(1,), stride=(1,))\n",
       "        (norm): BatchNorm1d(16, eps=0.001, momentum=0.1, affine=True, track_running_stats=True)\n",
       "      )\n",
       "      (2): BiLSTMBlock(\n",
       "        (lstm): CustomLSTM(\n",
       "          (cell_f): ActivationLSTMCell()\n",
       "          (cell_b): ActivationLSTMCell()\n",
       "        )\n",
       "        (dropout): Dropout(p=0.1, inplace=False)\n",
       "        (conv): Conv1d(32, 16, kernel_size=(1,), stride=(1,))\n",
       "        (norm): BatchNorm1d(16, eps=0.001, momentum=0.1, affine=True, track_running_stats=True)\n",
       "      )\n",
       "    )\n",
       "  )\n",
       "  (transformer_d0): Transformer(\n",
       "    (attention): SeqSelfAttention()\n",
       "    (norm1): LayerNormalization()\n",
       "    (ff): FeedForward(\n",
       "      (lin1): Linear(in_features=16, out_features=128, bias=True)\n",
       "      (lin2): Linear(in_features=128, out_features=16, bias=True)\n",
       "      (dropout): Dropout(p=0.1, inplace=False)\n",
       "    )\n",
       "    (norm2): LayerNormalization()\n",
       "  )\n",
       "  (transformer_d): Transformer(\n",
       "    (attention): SeqSelfAttention()\n",
       "    (norm1): LayerNormalization()\n",
       "    (ff): FeedForward(\n",
       "      (lin1): Linear(in_features=16, out_features=128, bias=True)\n",
       "      (lin2): Linear(in_features=128, out_features=16, bias=True)\n",
       "      (dropout): Dropout(p=0.1, inplace=False)\n",
       "    )\n",
       "    (norm2): LayerNormalization()\n",
       "  )\n",
       "  (decoder_d): Decoder(\n",
       "    (upsample): Upsample(scale_factor=2.0, mode=nearest)\n",
       "    (convs): ModuleList(\n",
       "      (0): Conv1d(16, 64, kernel_size=(3,), stride=(1,), padding=(1,))\n",
       "      (1): Conv1d(64, 64, kernel_size=(5,), stride=(1,), padding=(2,))\n",
       "      (2): Conv1d(64, 32, kernel_size=(5,), stride=(1,), padding=(2,))\n",
       "      (3): Conv1d(32, 32, kernel_size=(7,), stride=(1,), padding=(3,))\n",
       "      (4): Conv1d(32, 16, kernel_size=(7,), stride=(1,), padding=(3,))\n",
       "      (5): Conv1d(16, 16, kernel_size=(9,), stride=(1,), padding=(4,))\n",
       "      (6): Conv1d(16, 8, kernel_size=(11,), stride=(1,), padding=(5,))\n",
       "    )\n",
       "  )\n",
       "  (conv_d): Conv1d(8, 1, kernel_size=(11,), stride=(1,), padding=(5,))\n",
       "  (dropout): Dropout(p=0.1, inplace=False)\n",
       "  (pick_lstms): ModuleList(\n",
       "    (0): CustomLSTM(\n",
       "      (cell_f): ActivationLSTMCell()\n",
       "    )\n",
       "    (1): CustomLSTM(\n",
       "      (cell_f): ActivationLSTMCell()\n",
       "    )\n",
       "  )\n",
       "  (pick_attentions): ModuleList(\n",
       "    (0): SeqSelfAttention()\n",
       "    (1): SeqSelfAttention()\n",
       "  )\n",
       "  (pick_decoders): ModuleList(\n",
       "    (0): Decoder(\n",
       "      (upsample): Upsample(scale_factor=2.0, mode=nearest)\n",
       "      (convs): ModuleList(\n",
       "        (0): Conv1d(16, 64, kernel_size=(3,), stride=(1,), padding=(1,))\n",
       "        (1): Conv1d(64, 64, kernel_size=(5,), stride=(1,), padding=(2,))\n",
       "        (2): Conv1d(64, 32, kernel_size=(5,), stride=(1,), padding=(2,))\n",
       "        (3): Conv1d(32, 32, kernel_size=(7,), stride=(1,), padding=(3,))\n",
       "        (4): Conv1d(32, 16, kernel_size=(7,), stride=(1,), padding=(3,))\n",
       "        (5): Conv1d(16, 16, kernel_size=(9,), stride=(1,), padding=(4,))\n",
       "        (6): Conv1d(16, 8, kernel_size=(11,), stride=(1,), padding=(5,))\n",
       "      )\n",
       "    )\n",
       "    (1): Decoder(\n",
       "      (upsample): Upsample(scale_factor=2.0, mode=nearest)\n",
       "      (convs): ModuleList(\n",
       "        (0): Conv1d(16, 64, kernel_size=(3,), stride=(1,), padding=(1,))\n",
       "        (1): Conv1d(64, 64, kernel_size=(5,), stride=(1,), padding=(2,))\n",
       "        (2): Conv1d(64, 32, kernel_size=(5,), stride=(1,), padding=(2,))\n",
       "        (3): Conv1d(32, 32, kernel_size=(7,), stride=(1,), padding=(3,))\n",
       "        (4): Conv1d(32, 16, kernel_size=(7,), stride=(1,), padding=(3,))\n",
       "        (5): Conv1d(16, 16, kernel_size=(9,), stride=(1,), padding=(4,))\n",
       "        (6): Conv1d(16, 8, kernel_size=(11,), stride=(1,), padding=(5,))\n",
       "      )\n",
       "    )\n",
       "  )\n",
       "  (pick_convs): ModuleList(\n",
       "    (0): Conv1d(8, 1, kernel_size=(11,), stride=(1,), padding=(5,))\n",
       "    (1): Conv1d(8, 1, kernel_size=(11,), stride=(1,), padding=(5,))\n",
       "  )\n",
       ")"
      ]
     },
     "execution_count": 137,
     "metadata": {},
     "output_type": "execute_result"
    }
   ],
   "source": [
    "model"
   ]
  },
  {
   "cell_type": "code",
   "execution_count": 138,
   "id": "bff9e126",
   "metadata": {},
   "outputs": [],
   "source": [
    "import seisbench.data"
   ]
  },
  {
   "cell_type": "code",
   "execution_count": 182,
   "id": "1ffb5284",
   "metadata": {},
   "outputs": [],
   "source": [
    "dummy = seisbench.data.DummyDataset(component_order='ENZ')"
   ]
  },
  {
   "cell_type": "code",
   "execution_count": 183,
   "id": "780e1924",
   "metadata": {},
   "outputs": [],
   "source": [
    "wv = dummy.get_waveforms([np.random.randint(100)], sampling_rate=100)\n",
    "\n",
    "wv -= np.mean(wv, axis=-1, keepdims=True)\n",
    "wv /= np.amax(wv)"
   ]
  },
  {
   "cell_type": "code",
   "execution_count": 184,
   "id": "0253b75d",
   "metadata": {},
   "outputs": [],
   "source": [
    "with h5py.File(\"/home/munchmej/code/EQTransformer/ModelsAndSampleData/100samples.hdf5\", \"r\") as f:\n",
    "    wv = f['data']['109C.TA_20060723155859_EV'][()]\n",
    "    \n",
    "wv -= np.mean(wv, axis=-1, keepdims=True)\n",
    "wv /= np.amax(wv)\n",
    "wv = wv.T.reshape(1, 3, 6000)"
   ]
  },
  {
   "cell_type": "code",
   "execution_count": 185,
   "id": "f891057a",
   "metadata": {},
   "outputs": [
    {
     "data": {
      "text/plain": [
       "<matplotlib.legend.Legend at 0x7fbbb85cbdd0>"
      ]
     },
     "execution_count": 185,
     "metadata": {},
     "output_type": "execute_result"
    },
    {
     "data": {
      "image/png": "[encoded data removed]",
      "text/plain": [
       "<Figure size 1080x720 with 2 Axes>"
      ]
     },
     "metadata": {
      "needs_background": "light"
     },
     "output_type": "display_data"
    }
   ],
   "source": [
    "model.eval()\n",
    "with torch.no_grad():\n",
    "    det, p, s, _ = model(torch.tensor(wv[:, [2, 1, 0]], dtype=torch.float32))\n",
    "    det = det.numpy()\n",
    "    p = p.numpy()\n",
    "    s = s.numpy()\n",
    "\n",
    "fig = plt.figure(figsize=(15, 10))\n",
    "ax, ax2 = fig.subplots(2, 1, sharex=True)\n",
    "\n",
    "ax.plot(wv[0, 0])\n",
    "ax.plot(wv[0, 1])\n",
    "ax.plot(wv[0, 2])\n",
    "ax2.plot(det[0], label=\"Detection\")\n",
    "ax2.plot(p[0], label=\"P\")\n",
    "ax2.plot(s[0], label=\"S\")\n",
    "# ax2.plot(p[0] / np.max(p[0, 100:-100]), label=\"P\")\n",
    "# ax2.plot(s[0] / np.max(s[0, 100:-100]), label=\"S\")\n",
    "ax2.set_ylim(-0.05, 1.05)\n",
    "ax2.legend()"
   ]
  },
  {
   "cell_type": "code",
   "execution_count": 52,
   "id": "ae595b7d",
   "metadata": {},
   "outputs": [],
   "source": [
    "from keras.models import load_model\n",
    "from keras.layers import Dropout, Lambda\n",
    "\n",
    "from EQTransformer.core.EqT_utils import SeqSelfAttention, FeedForward, f1, LayerNormalization\n",
    "\n",
    "class DropoutMock(Dropout):\n",
    "    def __init__(self, *arg, **kwargs):\n",
    "        super().__init__(rate=0)\n",
    "\n",
    "custom_objects = {'SeqSelfAttention': SeqSelfAttention, 'FeedForward': FeedForward, 'f1': f1, 'LayerNormalization': LayerNormalization, 'SpatialDropout1D': DropoutMock}\n",
    "tf_model = load_model('/home/munchmej/code/EQTransformer/ModelsAndSampleData/EqT_model.h5', custom_objects=custom_objects)"
   ]
  },
  {
   "cell_type": "code",
   "execution_count": 53,
   "id": "de1620ea",
   "metadata": {},
   "outputs": [],
   "source": [
    "from keras.optimizers import Adam"
   ]
  },
  {
   "cell_type": "code",
   "execution_count": 171,
   "id": "3efdb2af",
   "metadata": {},
   "outputs": [],
   "source": [
    "tf_model.compile(optimizer=Adam())"
   ]
  },
  {
   "cell_type": "code",
   "execution_count": 186,
   "id": "e6dfd344",
   "metadata": {},
   "outputs": [
    {
     "data": {
      "text/plain": [
       "<matplotlib.legend.Legend at 0x7fbbc1ee1250>"
      ]
     },
     "execution_count": 186,
     "metadata": {},
     "output_type": "execute_result"
    },
    {
     "data": {
      "image/png": "[encoded data removed]",
      "text/plain": [
       "<Figure size 1080x720 with 2 Axes>"
      ]
     },
     "metadata": {
      "needs_background": "light"
     },
     "output_type": "display_data"
    }
   ],
   "source": [
    "tf_det, tf_p, tf_s = tf_model.predict(np.transpose(wv, (0, 2, 1)))\n",
    "\n",
    "fig = plt.figure(figsize=(15, 10))\n",
    "ax, ax2 = fig.subplots(2, 1, sharex=True)\n",
    "\n",
    "ax.plot(wv[0, 0])\n",
    "ax.plot(wv[0, 1])\n",
    "ax.plot(wv[0, 2])\n",
    "ax2.plot(tf_det[0, :, 0], label=\"Detection\")\n",
    "ax2.plot(tf_p[0, :, 0], label=\"P\")\n",
    "ax2.plot(tf_s[0, :, 0], label=\"S\")\n",
    "ax2.set_ylim(-0.05, 1.05)\n",
    "ax2.legend()"
   ]
  },
  {
   "cell_type": "code",
   "execution_count": 187,
   "id": "8a9062e3",
   "metadata": {},
   "outputs": [
    {
     "data": {
      "text/plain": [
       "[<matplotlib.lines.Line2D at 0x7fbbd3db0f90>]"
      ]
     },
     "execution_count": 187,
     "metadata": {},
     "output_type": "execute_result"
    },
    {
     "data": {
      "image/png": "[encoded data removed]",
      "text/plain": [
       "<Figure size 432x288 with 1 Axes>"
      ]
     },
     "metadata": {
      "needs_background": "light"
     },
     "output_type": "display_data"
    }
   ],
   "source": [
    "plt.plot(tf_det[0, :, 0] - det[0, :])"
   ]
  },
  {
   "cell_type": "code",
   "execution_count": 188,
   "id": "dabc42d0",
   "metadata": {},
   "outputs": [
    {
     "data": {
      "text/plain": [
       "[<matplotlib.lines.Line2D at 0x7fbbd701e310>]"
      ]
     },
     "execution_count": 188,
     "metadata": {},
     "output_type": "execute_result"
    },
    {
     "data": {
      "image/png": "[encoded data removed]",
      "text/plain": [
       "<Figure size 432x288 with 1 Axes>"
      ]
     },
     "metadata": {
      "needs_background": "light"
     },
     "output_type": "display_data"
    }
   ],
   "source": [
    "plt.plot(tf_p[0, :, 0] - p[0, :])"
   ]
  },
  {
   "cell_type": "code",
   "execution_count": 189,
   "id": "d55cc014",
   "metadata": {},
   "outputs": [
    {
     "data": {
      "text/plain": [
       "[<matplotlib.lines.Line2D at 0x7fbd10ca18d0>]"
      ]
     },
     "execution_count": 189,
     "metadata": {},
     "output_type": "execute_result"
    },
    {
     "data": {
      "image/png": "[encoded data removed]",
      "text/plain": [
       "<Figure size 432x288 with 1 Axes>"
      ]
     },
     "metadata": {
      "needs_background": "light"
     },
     "output_type": "display_data"
    }
   ],
   "source": [
    "plt.plot(tf_s[0, :, 0] - s[0, :])"
   ]
  },
  {
   "cell_type": "code",
   "execution_count": 59,
   "id": "538a3955",
   "metadata": {},
   "outputs": [],
   "source": [
    "# With a Keras function\n",
    "get_all_layer_outputs = K.function([tf_model.layers[0].input] + [K.learning_phase()],\n",
    "                                   [l.output for l in tf_model.layers])\n",
    "\n",
    "layer_output = get_all_layer_outputs([np.transpose(wv, (0, 2, 1))] + [0]) # return the same thing"
   ]
  },
  {
   "cell_type": "code",
   "execution_count": 60,
   "id": "81a3160a",
   "metadata": {},
   "outputs": [
    {
     "data": {
      "text/plain": [
       "151"
      ]
     },
     "execution_count": 60,
     "metadata": {},
     "output_type": "execute_result"
    }
   ],
   "source": [
    "len(layer_output)"
   ]
  },
  {
   "cell_type": "code",
   "execution_count": 61,
   "id": "7aaa516b",
   "metadata": {},
   "outputs": [
    {
     "data": {
      "text/plain": [
       "151"
      ]
     },
     "execution_count": 61,
     "metadata": {},
     "output_type": "execute_result"
    }
   ],
   "source": [
    "len(tf_model.layers)"
   ]
  },
  {
   "cell_type": "code",
   "execution_count": 62,
   "id": "90621372",
   "metadata": {},
   "outputs": [
    {
     "name": "stdout",
     "output_type": "stream",
     "text": [
      "0 input\n",
      "1 conv1d_1\n",
      "2 max_pooling1d_1\n",
      "3 conv1d_2\n",
      "4 max_pooling1d_2\n",
      "5 conv1d_3\n",
      "6 max_pooling1d_3\n",
      "7 conv1d_4\n",
      "8 max_pooling1d_4\n",
      "9 conv1d_5\n",
      "10 max_pooling1d_5\n",
      "11 conv1d_6\n",
      "12 max_pooling1d_6\n",
      "13 conv1d_7\n",
      "14 max_pooling1d_7\n",
      "15 batch_normalization_1\n",
      "16 activation_1\n",
      "17 dropout_mock_1\n",
      "18 conv1d_8\n",
      "19 batch_normalization_2\n",
      "20 activation_2\n",
      "21 dropout_mock_2\n",
      "22 conv1d_9\n",
      "23 add_1\n",
      "24 batch_normalization_3\n",
      "25 activation_3\n",
      "26 dropout_mock_3\n",
      "27 conv1d_10\n",
      "28 batch_normalization_4\n",
      "29 activation_4\n",
      "30 dropout_mock_4\n",
      "31 conv1d_11\n",
      "32 add_2\n",
      "33 batch_normalization_5\n",
      "34 activation_5\n",
      "35 dropout_mock_5\n",
      "36 conv1d_12\n",
      "37 batch_normalization_6\n",
      "38 activation_6\n",
      "39 dropout_mock_6\n",
      "40 conv1d_13\n",
      "41 add_3\n",
      "42 batch_normalization_7\n",
      "43 activation_7\n",
      "44 dropout_mock_7\n",
      "45 conv1d_14\n",
      "46 batch_normalization_8\n",
      "47 activation_8\n",
      "48 dropout_mock_8\n",
      "49 conv1d_15\n",
      "50 add_4\n",
      "51 batch_normalization_9\n",
      "52 activation_9\n",
      "53 dropout_mock_9\n",
      "54 conv1d_16\n",
      "55 batch_normalization_10\n",
      "56 activation_10\n",
      "57 dropout_mock_10\n",
      "58 conv1d_17\n",
      "59 add_5\n",
      "60 batch_normalization_11\n",
      "61 activation_11\n",
      "62 dropout_mock_11\n",
      "63 conv1d_18\n",
      "64 batch_normalization_12\n",
      "65 activation_12\n",
      "66 dropout_mock_12\n",
      "67 conv1d_19\n",
      "68 add_6\n",
      "69 batch_normalization_13\n",
      "70 activation_13\n",
      "71 dropout_mock_13\n",
      "72 conv1d_20\n",
      "73 batch_normalization_14\n",
      "74 activation_14\n",
      "75 dropout_mock_14\n",
      "76 conv1d_21\n",
      "77 add_7\n",
      "78 bidirectional_1\n",
      "79 conv1d_22\n",
      "80 batch_normalization_15\n",
      "81 bidirectional_2\n",
      "82 conv1d_23\n",
      "83 batch_normalization_16\n",
      "84 bidirectional_3\n",
      "85 conv1d_24\n",
      "86 batch_normalization_17\n",
      "87 attentionD0\n",
      "88 add_8\n",
      "89 layer_normalization_1\n",
      "90 feed_forward_1\n",
      "91 add_9\n",
      "92 layer_normalization_2\n",
      "93 attentionD\n",
      "94 add_10\n",
      "95 layer_normalization_3\n",
      "96 feed_forward_2\n",
      "97 add_11\n",
      "98 layer_normalization_4\n",
      "99 lstm_4\n",
      "100 lstm_5\n",
      "101 attentionP\n",
      "102 attentionS\n",
      "103 up_sampling1d_1\n",
      "104 up_sampling1d_8\n",
      "105 up_sampling1d_15\n",
      "106 conv1d_25\n",
      "107 conv1d_32\n",
      "108 conv1d_39\n",
      "109 up_sampling1d_2\n",
      "110 up_sampling1d_9\n",
      "111 up_sampling1d_16\n",
      "112 conv1d_26\n",
      "113 conv1d_33\n",
      "114 conv1d_40\n",
      "115 up_sampling1d_3\n",
      "116 up_sampling1d_10\n",
      "117 up_sampling1d_17\n",
      "118 conv1d_27\n",
      "119 conv1d_34\n",
      "120 conv1d_41\n",
      "121 up_sampling1d_4\n",
      "122 up_sampling1d_11\n",
      "123 up_sampling1d_18\n",
      "124 cropping1d_1\n",
      "125 cropping1d_2\n",
      "126 cropping1d_3\n",
      "127 conv1d_28\n",
      "128 conv1d_35\n",
      "129 conv1d_42\n",
      "130 up_sampling1d_5\n",
      "131 up_sampling1d_12\n",
      "132 up_sampling1d_19\n",
      "133 conv1d_29\n",
      "134 conv1d_36\n",
      "135 conv1d_43\n",
      "136 up_sampling1d_6\n",
      "137 up_sampling1d_13\n",
      "138 up_sampling1d_20\n",
      "139 conv1d_30\n",
      "140 conv1d_37\n",
      "141 conv1d_44\n",
      "142 up_sampling1d_7\n",
      "143 up_sampling1d_14\n",
      "144 up_sampling1d_21\n",
      "145 conv1d_31\n",
      "146 conv1d_38\n",
      "147 conv1d_45\n",
      "148 detector\n",
      "149 picker_P\n",
      "150 picker_S\n"
     ]
    }
   ],
   "source": [
    "for i, layer in enumerate(tf_model.layers):\n",
    "    print(i, layer.name)"
   ]
  },
  {
   "cell_type": "code",
   "execution_count": 94,
   "id": "f8721afb",
   "metadata": {},
   "outputs": [],
   "source": [
    "model.eval()\n",
    "with torch.no_grad():\n",
    "    det, p, s, layerout = model(torch.tensor(wv, dtype=torch.float32))\n",
    "    layerout = layerout.numpy()"
   ]
  },
  {
   "cell_type": "code",
   "execution_count": 95,
   "id": "98487e04",
   "metadata": {},
   "outputs": [
    {
     "name": "stdout",
     "output_type": "stream",
     "text": [
      "<keras.layers.convolutional.Conv1D object at 0x7fbd10bab1d0>\n",
      "(1, 376, 32)\n"
     ]
    }
   ],
   "source": [
    "layer_idx = 118\n",
    "print(tf_model.layers[layer_idx])\n",
    "tf_out = layer_output[layer_idx]\n",
    "print(tf_out.shape)"
   ]
  },
  {
   "cell_type": "code",
   "execution_count": 96,
   "id": "33e487dc",
   "metadata": {},
   "outputs": [
    {
     "data": {
      "text/plain": [
       "array([[ 0.        ,  0.        ,  0.        , ...,  0.        ,\n",
       "         0.        ,  0.10411607],\n",
       "       [ 0.        ,  0.        ,  0.        , ...,  0.        ,\n",
       "         0.        ,  0.15269679],\n",
       "       [ 0.        ,  0.        ,  0.        , ...,  0.        ,\n",
       "         0.        ,  0.16697207],\n",
       "       ..., \n",
       "       [ 0.        ,  0.        ,  0.        , ...,  0.        ,\n",
       "         0.        ,  0.        ],\n",
       "       [ 0.        ,  0.        ,  0.        , ...,  0.        ,\n",
       "         0.        ,  0.        ],\n",
       "       [ 0.        ,  0.        ,  0.        , ...,  0.        ,\n",
       "         0.        ,  0.        ]], dtype=float32)"
      ]
     },
     "execution_count": 96,
     "metadata": {},
     "output_type": "execute_result"
    }
   ],
   "source": [
    "layerout[0].T"
   ]
  },
  {
   "cell_type": "code",
   "execution_count": 97,
   "id": "adbb7676",
   "metadata": {},
   "outputs": [
    {
     "data": {
      "text/plain": [
       "array([[ 0.        ,  0.        ,  0.        , ...,  0.        ,\n",
       "         0.        ,  0.10411607],\n",
       "       [ 0.        ,  0.        ,  0.        , ...,  0.        ,\n",
       "         0.        ,  0.1526968 ],\n",
       "       [ 0.        ,  0.        ,  0.        , ...,  0.        ,\n",
       "         0.        ,  0.16697209],\n",
       "       ..., \n",
       "       [ 0.        ,  0.        ,  0.        , ...,  0.        ,\n",
       "         0.        ,  0.        ],\n",
       "       [ 0.        ,  0.        ,  0.        , ...,  0.        ,\n",
       "         0.        ,  0.        ],\n",
       "       [ 0.        ,  0.        ,  0.        , ...,  0.        ,\n",
       "         0.        ,  0.        ]], dtype=float32)"
      ]
     },
     "execution_count": 97,
     "metadata": {},
     "output_type": "execute_result"
    }
   ],
   "source": [
    "tf_out[0]"
   ]
  },
  {
   "cell_type": "code",
   "execution_count": 98,
   "id": "e79a3c1b",
   "metadata": {},
   "outputs": [
    {
     "data": {
      "text/plain": [
       "<matplotlib.image.AxesImage at 0x7fbbc10824d0>"
      ]
     },
     "execution_count": 98,
     "metadata": {},
     "output_type": "execute_result"
    },
    {
     "data": {
      "image/png": "[encoded data removed]",
      "text/plain": [
       "<Figure size 432x288 with 1 Axes>"
      ]
     },
     "metadata": {
      "needs_background": "light"
     },
     "output_type": "display_data"
    }
   ],
   "source": [
    "plt.imshow(tf_out[0])"
   ]
  },
  {
   "cell_type": "code",
   "execution_count": 99,
   "id": "663e6a94",
   "metadata": {},
   "outputs": [
    {
     "data": {
      "text/plain": [
       "<matplotlib.image.AxesImage at 0x7fbbc1056750>"
      ]
     },
     "execution_count": 99,
     "metadata": {},
     "output_type": "execute_result"
    },
    {
     "data": {
      "image/png": "[encoded data removed]",
      "text/plain": [
       "<Figure size 432x288 with 1 Axes>"
      ]
     },
     "metadata": {
      "needs_background": "light"
     },
     "output_type": "display_data"
    }
   ],
   "source": [
    "plt.imshow(layerout[0].T)"
   ]
  },
  {
   "cell_type": "code",
   "execution_count": 100,
   "id": "f3ad38c2",
   "metadata": {
    "scrolled": false
   },
   "outputs": [
    {
     "ename": "ValueError",
     "evalue": "operands could not be broadcast together with shapes (376,32) (375,32) ",
     "output_type": "error",
     "traceback": [
      "\u001b[0;31m---------------------------------------------------------------------------\u001b[0m",
      "\u001b[0;31mValueError\u001b[0m                                Traceback (most recent call last)",
      "\u001b[0;32m<ipython-input-100-7c73f80d36d1>\u001b[0m in \u001b[0;36m<module>\u001b[0;34m\u001b[0m\n\u001b[0;32m----> 1\u001b[0;31m \u001b[0mdiff\u001b[0m \u001b[0;34m=\u001b[0m \u001b[0mtf_out\u001b[0m\u001b[0;34m[\u001b[0m\u001b[0;36m0\u001b[0m\u001b[0;34m]\u001b[0m \u001b[0;34m-\u001b[0m \u001b[0mlayerout\u001b[0m\u001b[0;34m[\u001b[0m\u001b[0;36m0\u001b[0m\u001b[0;34m]\u001b[0m\u001b[0;34m.\u001b[0m\u001b[0mT\u001b[0m\u001b[0;34m\u001b[0m\u001b[0;34m\u001b[0m\u001b[0m\n\u001b[0m\u001b[1;32m      2\u001b[0m \u001b[0mcb\u001b[0m \u001b[0;34m=\u001b[0m \u001b[0mplt\u001b[0m\u001b[0;34m.\u001b[0m\u001b[0mimshow\u001b[0m\u001b[0;34m(\u001b[0m\u001b[0mdiff\u001b[0m\u001b[0;34m)\u001b[0m\u001b[0;34m\u001b[0m\u001b[0;34m\u001b[0m\u001b[0m\n\u001b[1;32m      3\u001b[0m \u001b[0mplt\u001b[0m\u001b[0;34m.\u001b[0m\u001b[0mcolorbar\u001b[0m\u001b[0;34m(\u001b[0m\u001b[0mcb\u001b[0m\u001b[0;34m)\u001b[0m\u001b[0;34m\u001b[0m\u001b[0;34m\u001b[0m\u001b[0m\n\u001b[1;32m      4\u001b[0m \u001b[0mprint\u001b[0m\u001b[0;34m(\u001b[0m\u001b[0mnp\u001b[0m\u001b[0;34m.\u001b[0m\u001b[0mmax\u001b[0m\u001b[0;34m(\u001b[0m\u001b[0mnp\u001b[0m\u001b[0;34m.\u001b[0m\u001b[0mabs\u001b[0m\u001b[0;34m(\u001b[0m\u001b[0mdiff\u001b[0m\u001b[0;34m)\u001b[0m\u001b[0;34m)\u001b[0m\u001b[0;34m)\u001b[0m\u001b[0;34m\u001b[0m\u001b[0;34m\u001b[0m\u001b[0m\n",
      "\u001b[0;31mValueError\u001b[0m: operands could not be broadcast together with shapes (376,32) (375,32) "
     ]
    }
   ],
   "source": [
    "diff = tf_out[0] - layerout[0].T\n",
    "cb = plt.imshow(diff)\n",
    "plt.colorbar(cb)\n",
    "print(np.max(np.abs(diff)))"
   ]
  },
  {
   "cell_type": "code",
   "execution_count": null,
   "id": "4e561d79",
   "metadata": {},
   "outputs": [],
   "source": [
    "fig = plt.figure(figsize=(15, 10))\n",
    "ax = fig.add_subplot(111)\n",
    "idx = 12\n",
    "\n",
    "ax.plot(layerout[0, idx], label='pytorch')\n",
    "ax.plot(tf_out[0, :, idx], label='tf')\n",
    "ax.legend()"
   ]
  },
  {
   "cell_type": "code",
   "execution_count": 246,
   "id": "386a5e34",
   "metadata": {},
   "outputs": [],
   "source": [
    "layer = tf_model.layers[layer_idx]"
   ]
  },
  {
   "cell_type": "code",
   "execution_count": 247,
   "id": "d20eb359",
   "metadata": {},
   "outputs": [
    {
     "data": {
      "text/plain": [
       "{'name': 'lstm_5',\n",
       " 'trainable': True,\n",
       " 'dtype': 'float32',\n",
       " 'return_sequences': True,\n",
       " 'return_state': False,\n",
       " 'go_backwards': False,\n",
       " 'stateful': False,\n",
       " 'unroll': False,\n",
       " 'units': 16,\n",
       " 'activation': 'tanh',\n",
       " 'recurrent_activation': 'hard_sigmoid',\n",
       " 'use_bias': True,\n",
       " 'kernel_initializer': {'class_name': 'VarianceScaling',\n",
       "  'config': {'scale': 1.0,\n",
       "   'mode': 'fan_avg',\n",
       "   'distribution': 'uniform',\n",
       "   'seed': None}},\n",
       " 'recurrent_initializer': {'class_name': 'Orthogonal',\n",
       "  'config': {'gain': 1.0, 'seed': None}},\n",
       " 'bias_initializer': {'class_name': 'Zeros', 'config': {}},\n",
       " 'unit_forget_bias': True,\n",
       " 'kernel_regularizer': None,\n",
       " 'recurrent_regularizer': None,\n",
       " 'bias_regularizer': None,\n",
       " 'activity_regularizer': None,\n",
       " 'kernel_constraint': None,\n",
       " 'recurrent_constraint': None,\n",
       " 'bias_constraint': None,\n",
       " 'dropout': 0.1,\n",
       " 'recurrent_dropout': 0.1,\n",
       " 'implementation': 1}"
      ]
     },
     "execution_count": 247,
     "metadata": {},
     "output_type": "execute_result"
    }
   ],
   "source": [
    "layer.get_config()"
   ]
  },
  {
   "cell_type": "code",
   "execution_count": null,
   "id": "1a8e7123",
   "metadata": {},
   "outputs": [],
   "source": []
  }
 ],
 "metadata": {
  "kernelspec": {
   "display_name": "Python 3",
   "language": "python",
   "name": "python3"
  },
  "language_info": {
   "codemirror_mode": {
    "name": "ipython",
    "version": 3
   },
   "file_extension": ".py",
   "mimetype": "text/x-python",
   "name": "python",
   "nbconvert_exporter": "python",
   "pygments_lexer": "ipython3",
   "version": "3.7.10"
  }
 },
 "nbformat": 4,
 "nbformat_minor": 5
}
